{
 "cells": [
  {
   "cell_type": "code",
   "execution_count": 1,
   "metadata": {},
   "outputs": [
    {
     "name": "stdout",
     "output_type": "stream",
     "text": [
      "Clean everything.\n",
      "Python version:  3.8.8 (default, Apr 13 2021, 19:58:26) \n",
      "[GCC 7.3.0]\n",
      "This is the name of the script:  /home/hrluo/.local/lib/python3.8/site-packages/ipykernel_launcher.py\n",
      "['/home/hrluo/.local/lib/python3.8/site-packages/ipykernel_launcher.py', '-f', '/home/hrluo/.local/share/jupyter/runtime/kernel-3e26082a-b082-4676-b659-648fdcdd7d85.json']\n",
      "numpy version:  1.20.3\n",
      "random stamp for this run: mpzzlplq\n",
      "matplotlib version:  3.3.4\n",
      "GPy version:  1.10.0\n",
      "sklearn version:  0.24.2\n",
      "(5,)\n"
     ]
    }
   ],
   "source": [
    "#!/usr/bin/env python\n",
    "# coding: utf-8\n",
    "#\n",
    "########################################\n",
    "#      cluster Gaussian surrogate      #\n",
    "########################################\n",
    "#Author: Hengrui Luo\n",
    "#hrluo@lbl.gov\n",
    "#Last update: 2021-Jan-13\n",
    "#\n",
    "########################################\n",
    "#          System information          #\n",
    "########################################\n",
    "#Print the python version and the name/input arguments\n",
    "#%pylab inline\n",
    "import sys\n",
    "print('Clean everything.')\n",
    "sys.modules[__name__].__dict__.clear()\n",
    "import sys\n",
    "print(\"Python version: \", sys.version)\n",
    "print(\"This is the name of the script: \", sys.argv[0])\n",
    "print(sys.argv)\n",
    "\n",
    "#Print the numpy version and set the random seed\n",
    "import numpy as np\n",
    "print('numpy version: ', np.__version__)\n",
    "RND_SEED=1\n",
    "np.random.seed(RND_SEED)\n",
    "\n",
    "#Random string\n",
    "#Get a random string stamp for this specific run, used for the filename of image export.\n",
    "import random\n",
    "import string\n",
    "def get_random_string(length):\n",
    "    return ''.join(random.choice(string.ascii_lowercase) for i in range(length))\n",
    "rdstr=get_random_string(8)\n",
    "print('random stamp for this run:',rdstr)\n",
    "\n",
    "#Print the matplotlib version\n",
    "import matplotlib\n",
    "import matplotlib.pyplot as plt\n",
    "print('matplotlib version: ', matplotlib.__version__)\n",
    "\n",
    "#Print the GPy version\n",
    "import GPy\n",
    "print('GPy version: ', GPy.__version__)\n",
    "\n",
    "#Print the GPy version\n",
    "import sklearn\n",
    "print('sklearn version: ', sklearn.__version__)\n",
    "from sklearn.gaussian_process import GaussianProcessRegressor\n",
    "\n",
    "#######################################\n",
    "#         Model specification          #\n",
    "########################################\n",
    "#How many pilot and sequential samples do we allow to get?\n",
    "#N_PILOT is the pilot samples we start with, usually a small number would do.\n",
    "#N_SEQUENTIAL is the number of sequential (noisy) samples we should draw from the black-box function.\n",
    "N_PILOT = 10     #int(sys.argv[1])\n",
    "N_SEQUENTIAL =  30#int(sys.argv[2])\n",
    "#Which method should we use for the Bayesian optimization scheme?\n",
    "#'FREQUENTIST' method means that the (hyper-)parameters are estimated by using some frequestist optimization like lbfgs.\n",
    "#'BAYESIAN' method means that the paramteres are estimated by putting a prior(Gamma)-posterior mechnism, the estimated value would be posterior mean.\n",
    "METHOD  = 'FREQUENTIST'\n",
    "#Following 3 parameters are only for HMC Bayesian sampling, you have to choose METHOD  = 'BAYESIAN' to use these parameters.\n",
    "N_BURNIN = 500\n",
    "N_MCMCSAMPLES = 500\n",
    "N_INFERENCE = 300\n",
    "#Exploration rate is the probability (between 0 and 1) of following the next step produced by acquisition function.\n",
    "EXPLORATION_RATE = 1.0\n",
    "#Do you want a cluster GP? If NO_CLUSTER = True, a simple GP will be used.\n",
    "NO_CLUSTER = False\n",
    "\n",
    "#Do you want to amplify the weight/role of response X when doing clustering?\n",
    "X_AMPLIFY = 1#/4096\n",
    "#Do you want to subtract an amount from the response X when doing clustering?\n",
    "X_TRANSLATE = []\n",
    "#Do you want to amplify the weight/role of response Y when doing clustering?\n",
    "Y_AMPLIFY = 1#/1000\n",
    "#Do you want to subtract an amount from the response Y when doing clustering?\n",
    "Y_TRANSLATE = 0.\n",
    "#What is the maximal number of cluster by your guess? This option will be used only if NO_CLUSTER=False.\n",
    "N_COMPONENTS = 4\n",
    "CL_method = 'DGM'\n",
    "#When deciding cluster components, how many neighbors shall we look into and get their votes? This option will be used only if NO_CLUSTER=False.\n",
    "N_NEIGHBORS = 3\n",
    "#Amount of NUGGET in the GP surrogate that stabilize the GP model, especially in FREQUENTIST approach.\n",
    "#NUGGET = 1e-4(Deprecated since ver 0.7, we can use a white kernel to estimate this)\n",
    "#How many time shall we jitter the diagonal of the covariance matrix when we encounter numerical non-positive definiteness in Gaussian process surrogate fitting.\n",
    "#This is a GPy parameter, default is 5 in GPy.\n",
    "N_JITTER = 5\n",
    "#Overriding GPy default jitter, dangerous jittering\n",
    "GPy.util.linalg.jitchol.__defaults__ = (N_JITTER,)\n",
    "print(GPy.util.linalg.jitchol.__defaults__)\n",
    "#This is a GPy parameter, whether you want to normalize the response before/after fitting. Don't change unless necessary.\n",
    "GPy_normalizer = True\n",
    "#Whether we should sample repetitive locations in the sequential sampling procedure.\n",
    "#If True, we would keep identical sequential samples no matter what. (Preferred if we believe a lot of noise)\n",
    "#If False, we would re-sample when we run into identical sequential samples. (Default)\n",
    "#In a acquisition maximization step, this is achieved by setting the acquisition function at repetitive samples to -Inf\n",
    "#In a random search step, this is achieved by repeat the random selection until we got a new location.\n",
    "REPEAT_SAMPLE = False\n",
    "#ver 0.7 new, we can use sklearn GP regression implementation.\n",
    "USE_SKLEARN = True\n",
    "ALPHA_SKLEARN = 1e-5\n",
    "#Value added to the diagonal of the kernel matrix during fitting. \n",
    "SKLEARN_normalizer = True"
   ]
  },
  {
   "cell_type": "code",
   "execution_count": 2,
   "metadata": {},
   "outputs": [],
   "source": [
    "########################################\n",
    "#          Function wrapping           #\n",
    "########################################\n",
    "#This allows us to wrap a real-world dataset into the format of a black-box function useful \n",
    "#Given a point X, we find the closest point X' in the dataset (by some distance measure, currently L^2).\n",
    "#The black-box function would return the observed response value Y' for X'. \n",
    "#This wrapping would makes the black-box function to be piece-wise constant. \n",
    "#\n",
    "EXAMPLE_NAME = 'synthetic'\n",
    "from scipy.spatial.distance import cdist\n",
    "def f_truth(X):\n",
    "    x=X[:,0]\n",
    "    y=X[:,1]\n",
    "    #return( 1/(1 + (x - .25)**2 + (y - .25)**2) )\n",
    "    return( (y>0)*(1/(1 + (x - .25)**2 + (y - .25)**2)) + (y<=0)*(.25/(1 + (x**2 + y**2)) )  )\n",
    "    #return( -2*y**2 - 2*np.floor(y+1)*np.sin(2*np.pi*x)+np.pi*x )\n",
    "    #return( y**2 - 2*np.floor(y)*x - x + 1 )\n",
    "    #return( np.sin(2*np.pi*X[:,0]) + X[:,1]**2 - 2*np.floor(X[:,1]) + 1 )\n",
    "    #return(-np.sin(X[:,0]*5) + 2*np.floor(X[:,1]) )\n",
    "    #to_obs = cdist(X,X_obs, metric='euclidean')\n",
    "    #closest_obs = np.argmin(to_obs)\n",
    "    #ret_X = X_obs[closest_obs,:]\n",
    "    #ret_Y = Y_obs[closest_obs,:]\n",
    "    #ret_X = int(X)\n",
    "    ##print(np.argwhere(ret_X==X_obs))\n",
    "    ##ret_Y = Y_obs[np.argwhere(ret_X==X_obs)[0,0],:]\n",
    "    #ret_Y = Y_obs[np.argmin(np.abs(ret_X-X_obs) ),:]\n",
    "    #print('Closest point in dataset is ',ret_X,' with observed value ',ret_Y[0])\n",
    "    #return ret_Y[0].astype(float)\n",
    "bounds = np.array([[-1,1],[-1,1]]).astype(float)\n",
    "#print(bounds)\n",
    "true_max=[1/4,1/4]\n",
    "true_fmax=f_truth(np.asarray(true_max).reshape(1,-1)) #np.sqrt(3)/2+np.pi*5/6\n",
    "true_range=[0,1]"
   ]
  },
  {
   "cell_type": "code",
   "execution_count": 3,
   "metadata": {
    "scrolled": true
   },
   "outputs": [
    {
     "name": "stdout",
     "output_type": "stream",
     "text": [
      "(10000, 2)\n"
     ]
    }
   ],
   "source": [
    "N_GRID = 100\n",
    "x_p = [None]*bounds.shape[0]\n",
    "for i in range(bounds.shape[0]):\n",
    "    x_p[i] = np.linspace(start=bounds[i,0], stop=bounds[i,1], num=N_GRID)\n",
    "    x0grid_ravel = np.vstack(np.meshgrid( *x_p )).reshape(bounds.shape[0],-1).T\n",
    "    #x0grid_ravel = np.arange(0,4096+1,8)\n",
    "    #x0grid_ravel = x0grid_ravel.astype(float).reshape(-1,1)\n",
    "print(x0grid_ravel.shape)\n",
    "#You must supply a parameter called 'bounds'.\n",
    "inp_dim=bounds.shape[0]\n",
    "\n",
    "#Which kernel you want to use for your model? Such a kernel must be implemented as a GPy/sklearn kernel class.\n",
    "if USE_SKLEARN==True:\n",
    "    from sklearn.gaussian_process import *\n",
    "    KERNEL_TEMPLATE = sklearn.gaussian_process.kernels.Matern(length_scale=np.ones(inp_dim,), length_scale_bounds=(1e-05, 100000.0), nu=3/2) + sklearn.gaussian_process.kernels.WhiteKernel(noise_level=1.0, noise_level_bounds=(1e-03, 1000.0))\n",
    "    #KERNEL_TEMPLATE = sklearn.gaussian_process.kernels.Matern(length_scale=np.ones(inp_dim,), length_scale_bounds=(1e-05, 100000.0), nu=1/2)\n",
    "else:\n",
    "    KERNEL_TEMPLATE = GPy.kern.Matern32(input_dim=inp_dim, variance=1., lengthscale=1.) + GPy.kern.White(input_dim=inp_dim)\n",
    "    #KERNEL_TEMPLATE = GPy.kern.Exponential(input_dim=inp_dim, variance=1., lengthscale=1.)\n",
    "#Do you want to penalize boundary sample points? If so, how?\n",
    "def boundary_penalty(X,data_X=None):\n",
    "    return 0\n",
    "\n",
    "def censor_function(Y):\n",
    "    #return Y #if you don't want any censor, use this line as the definition of your censor function.\n",
    "    ret = Y\n",
    "    return ret\n",
    "\n",
    "def random_domain(X,data_X=None):\n",
    "    #return True\n",
    "    for i in range(data_X.shape[0]):\n",
    "        if all(X.astype(int)== data_X[i,:].astype(int)) and ~REPEAT_SAMPLE: return False\n",
    "        #This is only for matmul example searching only multiples of 8.\n",
    "    return X.astype(int)%8==0 "
   ]
  },
  {
   "cell_type": "code",
   "execution_count": 4,
   "metadata": {},
   "outputs": [
    {
     "name": "stdout",
     "output_type": "stream",
     "text": [
      "\n",
      ">>>>>>>>>>Sampling  10  pilot samples...<<<<<<<<<<\n",
      "\n",
      "Pilot X [[-0.16595599 -0.16161097]\n",
      " [ 0.44064899  0.370439  ]\n",
      " [-0.99977125 -0.5910955 ]\n",
      " [-0.39533485  0.75623487]\n",
      " [-0.70648822 -0.94522481]\n",
      " [-0.81532281  0.34093502]\n",
      " [-0.62747958 -0.1653904 ]\n",
      " [-0.30887855  0.11737966]\n",
      " [-0.20646505 -0.71922612]\n",
      " [ 0.07763347 -0.60379702]]\n",
      "Pilot Y [[0.2372683 ]\n",
      " [0.95160826]\n",
      " [0.10643115]\n",
      " [0.59782482]\n",
      " [0.10448991]\n",
      " [0.46659596]\n",
      " [0.17592197]\n",
      " [0.75191736]\n",
      " [0.16026524]\n",
      " [0.18240216]]\n",
      "\n",
      " Initial labels for (X,Y)-joint clustering [0 3 2 1 2 1 0 1 0 0]\n",
      "[[-0.16595599 -0.16161097]\n",
      " [ 0.44064899  0.370439  ]\n",
      " [-0.99977125 -0.5910955 ]\n",
      " [-0.39533485  0.75623487]\n",
      " [-0.70648822 -0.94522481]\n",
      " [-0.81532281  0.34093502]\n",
      " [-0.62747958 -0.1653904 ]\n",
      " [-0.30887855  0.11737966]\n",
      " [-0.20646505 -0.71922612]\n",
      " [ 0.07763347 -0.60379702]] [[0.2372683 ]\n",
      " [0.95160826]\n",
      " [0.10643115]\n",
      " [0.59782482]\n",
      " [0.10448991]\n",
      " [0.46659596]\n",
      " [0.17592197]\n",
      " [0.75191736]\n",
      " [0.16026524]\n",
      " [0.18240216]]\n"
     ]
    }
   ],
   "source": [
    "from datetime import datetime\n",
    "# datetime object containing current date and time\n",
    "samplestartingtime = datetime.now()\n",
    "########################################\n",
    "#          Draw pilot samples          #\n",
    "########################################\n",
    "#This cell only provides a pilot sample.\n",
    "#Prepare pilot samples (X,Y)\n",
    "print('\\n>>>>>>>>>>Sampling ',N_PILOT,' pilot samples...<<<<<<<<<<\\n')\n",
    "#print('Example : ',EXAMPLE_NAME)\n",
    "X_sample = np.zeros((N_PILOT,bounds.shape[0]))\n",
    "Y_sample = np.zeros((N_PILOT,1))\n",
    "for j in range(bounds.shape[0]):\n",
    "    X_sample[:,j] = np.random.uniform(bounds[j,0],bounds[j,1],size=(N_PILOT,1)).ravel()\n",
    "Y_sample = np.zeros((N_PILOT,1))\n",
    "for k in range(N_PILOT):\n",
    "    Y_sample[k,0] = f_truth(X_sample[k,:].reshape(1,-1))\n",
    "    Y_sample[k,0] = censor_function(Y_sample[k,0])\n",
    "print('Pilot X',X_sample)\n",
    "print('Pilot Y',Y_sample)\n",
    "\n",
    "from scipy.stats import norm\n",
    "from scipy.optimize import minimize\n",
    "\n",
    "from sklearn.cluster import KMeans\n",
    "from sklearn.mixture import BayesianGaussianMixture\n",
    "from sklearn.neighbors import KNeighborsClassifier\n",
    "#The cGP procedure consists of following steps\n",
    "#Step 1. For observations, we can do a (unsupervised) (X,Y)-clustering and label them, different components are generated.\n",
    "#Step 2. For predictive locations, we can do a (supervised) k-nearest neighbor classification, and predict at each location based on which component it belongs to. \n",
    "#Step 3. We compute the acquisition function and then proceed to the next sample, after adding the new sample we repeat Step 1 and 2.\n",
    "\n",
    "#Prepare an up-to-date X_TRANSLATE, as the empirical mean of the X_sample\n",
    "if len(X_TRANSLATE)>0:\n",
    "    X_TRANSLATE = np.mean(X_sample,axis=0)\n",
    "else:\n",
    "    X_TRANSLATE = [(0,0)]\n",
    "#Prepare an up-to-date Y_TRANSLATE, as the empirical mean of the Y_sample\n",
    "if Y_TRANSLATE != 0:\n",
    "    Y_TRANSLATE = np.mean(Y_sample)\n",
    "#print(Y_sample - Y_TRANSLATE)\n",
    "#Prepare initial clusters, with XY-joint.\n",
    "XY_sample       = np.concatenate((X_AMPLIFY*(X_sample-X_TRANSLATE),Y_AMPLIFY*(Y_sample-Y_TRANSLATE).reshape(-1,1)),axis=1)\n",
    "if CL_method.startswith('DGM'):\n",
    "    dgm_XY = BayesianGaussianMixture(\n",
    "                        weight_concentration_prior_type=\"dirichlet_distribution\",\n",
    "                        weight_concentration_prior = None,\n",
    "                        #weight_concentration_prior_type=\"dirichlet_process\",\n",
    "                        n_components=N_COMPONENTS#pick a big number, DGM will automatically adjust\n",
    "                        )\n",
    "else:\n",
    "    dgm_XY = KMeans(n_clusters=N_COMPONENTS, random_state=0)\n",
    "XY_label = dgm_XY.fit_predict(XY_sample)\n",
    "print('\\n Initial labels for (X,Y)-joint clustering',XY_label)\n",
    "#Make copies of X_sample for X-only fitting and XY-joint fitting.\n",
    "X_sample_XY = np.copy(X_sample)\n",
    "Y_sample_XY = np.copy(Y_sample)\n",
    "#Prepare initial labels\n",
    "clf_XY = KNeighborsClassifier(n_neighbors=N_NEIGHBORS)\n",
    "clf_XY.fit(X_sample_XY, XY_label)\n",
    "#This is an artifact, we need to have at least d samples to fit a d-dimensional GP model (for its mean and variance)\n",
    "for c in np.unique(XY_label):\n",
    "    if sum(XY_label==c)<=X_sample_XY.shape[1]:\n",
    "        occ = np.bincount(XY_label)\n",
    "        XY_label[np.where(XY_label==c)] = np.argmax(occ)\n",
    "\n",
    "        \n",
    "print(X_sample,Y_sample)\n",
    "#print(XY_sample)"
   ]
  },
  {
   "cell_type": "code",
   "execution_count": 5,
   "metadata": {
    "scrolled": true
   },
   "outputs": [
    {
     "name": "stdout",
     "output_type": "stream",
     "text": [
      "\n",
      ">>>>>>>>>>Sampling  30  sequential samples...<<<<<<<<<<\n",
      "\n",
      "\n",
      ">>>>>>>>>> ***** STEP  1 / 30 ***** <<<<<<<<<<\n",
      ">>CLUSTERED, a cGP surrogate. 2  components in surrogate model.\n",
      ">>>>Find next sample: acquisition proposal.\n",
      ">>>>>>METHOD: frequentist MLE approach, component 0/0\n",
      ">>>>>>SAMPLE: component sample size = 10\n"
     ]
    },
    {
     "name": "stderr",
     "output_type": "stream",
     "text": [
      " /home/hrluo/anaconda3/lib/python3.8/site-packages/sklearn/gaussian_process/kernels.py:402: ConvergenceWarning:The optimal value found for dimension 0 of parameter k2__noise_level is close to the specified lower bound 0.001. Decreasing the bound and calling fit again may find a better value.\n"
     ]
    },
    {
     "name": "stdout",
     "output_type": "stream",
     "text": [
      ">>>>>>MODULE: sklearn is used, l-bfgs optimization.\n",
      ">>>>Maximal acquisition function =  2.5170686803900315e-10  attained at  [ 0.49633131 -0.43911202]  for component  0\n",
      "----------\n",
      ">>Next sample input is chosen to be:  [[ 0.49633131 -0.43911202]]\n",
      ">>Next sample response is chosen to be:  [0.17371194]\n",
      "\n",
      ">>>>>>>>>> ***** STEP  2 / 30 ***** <<<<<<<<<<\n",
      ">>CLUSTERED, a cGP surrogate. 1  components in surrogate model.\n",
      ">>>>Find next sample: acquisition proposal.\n",
      ">>>>>>METHOD: frequentist MLE approach, component 0/1\n",
      ">>>>>>SAMPLE: component sample size = 4\n",
      ">>>>>>MODULE: sklearn is used, l-bfgs optimization.\n",
      ">>>>Maximal acquisition function =  0  attained at  [-0.40213978  0.16877824]  for component  0\n",
      ">>>>>>METHOD: frequentist MLE approach, component 1/1\n",
      ">>>>>>SAMPLE: component sample size = 7\n"
     ]
    },
    {
     "name": "stderr",
     "output_type": "stream",
     "text": [
      " /home/hrluo/anaconda3/lib/python3.8/site-packages/sklearn/gaussian_process/kernels.py:402: ConvergenceWarning:The optimal value found for dimension 0 of parameter k2__noise_level is close to the specified lower bound 0.001. Decreasing the bound and calling fit again may find a better value.\n"
     ]
    },
    {
     "name": "stdout",
     "output_type": "stream",
     "text": [
      ">>>>>>MODULE: sklearn is used, l-bfgs optimization.\n",
      ">>>>Maximal acquisition function =  0  attained at  [0.13182405 0.22787664]  for component  1\n",
      "----------\n",
      ">>Next sample input is chosen to be:  [[0.13182405 0.22787664]]\n",
      ">>Next sample response is chosen to be:  [0.98575097]\n",
      "\n",
      ">>>>>>>>>> ***** STEP  3 / 30 ***** <<<<<<<<<<\n",
      ">>CLUSTERED, a cGP surrogate. 2  components in surrogate model.\n",
      ">>>>Find next sample: acquisition proposal.\n",
      ">>>>>>METHOD: frequentist MLE approach, component 0/1\n",
      ">>>>>>SAMPLE: component sample size = 9\n",
      ">>>>>>MODULE: sklearn is used, l-bfgs optimization.\n",
      ">>>>Maximal acquisition function =  0.001999864792837054  attained at  [-0.22183461  1.        ]  for component  0\n",
      ">>>>>>METHOD: frequentist MLE approach, component 1/1\n",
      ">>>>>>SAMPLE: component sample size = 3\n"
     ]
    },
    {
     "name": "stderr",
     "output_type": "stream",
     "text": [
      " /home/hrluo/anaconda3/lib/python3.8/site-packages/sklearn/gaussian_process/kernels.py:402: ConvergenceWarning:The optimal value found for dimension 0 of parameter k2__noise_level is close to the specified lower bound 0.001. Decreasing the bound and calling fit again may find a better value.\n"
     ]
    },
    {
     "name": "stdout",
     "output_type": "stream",
     "text": [
      ">>>>>>MODULE: sklearn is used, l-bfgs optimization.\n",
      ">>>>Maximal acquisition function =  0.004999609516780756  attained at  [ 0.04516889 -0.10403964]  for component  1\n",
      "----------\n",
      ">>Next sample input is chosen to be:  [[ 0.04516889 -0.10403964]]\n",
      ">>Next sample response is chosen to be:  [0.24682473]\n",
      "\n",
      ">>>>>>>>>> ***** STEP  4 / 30 ***** <<<<<<<<<<\n",
      ">>CLUSTERED, a cGP surrogate. 2  components in surrogate model.\n",
      ">>>>Find next sample: acquisition proposal.\n",
      ">>>>>>METHOD: frequentist MLE approach, component 0/1\n",
      ">>>>>>SAMPLE: component sample size = 5\n"
     ]
    },
    {
     "name": "stderr",
     "output_type": "stream",
     "text": [
      " /home/hrluo/anaconda3/lib/python3.8/site-packages/sklearn/gaussian_process/kernels.py:402: ConvergenceWarning:The optimal value found for dimension 0 of parameter k2__noise_level is close to the specified lower bound 0.001. Decreasing the bound and calling fit again may find a better value.\n"
     ]
    },
    {
     "name": "stdout",
     "output_type": "stream",
     "text": [
      ">>>>>>MODULE: sklearn is used, l-bfgs optimization.\n",
      ">>>>Maximal acquisition function =  0  attained at  [-0.30220332 -0.46014422]  for component  0\n",
      ">>>>>>METHOD: frequentist MLE approach, component 1/1\n",
      ">>>>>>SAMPLE: component sample size = 8\n"
     ]
    },
    {
     "name": "stderr",
     "output_type": "stream",
     "text": [
      " /home/hrluo/anaconda3/lib/python3.8/site-packages/sklearn/gaussian_process/kernels.py:402: ConvergenceWarning:The optimal value found for dimension 0 of parameter k2__noise_level is close to the specified lower bound 0.001. Decreasing the bound and calling fit again may find a better value.\n"
     ]
    },
    {
     "name": "stdout",
     "output_type": "stream",
     "text": [
      ">>>>>>MODULE: sklearn is used, l-bfgs optimization.\n",
      ">>>>Maximal acquisition function =  1.1379465837955003e-05  attained at  [ 0.79797664 -0.12332205]  for component  1\n",
      "----------\n",
      ">>Next sample input is chosen to be:  [[ 0.79797664 -0.12332205]]\n",
      ">>Next sample response is chosen to be:  [0.15133401]\n",
      "\n",
      ">>>>>>>>>> ***** STEP  5 / 30 ***** <<<<<<<<<<\n",
      ">>CLUSTERED, a cGP surrogate. 2  components in surrogate model.\n",
      ">>>>Find next sample: acquisition proposal.\n",
      ">>>>>>METHOD: frequentist MLE approach, component 0/1\n",
      ">>>>>>SAMPLE: component sample size = 9\n"
     ]
    },
    {
     "name": "stderr",
     "output_type": "stream",
     "text": [
      " /home/hrluo/anaconda3/lib/python3.8/site-packages/sklearn/gaussian_process/kernels.py:402: ConvergenceWarning:The optimal value found for dimension 0 of parameter k2__noise_level is close to the specified lower bound 0.001. Decreasing the bound and calling fit again may find a better value.\n"
     ]
    },
    {
     "name": "stdout",
     "output_type": "stream",
     "text": [
      ">>>>>>MODULE: sklearn is used, l-bfgs optimization.\n",
      ">>>>Maximal acquisition function =  0  attained at  [-0.39727901  0.54547829]  for component  0\n",
      ">>>>>>METHOD: frequentist MLE approach, component 1/1\n",
      ">>>>>>SAMPLE: component sample size = 5\n"
     ]
    },
    {
     "name": "stderr",
     "output_type": "stream",
     "text": [
      " /home/hrluo/anaconda3/lib/python3.8/site-packages/sklearn/gaussian_process/kernels.py:402: ConvergenceWarning:The optimal value found for dimension 0 of parameter k2__noise_level is close to the specified lower bound 0.001. Decreasing the bound and calling fit again may find a better value.\n"
     ]
    },
    {
     "name": "stdout",
     "output_type": "stream",
     "text": [
      ">>>>>>MODULE: sklearn is used, l-bfgs optimization.\n",
      ">>>>Maximal acquisition function =  4.982472156443375e-25  attained at  [-0.69414035  0.15726786]  for component  1\n",
      "----------\n",
      ">>Next sample input is chosen to be:  [[-0.69414035  0.15726786]]\n",
      ">>Next sample response is chosen to be:  [0.52631572]\n",
      "\n",
      ">>>>>>>>>> ***** STEP  6 / 30 ***** <<<<<<<<<<\n",
      ">>CLUSTERED, a cGP surrogate. 2  components in surrogate model.\n",
      ">>>>Find next sample: acquisition proposal.\n",
      ">>>>>>METHOD: frequentist MLE approach, component 0/2\n",
      ">>>>>>SAMPLE: component sample size = 9\n"
     ]
    },
    {
     "name": "stderr",
     "output_type": "stream",
     "text": [
      " /home/hrluo/anaconda3/lib/python3.8/site-packages/sklearn/gaussian_process/kernels.py:402: ConvergenceWarning:The optimal value found for dimension 0 of parameter k2__noise_level is close to the specified lower bound 0.001. Decreasing the bound and calling fit again may find a better value.\n",
      " /home/hrluo/anaconda3/lib/python3.8/site-packages/sklearn/gaussian_process/kernels.py:402: ConvergenceWarning:The optimal value found for dimension 0 of parameter k2__noise_level is close to the specified lower bound 0.001. Decreasing the bound and calling fit again may find a better value.\n"
     ]
    },
    {
     "name": "stdout",
     "output_type": "stream",
     "text": [
      ">>>>>>MODULE: sklearn is used, l-bfgs optimization.\n",
      ">>>>Maximal acquisition function =  0  attained at  [0.86519093 0.39363632]  for component  0\n",
      ">>>>>>METHOD: frequentist MLE approach, component 1/2\n",
      ">>>>>>SAMPLE: component sample size = 3\n",
      ">>>>>>MODULE: sklearn is used, l-bfgs optimization.\n",
      ">>>>Maximal acquisition function =  0  attained at  [-0.86799965  0.51092611]  for component  1\n",
      ">>>>>>METHOD: frequentist MLE approach, component 2/2\n",
      ">>>>>>SAMPLE: component sample size = 3\n",
      ">>>>>>MODULE: sklearn is used, l-bfgs optimization.\n",
      ">>>>Maximal acquisition function =  0  attained at  [0.50775238 0.84604907]  for component  2\n",
      "----------\n",
      ">>Next sample input is chosen to be:  [[0.50775238 0.84604907]]\n",
      ">>Next sample response is chosen to be:  [0.70337794]\n",
      "\n",
      ">>>>>>>>>> ***** STEP  7 / 30 ***** <<<<<<<<<<\n",
      ">>CLUSTERED, a cGP surrogate. 3  components in surrogate model.\n",
      ">>>>Find next sample: acquisition proposal.\n",
      ">>>>>>METHOD: frequentist MLE approach, component 0/2\n",
      ">>>>>>SAMPLE: component sample size = 9\n"
     ]
    },
    {
     "name": "stderr",
     "output_type": "stream",
     "text": [
      " /home/hrluo/anaconda3/lib/python3.8/site-packages/sklearn/gaussian_process/kernels.py:402: ConvergenceWarning:The optimal value found for dimension 0 of parameter k2__noise_level is close to the specified lower bound 0.001. Decreasing the bound and calling fit again may find a better value.\n"
     ]
    },
    {
     "name": "stdout",
     "output_type": "stream",
     "text": [
      ">>>>>>MODULE: sklearn is used, l-bfgs optimization.\n",
      ">>>>Maximal acquisition function =  1.5310047377298193e-33  attained at  [-0.53275495 -0.81688712]  for component  0\n",
      ">>>>>>METHOD: frequentist MLE approach, component 1/2\n",
      ">>>>>>SAMPLE: component sample size = 3\n",
      ">>>>>>MODULE: sklearn is used, l-bfgs optimization.\n",
      ">>>>Maximal acquisition function =  0  attained at  [ 0.14013332 -0.16414692]  for component  1\n",
      ">>>>>>METHOD: frequentist MLE approach, component 2/2\n",
      ">>>>>>SAMPLE: component sample size = 4\n",
      ">>>>>>MODULE: sklearn is used, l-bfgs optimization.\n",
      ">>>>Maximal acquisition function =  0.002005706626344756  attained at  [-0.26431352  0.62598994]  for component  2\n",
      "----------\n",
      ">>Next sample input is chosen to be:  [[-0.26431352  0.62598994]]\n",
      ">>Next sample response is chosen to be:  [0.71129481]\n",
      "\n",
      ">>>>>>>>>> ***** STEP  8 / 30 ***** <<<<<<<<<<\n",
      ">>CLUSTERED, a cGP surrogate. 3  components in surrogate model.\n",
      ">>>>Find next sample: acquisition proposal.\n",
      ">>>>>>METHOD: frequentist MLE approach, component 0/2\n",
      ">>>>>>SAMPLE: component sample size = 4\n"
     ]
    },
    {
     "name": "stderr",
     "output_type": "stream",
     "text": [
      " /home/hrluo/anaconda3/lib/python3.8/site-packages/sklearn/gaussian_process/kernels.py:402: ConvergenceWarning:The optimal value found for dimension 0 of parameter k1__length_scale is close to the specified lower bound 1e-05. Decreasing the bound and calling fit again may find a better value.\n",
      " /home/hrluo/anaconda3/lib/python3.8/site-packages/sklearn/gaussian_process/kernels.py:402: ConvergenceWarning:The optimal value found for dimension 0 of parameter k2__noise_level is close to the specified lower bound 0.001. Decreasing the bound and calling fit again may find a better value.\n"
     ]
    },
    {
     "name": "stdout",
     "output_type": "stream",
     "text": [
      ">>>>>>MODULE: sklearn is used, l-bfgs optimization.\n",
      ">>>>Maximal acquisition function =  0  attained at  [-0.78501174 -0.54858132]  for component  0\n",
      ">>>>>>METHOD: frequentist MLE approach, component 1/2\n",
      ">>>>>>SAMPLE: component sample size = 9\n"
     ]
    },
    {
     "name": "stderr",
     "output_type": "stream",
     "text": [
      " /home/hrluo/anaconda3/lib/python3.8/site-packages/sklearn/gaussian_process/kernels.py:402: ConvergenceWarning:The optimal value found for dimension 0 of parameter k2__noise_level is close to the specified lower bound 0.001. Decreasing the bound and calling fit again may find a better value.\n"
     ]
    },
    {
     "name": "stdout",
     "output_type": "stream",
     "text": [
      ">>>>>>MODULE: sklearn is used, l-bfgs optimization.\n",
      ">>>>Maximal acquisition function =  0  attained at  [0.42597796 0.11943396]  for component  1\n",
      ">>>>>>METHOD: frequentist MLE approach, component 2/2\n",
      ">>>>>>SAMPLE: component sample size = 4\n"
     ]
    },
    {
     "name": "stderr",
     "output_type": "stream",
     "text": [
      " /home/hrluo/anaconda3/lib/python3.8/site-packages/sklearn/gaussian_process/kernels.py:402: ConvergenceWarning:The optimal value found for dimension 0 of parameter k1__length_scale is close to the specified lower bound 1e-05. Decreasing the bound and calling fit again may find a better value.\n",
      " /home/hrluo/anaconda3/lib/python3.8/site-packages/sklearn/gaussian_process/kernels.py:402: ConvergenceWarning:The optimal value found for dimension 0 of parameter k2__noise_level is close to the specified lower bound 0.001. Decreasing the bound and calling fit again may find a better value.\n"
     ]
    },
    {
     "name": "stdout",
     "output_type": "stream",
     "text": [
      ">>>>>>MODULE: sklearn is used, l-bfgs optimization.\n",
      ">>>>Maximal acquisition function =  0  attained at  [-0.97488804 -0.85605144]  for component  2\n",
      "----------\n",
      ">>Next sample input is chosen to be:  [[-0.97488804 -0.85605144]]\n",
      ">>Next sample response is chosen to be:  [0.09317126]\n",
      "\n",
      ">>>>>>>>>> ***** STEP  9 / 30 ***** <<<<<<<<<<\n",
      ">>CLUSTERED, a cGP surrogate. 3  components in surrogate model.\n",
      ">>>>Find next sample: acquisition proposal.\n",
      ">>>>>>METHOD: frequentist MLE approach, component 0/2\n",
      ">>>>>>SAMPLE: component sample size = 10\n"
     ]
    },
    {
     "name": "stderr",
     "output_type": "stream",
     "text": [
      " /home/hrluo/anaconda3/lib/python3.8/site-packages/sklearn/gaussian_process/kernels.py:402: ConvergenceWarning:The optimal value found for dimension 0 of parameter k2__noise_level is close to the specified lower bound 0.001. Decreasing the bound and calling fit again may find a better value.\n"
     ]
    },
    {
     "name": "stdout",
     "output_type": "stream",
     "text": [
      ">>>>>>MODULE: sklearn is used, l-bfgs optimization.\n",
      ">>>>Maximal acquisition function =  0  attained at  [-0.59128374  0.96351328]  for component  0\n",
      ">>>>>>METHOD: frequentist MLE approach, component 1/2\n",
      ">>>>>>SAMPLE: component sample size = 4\n",
      ">>>>>>MODULE: sklearn is used, l-bfgs optimization.\n",
      ">>>>Maximal acquisition function =  0  attained at  [0.78604242 0.51869759]  for component  1\n",
      ">>>>>>METHOD: frequentist MLE approach, component 2/2\n",
      ">>>>>>SAMPLE: component sample size = 4\n"
     ]
    },
    {
     "name": "stderr",
     "output_type": "stream",
     "text": [
      " /home/hrluo/anaconda3/lib/python3.8/site-packages/sklearn/gaussian_process/kernels.py:402: ConvergenceWarning:The optimal value found for dimension 0 of parameter k1__length_scale is close to the specified lower bound 1e-05. Decreasing the bound and calling fit again may find a better value.\n",
      " /home/hrluo/anaconda3/lib/python3.8/site-packages/sklearn/gaussian_process/kernels.py:402: ConvergenceWarning:The optimal value found for dimension 0 of parameter k2__noise_level is close to the specified lower bound 0.001. Decreasing the bound and calling fit again may find a better value.\n"
     ]
    },
    {
     "name": "stdout",
     "output_type": "stream",
     "text": [
      ">>>>>>MODULE: sklearn is used, l-bfgs optimization.\n",
      ">>>>Maximal acquisition function =  0  attained at  [ 0.30224112 -0.920633  ]  for component  2\n",
      "----------\n",
      ">>Next sample input is chosen to be:  [[ 0.30224112 -0.920633  ]]\n",
      ">>Next sample response is chosen to be:  [0.1289381]\n",
      "\n",
      ">>>>>>>>>> ***** STEP  10 / 30 ***** <<<<<<<<<<\n",
      ">>CLUSTERED, a cGP surrogate. 3  components in surrogate model.\n",
      ">>>>Find next sample: acquisition proposal.\n",
      ">>>>>>METHOD: frequentist MLE approach, component 0/1\n",
      ">>>>>>SAMPLE: component sample size = 16\n"
     ]
    },
    {
     "name": "stderr",
     "output_type": "stream",
     "text": [
      " /home/hrluo/anaconda3/lib/python3.8/site-packages/sklearn/gaussian_process/kernels.py:411: ConvergenceWarning:The optimal value found for dimension 0 of parameter k1__length_scale is close to the specified upper bound 100000.0. Increasing the bound and calling fit again may find a better value.\n",
      " /home/hrluo/anaconda3/lib/python3.8/site-packages/sklearn/gaussian_process/kernels.py:402: ConvergenceWarning:The optimal value found for dimension 0 of parameter k2__noise_level is close to the specified lower bound 0.001. Decreasing the bound and calling fit again may find a better value.\n"
     ]
    },
    {
     "name": "stdout",
     "output_type": "stream",
     "text": [
      ">>>>>>MODULE: sklearn is used, l-bfgs optimization.\n",
      ">>>>Maximal acquisition function =  9.438279341338226e-17  attained at  [-0.86733033 -0.2598316 ]  for component  0\n",
      ">>>>>>METHOD: frequentist MLE approach, component 1/1\n",
      ">>>>>>SAMPLE: component sample size = 3\n",
      ">>>>>>MODULE: sklearn is used, l-bfgs optimization.\n",
      ">>>>Maximal acquisition function =  0  attained at  [ 0.25943501 -0.57965198]  for component  1\n",
      "----------\n",
      ">>Next sample input is chosen to be:  [[ 0.25943501 -0.57965198]]\n",
      ">>Next sample response is chosen to be:  [0.17815113]\n",
      "\n",
      ">>>>>>>>>> ***** STEP  11 / 30 ***** <<<<<<<<<<\n",
      ">>CLUSTERED, a cGP surrogate. 2  components in surrogate model.\n",
      ">>>>Find next sample: acquisition proposal.\n",
      ">>>>>>METHOD: frequentist MLE approach, component 0/3\n",
      ">>>>>>SAMPLE: component sample size = 3\n"
     ]
    },
    {
     "name": "stderr",
     "output_type": "stream",
     "text": [
      " /home/hrluo/anaconda3/lib/python3.8/site-packages/sklearn/gaussian_process/kernels.py:402: ConvergenceWarning:The optimal value found for dimension 0 of parameter k2__noise_level is close to the specified lower bound 0.001. Decreasing the bound and calling fit again may find a better value.\n",
      " /home/hrluo/anaconda3/lib/python3.8/site-packages/sklearn/gaussian_process/kernels.py:402: ConvergenceWarning:The optimal value found for dimension 0 of parameter k1__length_scale is close to the specified lower bound 1e-05. Decreasing the bound and calling fit again may find a better value.\n",
      " /home/hrluo/anaconda3/lib/python3.8/site-packages/sklearn/gaussian_process/kernels.py:402: ConvergenceWarning:The optimal value found for dimension 0 of parameter k2__noise_level is close to the specified lower bound 0.001. Decreasing the bound and calling fit again may find a better value.\n"
     ]
    },
    {
     "name": "stdout",
     "output_type": "stream",
     "text": [
      ">>>>>>MODULE: sklearn is used, l-bfgs optimization.\n",
      ">>>>Maximal acquisition function =  0  attained at  [0.54435606 0.81563171]  for component  0\n",
      ">>>>>>METHOD: frequentist MLE approach, component 1/3\n",
      ">>>>>>SAMPLE: component sample size = 4\n",
      ">>>>>>MODULE: sklearn is used, l-bfgs optimization.\n",
      ">>>>Maximal acquisition function =  0  attained at  [ 0.86394414 -0.97209685]  for component  1\n",
      ">>>>>>METHOD: frequentist MLE approach, component 2/3\n",
      ">>>>>>SAMPLE: component sample size = 8\n"
     ]
    },
    {
     "name": "stderr",
     "output_type": "stream",
     "text": [
      " /home/hrluo/anaconda3/lib/python3.8/site-packages/sklearn/gaussian_process/kernels.py:402: ConvergenceWarning:The optimal value found for dimension 0 of parameter k2__noise_level is close to the specified lower bound 0.001. Decreasing the bound and calling fit again may find a better value.\n",
      " /home/hrluo/anaconda3/lib/python3.8/site-packages/sklearn/gaussian_process/kernels.py:402: ConvergenceWarning:The optimal value found for dimension 0 of parameter k2__noise_level is close to the specified lower bound 0.001. Decreasing the bound and calling fit again may find a better value.\n"
     ]
    },
    {
     "name": "stdout",
     "output_type": "stream",
     "text": [
      ">>>>>>MODULE: sklearn is used, l-bfgs optimization.\n",
      ">>>>Maximal acquisition function =  0  attained at  [-0.53127583  0.23355671]  for component  2\n",
      ">>>>>>METHOD: frequentist MLE approach, component 3/3\n",
      ">>>>>>SAMPLE: component sample size = 5\n",
      ">>>>>>MODULE: sklearn is used, l-bfgs optimization.\n",
      ">>>>Maximal acquisition function =  0  attained at  [0.89803264 0.90035224]  for component  3\n",
      "----------\n",
      ">>Next sample input is chosen to be:  [[0.89803264 0.90035224]]\n",
      ">>Next sample response is chosen to be:  [0.54262176]\n",
      "\n",
      ">>>>>>>>>> ***** STEP  12 / 30 ***** <<<<<<<<<<\n",
      ">>CLUSTERED, a cGP surrogate. 4  components in surrogate model.\n",
      ">>>>Find next sample: acquisition proposal.\n",
      ">>>>>>METHOD: frequentist MLE approach, component 0/2\n",
      ">>>>>>SAMPLE: component sample size = 12\n"
     ]
    },
    {
     "name": "stderr",
     "output_type": "stream",
     "text": [
      " /home/hrluo/anaconda3/lib/python3.8/site-packages/sklearn/gaussian_process/kernels.py:402: ConvergenceWarning:The optimal value found for dimension 0 of parameter k2__noise_level is close to the specified lower bound 0.001. Decreasing the bound and calling fit again may find a better value.\n"
     ]
    },
    {
     "name": "stdout",
     "output_type": "stream",
     "text": [
      ">>>>>>MODULE: sklearn is used, l-bfgs optimization.\n",
      ">>>>Maximal acquisition function =  4.122493425949498e-30  attained at  [-0.93030455 -0.29084554]  for component  0\n",
      ">>>>>>METHOD: frequentist MLE approach, component 1/2\n",
      ">>>>>>SAMPLE: component sample size = 4\n",
      ">>>>>>MODULE: sklearn is used, l-bfgs optimization.\n",
      ">>>>Maximal acquisition function =  1.2513460462850621e-08  attained at  [-0.84296007  0.3863704 ]  for component  1\n",
      ">>>>>>METHOD: frequentist MLE approach, component 2/2\n",
      ">>>>>>SAMPLE: component sample size = 5\n",
      ">>>>>>MODULE: sklearn is used, l-bfgs optimization.\n",
      ">>>>Maximal acquisition function =  0  attained at  [-0.97457467 -0.08090943]  for component  2\n",
      "----------\n",
      ">>Next sample input is chosen to be:  [[-0.97457467 -0.08090943]]\n",
      ">>Next sample response is chosen to be:  [0.12778951]\n",
      "\n",
      ">>>>>>>>>> ***** STEP  13 / 30 ***** <<<<<<<<<<\n",
      ">>CLUSTERED, a cGP surrogate. 3  components in surrogate model.\n",
      ">>>>Find next sample: acquisition proposal.\n",
      ">>>>>>METHOD: frequentist MLE approach, component 0/3\n",
      ">>>>>>SAMPLE: component sample size = 4\n"
     ]
    },
    {
     "name": "stderr",
     "output_type": "stream",
     "text": [
      " /home/hrluo/anaconda3/lib/python3.8/site-packages/sklearn/gaussian_process/kernels.py:402: ConvergenceWarning:The optimal value found for dimension 0 of parameter k2__noise_level is close to the specified lower bound 0.001. Decreasing the bound and calling fit again may find a better value.\n"
     ]
    },
    {
     "name": "stdout",
     "output_type": "stream",
     "text": [
      ">>>>>>MODULE: sklearn is used, l-bfgs optimization.\n",
      ">>>>Maximal acquisition function =  0  attained at  [0.68946889 0.81078464]  for component  0\n",
      ">>>>>>METHOD: frequentist MLE approach, component 1/3\n",
      ">>>>>>SAMPLE: component sample size = 5\n"
     ]
    },
    {
     "name": "stderr",
     "output_type": "stream",
     "text": [
      " /home/hrluo/anaconda3/lib/python3.8/site-packages/sklearn/gaussian_process/kernels.py:402: ConvergenceWarning:The optimal value found for dimension 0 of parameter k2__noise_level is close to the specified lower bound 0.001. Decreasing the bound and calling fit again may find a better value.\n",
      " /home/hrluo/anaconda3/lib/python3.8/site-packages/sklearn/gaussian_process/kernels.py:402: ConvergenceWarning:The optimal value found for dimension 0 of parameter k2__noise_level is close to the specified lower bound 0.001. Decreasing the bound and calling fit again may find a better value.\n"
     ]
    },
    {
     "name": "stdout",
     "output_type": "stream",
     "text": [
      ">>>>>>MODULE: sklearn is used, l-bfgs optimization.\n",
      ">>>>Maximal acquisition function =  0  attained at  [-0.08023947  0.09269363]  for component  1\n",
      ">>>>>>METHOD: frequentist MLE approach, component 2/3\n",
      ">>>>>>SAMPLE: component sample size = 5\n",
      ">>>>>>MODULE: sklearn is used, l-bfgs optimization.\n",
      ">>>>Maximal acquisition function =  0  attained at  [ 0.59720718 -0.4285623 ]  for component  2\n",
      ">>>>>>METHOD: frequentist MLE approach, component 3/3\n",
      ">>>>>>SAMPLE: component sample size = 8\n"
     ]
    },
    {
     "name": "stderr",
     "output_type": "stream",
     "text": [
      " /home/hrluo/anaconda3/lib/python3.8/site-packages/sklearn/gaussian_process/kernels.py:402: ConvergenceWarning:The optimal value found for dimension 0 of parameter k2__noise_level is close to the specified lower bound 0.001. Decreasing the bound and calling fit again may find a better value.\n",
      " /home/hrluo/anaconda3/lib/python3.8/site-packages/sklearn/gaussian_process/kernels.py:402: ConvergenceWarning:The optimal value found for dimension 0 of parameter k2__noise_level is close to the specified lower bound 0.001. Decreasing the bound and calling fit again may find a better value.\n"
     ]
    },
    {
     "name": "stdout",
     "output_type": "stream",
     "text": [
      ">>>>>>MODULE: sklearn is used, l-bfgs optimization.\n",
      ">>>>Maximal acquisition function =  0  attained at  [-0.01949295  0.19822062]  for component  3\n",
      "----------\n",
      ">>Next sample input is chosen to be:  [[-0.01949295  0.19822062]]\n",
      ">>Next sample response is chosen to be:  [0.92996649]\n",
      "\n",
      ">>>>>>>>>> ***** STEP  14 / 30 ***** <<<<<<<<<<\n",
      ">>CLUSTERED, a cGP surrogate. 4  components in surrogate model.\n",
      ">>>>Find next sample: acquisition proposal.\n",
      ">>>>>>METHOD: frequentist MLE approach, component 0/2\n",
      ">>>>>>SAMPLE: component sample size = 4\n",
      ">>>>>>MODULE: sklearn is used, l-bfgs optimization.\n",
      ">>>>Maximal acquisition function =  1.5233294850978836e-07  attained at  [-0.15961264  0.35813767]  for component  0\n",
      ">>>>>>METHOD: frequentist MLE approach, component 1/2\n",
      ">>>>>>SAMPLE: component sample size = 8\n"
     ]
    },
    {
     "name": "stderr",
     "output_type": "stream",
     "text": [
      " /home/hrluo/anaconda3/lib/python3.8/site-packages/sklearn/gaussian_process/kernels.py:402: ConvergenceWarning:The optimal value found for dimension 0 of parameter k2__noise_level is close to the specified lower bound 0.001. Decreasing the bound and calling fit again may find a better value.\n"
     ]
    },
    {
     "name": "stdout",
     "output_type": "stream",
     "text": [
      ">>>>>>MODULE: sklearn is used, l-bfgs optimization.\n",
      ">>>>Maximal acquisition function =  9.38565320410679e-08  attained at  [ 0.83720356 -0.99919595]  for component  1\n",
      ">>>>>>METHOD: frequentist MLE approach, component 2/2\n",
      ">>>>>>SAMPLE: component sample size = 11\n",
      ">>>>>>MODULE: sklearn is used, l-bfgs optimization.\n",
      ">>>>Maximal acquisition function =  0  attained at  [ 0.9535183  -0.24683937]  for component  2\n",
      "----------\n",
      ">>Next sample input is chosen to be:  [[ 0.9535183  -0.24683937]]\n",
      ">>Next sample response is chosen to be:  [0.12689538]\n",
      "\n",
      ">>>>>>>>>> ***** STEP  15 / 30 ***** <<<<<<<<<<\n",
      ">>CLUSTERED, a cGP surrogate. 3  components in surrogate model.\n",
      ">>>>Find next sample: acquisition proposal.\n",
      ">>>>>>METHOD: frequentist MLE approach, component 0/1\n",
      ">>>>>>SAMPLE: component sample size = 15\n"
     ]
    },
    {
     "name": "stderr",
     "output_type": "stream",
     "text": [
      " /home/hrluo/anaconda3/lib/python3.8/site-packages/sklearn/gaussian_process/kernels.py:402: ConvergenceWarning:The optimal value found for dimension 0 of parameter k2__noise_level is close to the specified lower bound 0.001. Decreasing the bound and calling fit again may find a better value.\n"
     ]
    },
    {
     "name": "stdout",
     "output_type": "stream",
     "text": [
      ">>>>>>MODULE: sklearn is used, l-bfgs optimization.\n",
      ">>>>Maximal acquisition function =  3.52037061697506e-23  attained at  [ 0.8010571  -0.99067337]  for component  0\n",
      ">>>>>>METHOD: frequentist MLE approach, component 1/1\n",
      ">>>>>>SAMPLE: component sample size = 9\n"
     ]
    },
    {
     "name": "stderr",
     "output_type": "stream",
     "text": [
      " /home/hrluo/anaconda3/lib/python3.8/site-packages/sklearn/gaussian_process/kernels.py:402: ConvergenceWarning:The optimal value found for dimension 0 of parameter k2__noise_level is close to the specified lower bound 0.001. Decreasing the bound and calling fit again may find a better value.\n"
     ]
    },
    {
     "name": "stdout",
     "output_type": "stream",
     "text": [
      ">>>>>>MODULE: sklearn is used, l-bfgs optimization.\n",
      ">>>>Maximal acquisition function =  2.9687819858437394e-11  attained at  [-0.47159338 -0.0652454 ]  for component  1\n",
      "----------\n",
      ">>Next sample input is chosen to be:  [[-0.47159338 -0.0652454 ]]\n",
      ">>Next sample response is chosen to be:  [0.20380591]\n",
      "\n",
      ">>>>>>>>>> ***** STEP  16 / 30 ***** <<<<<<<<<<\n",
      ">>CLUSTERED, a cGP surrogate. 2  components in surrogate model.\n",
      ">>>>Find next sample: acquisition proposal.\n",
      ">>>>>>METHOD: frequentist MLE approach, component 0/2\n",
      ">>>>>>SAMPLE: component sample size = 7\n"
     ]
    },
    {
     "name": "stderr",
     "output_type": "stream",
     "text": [
      " /home/hrluo/anaconda3/lib/python3.8/site-packages/sklearn/gaussian_process/kernels.py:402: ConvergenceWarning:The optimal value found for dimension 0 of parameter k2__noise_level is close to the specified lower bound 0.001. Decreasing the bound and calling fit again may find a better value.\n"
     ]
    },
    {
     "name": "stdout",
     "output_type": "stream",
     "text": [
      ">>>>>>MODULE: sklearn is used, l-bfgs optimization.\n",
      ">>>>Maximal acquisition function =  0  attained at  [-0.31330752  0.59527761]  for component  0\n",
      ">>>>>>METHOD: frequentist MLE approach, component 1/2\n",
      ">>>>>>SAMPLE: component sample size = 10\n"
     ]
    },
    {
     "name": "stderr",
     "output_type": "stream",
     "text": [
      " /home/hrluo/anaconda3/lib/python3.8/site-packages/sklearn/gaussian_process/kernels.py:402: ConvergenceWarning:The optimal value found for dimension 0 of parameter k2__noise_level is close to the specified lower bound 0.001. Decreasing the bound and calling fit again may find a better value.\n",
      " /home/hrluo/anaconda3/lib/python3.8/site-packages/sklearn/gaussian_process/kernels.py:402: ConvergenceWarning:The optimal value found for dimension 0 of parameter k2__noise_level is close to the specified lower bound 0.001. Decreasing the bound and calling fit again may find a better value.\n"
     ]
    },
    {
     "name": "stdout",
     "output_type": "stream",
     "text": [
      ">>>>>>MODULE: sklearn is used, l-bfgs optimization.\n",
      ">>>>Maximal acquisition function =  8.906272110137965e-08  attained at  [0.75999227 0.80767294]  for component  1\n",
      ">>>>>>METHOD: frequentist MLE approach, component 2/2\n",
      ">>>>>>SAMPLE: component sample size = 8\n",
      ">>>>>>MODULE: sklearn is used, l-bfgs optimization.\n",
      ">>>>Maximal acquisition function =  0  attained at  [ 0.32543962 -0.45958348]  for component  2\n",
      "----------\n",
      ">>Next sample input is chosen to be:  [[ 0.32543962 -0.45958348]]\n",
      ">>Next sample response is chosen to be:  [0.18980692]\n",
      "\n",
      ">>>>>>>>>> ***** STEP  17 / 30 ***** <<<<<<<<<<\n",
      ">>CLUSTERED, a cGP surrogate. 3  components in surrogate model.\n",
      ">>>>Find next sample: acquisition proposal.\n",
      ">>>>>>METHOD: frequentist MLE approach, component 0/1\n",
      ">>>>>>SAMPLE: component sample size = 10\n"
     ]
    },
    {
     "name": "stderr",
     "output_type": "stream",
     "text": [
      " /home/hrluo/anaconda3/lib/python3.8/site-packages/sklearn/gaussian_process/kernels.py:402: ConvergenceWarning:The optimal value found for dimension 0 of parameter k2__noise_level is close to the specified lower bound 0.001. Decreasing the bound and calling fit again may find a better value.\n"
     ]
    },
    {
     "name": "stdout",
     "output_type": "stream",
     "text": [
      ">>>>>>MODULE: sklearn is used, l-bfgs optimization.\n",
      ">>>>Maximal acquisition function =  0.003316920701800859  attained at  [ 0.3422206  -0.02578265]  for component  0\n",
      ">>>>>>METHOD: frequentist MLE approach, component 1/1\n",
      ">>>>>>SAMPLE: component sample size = 16\n"
     ]
    },
    {
     "name": "stderr",
     "output_type": "stream",
     "text": [
      " /home/hrluo/anaconda3/lib/python3.8/site-packages/sklearn/gaussian_process/kernels.py:402: ConvergenceWarning:The optimal value found for dimension 0 of parameter k2__noise_level is close to the specified lower bound 0.001. Decreasing the bound and calling fit again may find a better value.\n",
      " /home/hrluo/anaconda3/lib/python3.8/site-packages/sklearn/gaussian_process/kernels.py:402: ConvergenceWarning:The optimal value found for dimension 0 of parameter k2__noise_level is close to the specified lower bound 0.001. Decreasing the bound and calling fit again may find a better value.\n"
     ]
    },
    {
     "name": "stdout",
     "output_type": "stream",
     "text": [
      ">>>>>>MODULE: sklearn is used, l-bfgs optimization.\n",
      ">>>>Maximal acquisition function =  2.430415093068779e-129  attained at  [ 0.41136427 -0.52357817]  for component  1\n",
      "----------\n",
      ">>Next sample input is chosen to be:  [[ 0.41136427 -0.52357817]]\n",
      ">>Next sample response is chosen to be:  [0.1732076]\n",
      "\n",
      ">>>>>>>>>> ***** STEP  18 / 30 ***** <<<<<<<<<<\n",
      ">>CLUSTERED, a cGP surrogate. 2  components in surrogate model.\n",
      ">>>>Find next sample: acquisition proposal.\n",
      ">>>>>>METHOD: frequentist MLE approach, component 0/3\n",
      ">>>>>>SAMPLE: component sample size = 3\n",
      ">>>>>>MODULE: sklearn is used, l-bfgs optimization.\n",
      ">>>>Maximal acquisition function =  0  attained at  [-0.37546032  0.83261111]  for component  0\n",
      ">>>>>>METHOD: frequentist MLE approach, component 1/3\n",
      ">>>>>>SAMPLE: component sample size = 8\n",
      ">>>>>>MODULE: sklearn is used, l-bfgs optimization.\n",
      ">>>>Maximal acquisition function =  0  attained at  [ 0.81927105 -0.48576341]  for component  1\n",
      ">>>>>>METHOD: frequentist MLE approach, component 2/3\n",
      ">>>>>>SAMPLE: component sample size = 6\n"
     ]
    },
    {
     "name": "stderr",
     "output_type": "stream",
     "text": [
      " /home/hrluo/anaconda3/lib/python3.8/site-packages/sklearn/gaussian_process/kernels.py:402: ConvergenceWarning:The optimal value found for dimension 0 of parameter k2__noise_level is close to the specified lower bound 0.001. Decreasing the bound and calling fit again may find a better value.\n"
     ]
    },
    {
     "name": "stdout",
     "output_type": "stream",
     "text": [
      ">>>>>>MODULE: sklearn is used, l-bfgs optimization.\n",
      ">>>>Maximal acquisition function =  0  attained at  [-0.7782174  -0.61407454]  for component  2\n",
      ">>>>>>METHOD: frequentist MLE approach, component 3/3\n",
      ">>>>>>SAMPLE: component sample size = 10\n",
      ">>>>>>MODULE: sklearn is used, l-bfgs optimization.\n",
      ">>>>Maximal acquisition function =  0  attained at  [-0.00083166  0.45717134]  for component  3\n",
      "----------\n",
      ">>Next sample input is chosen to be:  [[-0.00083166  0.45717134]]\n",
      ">>Next sample response is chosen to be:  [0.90429283]\n",
      "\n",
      ">>>>>>>>>> ***** STEP  19 / 30 ***** <<<<<<<<<<\n",
      ">>CLUSTERED, a cGP surrogate. 4  components in surrogate model.\n"
     ]
    },
    {
     "name": "stderr",
     "output_type": "stream",
     "text": [
      " /home/hrluo/anaconda3/lib/python3.8/site-packages/sklearn/gaussian_process/kernels.py:402: ConvergenceWarning:The optimal value found for dimension 0 of parameter k2__noise_level is close to the specified lower bound 0.001. Decreasing the bound and calling fit again may find a better value.\n",
      " /home/hrluo/anaconda3/lib/python3.8/site-packages/sklearn/gaussian_process/kernels.py:402: ConvergenceWarning:The optimal value found for dimension 0 of parameter k2__noise_level is close to the specified lower bound 0.001. Decreasing the bound and calling fit again may find a better value.\n"
     ]
    },
    {
     "name": "stdout",
     "output_type": "stream",
     "text": [
      ">>>>Find next sample: acquisition proposal.\n",
      ">>>>>>METHOD: frequentist MLE approach, component 0/2\n",
      ">>>>>>SAMPLE: component sample size = 14\n"
     ]
    },
    {
     "name": "stderr",
     "output_type": "stream",
     "text": [
      " /home/hrluo/anaconda3/lib/python3.8/site-packages/sklearn/gaussian_process/kernels.py:402: ConvergenceWarning:The optimal value found for dimension 0 of parameter k2__noise_level is close to the specified lower bound 0.001. Decreasing the bound and calling fit again may find a better value.\n",
      " /home/hrluo/anaconda3/lib/python3.8/site-packages/sklearn/gaussian_process/kernels.py:402: ConvergenceWarning:The optimal value found for dimension 0 of parameter k2__noise_level is close to the specified lower bound 0.001. Decreasing the bound and calling fit again may find a better value.\n"
     ]
    },
    {
     "name": "stdout",
     "output_type": "stream",
     "text": [
      ">>>>>>MODULE: sklearn is used, l-bfgs optimization.\n",
      ">>>>Maximal acquisition function =  6.452789330327972e-116  attained at  [ 0.36088013 -0.68756633]  for component  0\n",
      ">>>>>>METHOD: frequentist MLE approach, component 1/2\n",
      ">>>>>>SAMPLE: component sample size = 7\n",
      ">>>>>>MODULE: sklearn is used, l-bfgs optimization.\n",
      ">>>>Maximal acquisition function =  0  attained at  [0.02072197 0.97612936]  for component  1\n",
      ">>>>>>METHOD: frequentist MLE approach, component 2/2\n",
      ">>>>>>SAMPLE: component sample size = 7\n",
      ">>>>>>MODULE: sklearn is used, l-bfgs optimization.\n",
      ">>>>Maximal acquisition function =  0  attained at  [-0.7106162  -0.90339998]  for component  2\n",
      "----------\n",
      ">>Next sample input is chosen to be:  [[-0.7106162  -0.90339998]]\n",
      ">>Next sample response is chosen to be:  [0.10770723]\n",
      "\n",
      ">>>>>>>>>> ***** STEP  20 / 30 ***** <<<<<<<<<<\n",
      ">>CLUSTERED, a cGP surrogate. 3  components in surrogate model.\n",
      ">>>>Find next sample: acquisition proposal.\n",
      ">>>>>>METHOD: frequentist MLE approach, component 0/3\n",
      ">>>>>>SAMPLE: component sample size = 10\n"
     ]
    },
    {
     "name": "stderr",
     "output_type": "stream",
     "text": [
      " /home/hrluo/anaconda3/lib/python3.8/site-packages/sklearn/gaussian_process/kernels.py:402: ConvergenceWarning:The optimal value found for dimension 0 of parameter k2__noise_level is close to the specified lower bound 0.001. Decreasing the bound and calling fit again may find a better value.\n",
      " /home/hrluo/anaconda3/lib/python3.8/site-packages/sklearn/gaussian_process/kernels.py:402: ConvergenceWarning:The optimal value found for dimension 0 of parameter k2__noise_level is close to the specified lower bound 0.001. Decreasing the bound and calling fit again may find a better value.\n"
     ]
    },
    {
     "name": "stdout",
     "output_type": "stream",
     "text": [
      ">>>>>>MODULE: sklearn is used, l-bfgs optimization.\n",
      ">>>>Maximal acquisition function =  0  attained at  [-0.8025132   0.30260866]  for component  0\n",
      ">>>>>>METHOD: frequentist MLE approach, component 1/3\n",
      ">>>>>>SAMPLE: component sample size = 6\n"
     ]
    },
    {
     "name": "stderr",
     "output_type": "stream",
     "text": [
      " /home/hrluo/anaconda3/lib/python3.8/site-packages/sklearn/gaussian_process/kernels.py:402: ConvergenceWarning:The optimal value found for dimension 0 of parameter k2__noise_level is close to the specified lower bound 0.001. Decreasing the bound and calling fit again may find a better value.\n"
     ]
    },
    {
     "name": "stdout",
     "output_type": "stream",
     "text": [
      ">>>>>>MODULE: sklearn is used, l-bfgs optimization.\n",
      ">>>>Maximal acquisition function =  0  attained at  [0.40703398 0.22048163]  for component  1\n",
      ">>>>>>METHOD: frequentist MLE approach, component 2/3\n",
      ">>>>>>SAMPLE: component sample size = 9\n"
     ]
    },
    {
     "name": "stderr",
     "output_type": "stream",
     "text": [
      " /home/hrluo/anaconda3/lib/python3.8/site-packages/sklearn/gaussian_process/kernels.py:402: ConvergenceWarning:The optimal value found for dimension 0 of parameter k2__noise_level is close to the specified lower bound 0.001. Decreasing the bound and calling fit again may find a better value.\n"
     ]
    },
    {
     "name": "stdout",
     "output_type": "stream",
     "text": [
      ">>>>>>MODULE: sklearn is used, l-bfgs optimization.\n",
      ">>>>Maximal acquisition function =  0  attained at  [ 0.59923052 -0.93085756]  for component  2\n",
      ">>>>>>METHOD: frequentist MLE approach, component 3/3\n",
      ">>>>>>SAMPLE: component sample size = 4\n"
     ]
    },
    {
     "name": "stderr",
     "output_type": "stream",
     "text": [
      " /home/hrluo/anaconda3/lib/python3.8/site-packages/sklearn/gaussian_process/kernels.py:402: ConvergenceWarning:The optimal value found for dimension 0 of parameter k2__noise_level is close to the specified lower bound 0.001. Decreasing the bound and calling fit again may find a better value.\n"
     ]
    },
    {
     "name": "stdout",
     "output_type": "stream",
     "text": [
      ">>>>>>MODULE: sklearn is used, l-bfgs optimization.\n",
      ">>>>Maximal acquisition function =  0  attained at  [0.54047747 0.4634572 ]  for component  3\n",
      "----------\n",
      ">>Next sample input is chosen to be:  [[0.54047747 0.4634572 ]]\n",
      ">>Next sample response is chosen to be:  [0.88500185]\n",
      "\n",
      ">>>>>>>>>> ***** STEP  21 / 30 ***** <<<<<<<<<<\n",
      ">>CLUSTERED, a cGP surrogate. 4  components in surrogate model.\n",
      ">>>>Find next sample: acquisition proposal.\n",
      ">>>>>>METHOD: frequentist MLE approach, component 0/3\n",
      ">>>>>>SAMPLE: component sample size = 8\n"
     ]
    },
    {
     "name": "stderr",
     "output_type": "stream",
     "text": [
      " /home/hrluo/anaconda3/lib/python3.8/site-packages/sklearn/gaussian_process/kernels.py:402: ConvergenceWarning:The optimal value found for dimension 0 of parameter k2__noise_level is close to the specified lower bound 0.001. Decreasing the bound and calling fit again may find a better value.\n"
     ]
    },
    {
     "name": "stdout",
     "output_type": "stream",
     "text": [
      ">>>>>>MODULE: sklearn is used, l-bfgs optimization.\n",
      ">>>>Maximal acquisition function =  0  attained at  [ 0.1080643  -0.17729117]  for component  0\n",
      ">>>>>>METHOD: frequentist MLE approach, component 1/3\n",
      ">>>>>>SAMPLE: component sample size = 4\n"
     ]
    },
    {
     "name": "stderr",
     "output_type": "stream",
     "text": [
      " /home/hrluo/anaconda3/lib/python3.8/site-packages/sklearn/gaussian_process/kernels.py:402: ConvergenceWarning:The optimal value found for dimension 0 of parameter k2__noise_level is close to the specified lower bound 0.001. Decreasing the bound and calling fit again may find a better value.\n",
      " /home/hrluo/anaconda3/lib/python3.8/site-packages/sklearn/gaussian_process/kernels.py:402: ConvergenceWarning:The optimal value found for dimension 0 of parameter k2__noise_level is close to the specified lower bound 0.001. Decreasing the bound and calling fit again may find a better value.\n"
     ]
    },
    {
     "name": "stdout",
     "output_type": "stream",
     "text": [
      ">>>>>>MODULE: sklearn is used, l-bfgs optimization.\n",
      ">>>>Maximal acquisition function =  0  attained at  [ 0.93209312 -0.5938843 ]  for component  1\n",
      ">>>>>>METHOD: frequentist MLE approach, component 2/3\n",
      ">>>>>>SAMPLE: component sample size = 10\n",
      ">>>>>>MODULE: sklearn is used, l-bfgs optimization.\n",
      ">>>>Maximal acquisition function =  0  attained at  [0.98565314 0.31839993]  for component  2\n",
      ">>>>>>METHOD: frequentist MLE approach, component 3/3\n",
      ">>>>>>SAMPLE: component sample size = 8\n"
     ]
    },
    {
     "name": "stderr",
     "output_type": "stream",
     "text": [
      " /home/hrluo/anaconda3/lib/python3.8/site-packages/sklearn/gaussian_process/kernels.py:402: ConvergenceWarning:The optimal value found for dimension 0 of parameter k2__noise_level is close to the specified lower bound 0.001. Decreasing the bound and calling fit again may find a better value.\n"
     ]
    },
    {
     "name": "stdout",
     "output_type": "stream",
     "text": [
      ">>>>>>MODULE: sklearn is used, l-bfgs optimization.\n",
      ">>>>Maximal acquisition function =  0  attained at  [ 0.61815448 -0.08369825]  for component  3\n",
      "----------\n",
      ">>Next sample input is chosen to be:  [[ 0.61815448 -0.08369825]]\n",
      ">>Next sample response is chosen to be:  [0.17997001]\n",
      "\n",
      ">>>>>>>>>> ***** STEP  22 / 30 ***** <<<<<<<<<<\n",
      ">>CLUSTERED, a cGP surrogate. 4  components in surrogate model.\n",
      ">>>>Find next sample: acquisition proposal.\n",
      ">>>>>>METHOD: frequentist MLE approach, component 0/2\n",
      ">>>>>>SAMPLE: component sample size = 8\n"
     ]
    },
    {
     "name": "stderr",
     "output_type": "stream",
     "text": [
      " /home/hrluo/anaconda3/lib/python3.8/site-packages/sklearn/gaussian_process/kernels.py:402: ConvergenceWarning:The optimal value found for dimension 0 of parameter k2__noise_level is close to the specified lower bound 0.001. Decreasing the bound and calling fit again may find a better value.\n",
      " /home/hrluo/anaconda3/lib/python3.8/site-packages/sklearn/gaussian_process/kernels.py:402: ConvergenceWarning:The optimal value found for dimension 0 of parameter k2__noise_level is close to the specified lower bound 0.001. Decreasing the bound and calling fit again may find a better value.\n"
     ]
    },
    {
     "name": "stdout",
     "output_type": "stream",
     "text": [
      ">>>>>>MODULE: sklearn is used, l-bfgs optimization.\n",
      ">>>>Maximal acquisition function =  0  attained at  [0.16315481 0.97950342]  for component  0\n",
      ">>>>>>METHOD: frequentist MLE approach, component 1/2\n",
      ">>>>>>SAMPLE: component sample size = 13\n",
      ">>>>>>MODULE: sklearn is used, l-bfgs optimization.\n",
      ">>>>Maximal acquisition function =  0  attained at  [-0.59218755 -0.5045342 ]  for component  1\n",
      ">>>>>>METHOD: frequentist MLE approach, component 2/2\n",
      ">>>>>>SAMPLE: component sample size = 10\n"
     ]
    },
    {
     "name": "stderr",
     "output_type": "stream",
     "text": [
      " /home/hrluo/anaconda3/lib/python3.8/site-packages/sklearn/gaussian_process/kernels.py:402: ConvergenceWarning:The optimal value found for dimension 0 of parameter k2__noise_level is close to the specified lower bound 0.001. Decreasing the bound and calling fit again may find a better value.\n"
     ]
    },
    {
     "name": "stdout",
     "output_type": "stream",
     "text": [
      ">>>>>>MODULE: sklearn is used, l-bfgs optimization.\n",
      ">>>>Maximal acquisition function =  1.123573925417601e-93  attained at  [-0.47565383  0.50034483]  for component  2\n",
      "----------\n",
      ">>Next sample input is chosen to be:  [[-0.47565383  0.50034483]]\n",
      ">>Next sample response is chosen to be:  [0.6292292]\n",
      "\n",
      ">>>>>>>>>> ***** STEP  23 / 30 ***** <<<<<<<<<<\n",
      ">>CLUSTERED, a cGP surrogate. 3  components in surrogate model.\n",
      ">>>>Find next sample: acquisition proposal.\n",
      ">>>>>>METHOD: frequentist MLE approach, component 0/3\n",
      ">>>>>>SAMPLE: component sample size = 11\n"
     ]
    },
    {
     "name": "stderr",
     "output_type": "stream",
     "text": [
      " /home/hrluo/anaconda3/lib/python3.8/site-packages/sklearn/gaussian_process/kernels.py:402: ConvergenceWarning:The optimal value found for dimension 0 of parameter k2__noise_level is close to the specified lower bound 0.001. Decreasing the bound and calling fit again may find a better value.\n",
      " /home/hrluo/anaconda3/lib/python3.8/site-packages/sklearn/gaussian_process/kernels.py:402: ConvergenceWarning:The optimal value found for dimension 0 of parameter k2__noise_level is close to the specified lower bound 0.001. Decreasing the bound and calling fit again may find a better value.\n"
     ]
    },
    {
     "name": "stdout",
     "output_type": "stream",
     "text": [
      ">>>>>>MODULE: sklearn is used, l-bfgs optimization.\n",
      ">>>>Maximal acquisition function =  4.2638450861649305e-64  attained at  [0.57516202 0.80720373]  for component  0\n",
      ">>>>>>METHOD: frequentist MLE approach, component 1/3\n",
      ">>>>>>SAMPLE: component sample size = 11\n",
      ">>>>>>MODULE: sklearn is used, l-bfgs optimization.\n",
      ">>>>Maximal acquisition function =  0  attained at  [-0.56095181  0.47626194]  for component  1\n",
      ">>>>>>METHOD: frequentist MLE approach, component 2/3\n",
      ">>>>>>SAMPLE: component sample size = 6\n"
     ]
    },
    {
     "name": "stderr",
     "output_type": "stream",
     "text": [
      " /home/hrluo/anaconda3/lib/python3.8/site-packages/sklearn/gaussian_process/kernels.py:402: ConvergenceWarning:The optimal value found for dimension 0 of parameter k2__noise_level is close to the specified lower bound 0.001. Decreasing the bound and calling fit again may find a better value.\n",
      " /home/hrluo/anaconda3/lib/python3.8/site-packages/sklearn/gaussian_process/kernels.py:402: ConvergenceWarning:The optimal value found for dimension 0 of parameter k2__noise_level is close to the specified lower bound 0.001. Decreasing the bound and calling fit again may find a better value.\n"
     ]
    },
    {
     "name": "stdout",
     "output_type": "stream",
     "text": [
      ">>>>>>MODULE: sklearn is used, l-bfgs optimization.\n",
      ">>>>Maximal acquisition function =  0.0043320971954348255  attained at  [-0.4691738   0.21758166]  for component  2\n",
      ">>>>>>METHOD: frequentist MLE approach, component 3/3\n",
      ">>>>>>SAMPLE: component sample size = 4\n",
      ">>>>>>MODULE: sklearn is used, l-bfgs optimization.\n",
      ">>>>Maximal acquisition function =  0  attained at  [-0.73514073 -0.25582464]  for component  3\n",
      "----------\n",
      ">>Next sample input is chosen to be:  [[-0.73514073 -0.25582464]]\n",
      ">>Next sample response is chosen to be:  [0.15567806]\n",
      "\n",
      ">>>>>>>>>> ***** STEP  24 / 30 ***** <<<<<<<<<<\n",
      ">>CLUSTERED, a cGP surrogate. 4  components in surrogate model.\n",
      ">>>>Find next sample: acquisition proposal.\n",
      ">>>>>>METHOD: frequentist MLE approach, component 0/3\n",
      ">>>>>>SAMPLE: component sample size = 8\n"
     ]
    },
    {
     "name": "stderr",
     "output_type": "stream",
     "text": [
      " /home/hrluo/anaconda3/lib/python3.8/site-packages/sklearn/gaussian_process/kernels.py:402: ConvergenceWarning:The optimal value found for dimension 0 of parameter k2__noise_level is close to the specified lower bound 0.001. Decreasing the bound and calling fit again may find a better value.\n"
     ]
    },
    {
     "name": "stdout",
     "output_type": "stream",
     "text": [
      ">>>>>>MODULE: sklearn is used, l-bfgs optimization.\n",
      ">>>>Maximal acquisition function =  0  attained at  [-0.44518907  0.63553679]  for component  0\n",
      ">>>>>>METHOD: frequentist MLE approach, component 1/3\n",
      ">>>>>>SAMPLE: component sample size = 4\n"
     ]
    },
    {
     "name": "stderr",
     "output_type": "stream",
     "text": [
      " /home/hrluo/anaconda3/lib/python3.8/site-packages/sklearn/gaussian_process/kernels.py:402: ConvergenceWarning:The optimal value found for dimension 0 of parameter k2__noise_level is close to the specified lower bound 0.001. Decreasing the bound and calling fit again may find a better value.\n",
      " /home/hrluo/anaconda3/lib/python3.8/site-packages/sklearn/gaussian_process/kernels.py:402: ConvergenceWarning:The optimal value found for dimension 0 of parameter k2__noise_level is close to the specified lower bound 0.001. Decreasing the bound and calling fit again may find a better value.\n"
     ]
    },
    {
     "name": "stdout",
     "output_type": "stream",
     "text": [
      ">>>>>>MODULE: sklearn is used, l-bfgs optimization.\n",
      ">>>>Maximal acquisition function =  0  attained at  [ 0.31263172 -0.97743937]  for component  1\n",
      ">>>>>>METHOD: frequentist MLE approach, component 2/3\n",
      ">>>>>>SAMPLE: component sample size = 12\n",
      ">>>>>>MODULE: sklearn is used, l-bfgs optimization.\n",
      ">>>>Maximal acquisition function =  0  attained at  [0.47070739 0.20698929]  for component  2\n",
      ">>>>>>METHOD: frequentist MLE approach, component 3/3\n",
      ">>>>>>SAMPLE: component sample size = 9\n"
     ]
    },
    {
     "name": "stderr",
     "output_type": "stream",
     "text": [
      " /home/hrluo/anaconda3/lib/python3.8/site-packages/sklearn/gaussian_process/kernels.py:402: ConvergenceWarning:The optimal value found for dimension 0 of parameter k2__noise_level is close to the specified lower bound 0.001. Decreasing the bound and calling fit again may find a better value.\n"
     ]
    },
    {
     "name": "stdout",
     "output_type": "stream",
     "text": [
      ">>>>>>MODULE: sklearn is used, l-bfgs optimization.\n",
      ">>>>Maximal acquisition function =  0  attained at  [0.36003828 0.16791958]  for component  3\n",
      "----------\n",
      ">>Next sample input is chosen to be:  [[0.36003828 0.16791958]]\n",
      ">>Next sample response is chosen to be:  [0.98150297]\n",
      "\n",
      ">>>>>>>>>> ***** STEP  25 / 30 ***** <<<<<<<<<<\n",
      ">>CLUSTERED, a cGP surrogate. 4  components in surrogate model.\n",
      ">>>>Find next sample: acquisition proposal.\n",
      ">>>>>>METHOD: frequentist MLE approach, component 0/2\n",
      ">>>>>>SAMPLE: component sample size = 9\n"
     ]
    },
    {
     "name": "stderr",
     "output_type": "stream",
     "text": [
      " /home/hrluo/anaconda3/lib/python3.8/site-packages/sklearn/gaussian_process/kernels.py:402: ConvergenceWarning:The optimal value found for dimension 0 of parameter k2__noise_level is close to the specified lower bound 0.001. Decreasing the bound and calling fit again may find a better value.\n",
      " /home/hrluo/anaconda3/lib/python3.8/site-packages/sklearn/gaussian_process/kernels.py:402: ConvergenceWarning:The optimal value found for dimension 0 of parameter k2__noise_level is close to the specified lower bound 0.001. Decreasing the bound and calling fit again may find a better value.\n"
     ]
    },
    {
     "name": "stdout",
     "output_type": "stream",
     "text": [
      ">>>>>>MODULE: sklearn is used, l-bfgs optimization.\n",
      ">>>>Maximal acquisition function =  0  attained at  [-0.19521496  0.80937232]  for component  0\n",
      ">>>>>>METHOD: frequentist MLE approach, component 1/2\n",
      ">>>>>>SAMPLE: component sample size = 11\n",
      ">>>>>>MODULE: sklearn is used, l-bfgs optimization.\n",
      ">>>>Maximal acquisition function =  0  attained at  [-0.9258779   0.54774869]  for component  1\n",
      ">>>>>>METHOD: frequentist MLE approach, component 2/2\n",
      ">>>>>>SAMPLE: component sample size = 14\n"
     ]
    },
    {
     "name": "stderr",
     "output_type": "stream",
     "text": [
      " /home/hrluo/anaconda3/lib/python3.8/site-packages/sklearn/gaussian_process/kernels.py:402: ConvergenceWarning:The optimal value found for dimension 0 of parameter k2__noise_level is close to the specified lower bound 0.001. Decreasing the bound and calling fit again may find a better value.\n"
     ]
    },
    {
     "name": "stdout",
     "output_type": "stream",
     "text": [
      ">>>>>>MODULE: sklearn is used, l-bfgs optimization.\n",
      ">>>>Maximal acquisition function =  0.0  attained at  [-0.74871724  0.23702713]  for component  2\n",
      "----------\n",
      ">>Next sample input is chosen to be:  [[-0.74871724  0.23702713]]\n",
      ">>Next sample response is chosen to be:  [0.50059961]\n",
      "\n",
      ">>>>>>>>>> ***** STEP  26 / 30 ***** <<<<<<<<<<\n",
      ">>CLUSTERED, a cGP surrogate. 3  components in surrogate model.\n",
      ">>>>Find next sample: acquisition proposal.\n",
      ">>>>>>METHOD: frequentist MLE approach, component 0/3\n",
      ">>>>>>SAMPLE: component sample size = 12\n"
     ]
    },
    {
     "name": "stderr",
     "output_type": "stream",
     "text": [
      " /home/hrluo/anaconda3/lib/python3.8/site-packages/sklearn/gaussian_process/kernels.py:402: ConvergenceWarning:The optimal value found for dimension 0 of parameter k2__noise_level is close to the specified lower bound 0.001. Decreasing the bound and calling fit again may find a better value.\n"
     ]
    },
    {
     "name": "stdout",
     "output_type": "stream",
     "text": [
      ">>>>>>MODULE: sklearn is used, l-bfgs optimization.\n",
      ">>>>Maximal acquisition function =  0  attained at  [0.11011872 0.72237929]  for component  0\n",
      ">>>>>>METHOD: frequentist MLE approach, component 1/3\n",
      ">>>>>>SAMPLE: component sample size = 9\n"
     ]
    },
    {
     "name": "stderr",
     "output_type": "stream",
     "text": [
      " /home/hrluo/anaconda3/lib/python3.8/site-packages/sklearn/gaussian_process/kernels.py:402: ConvergenceWarning:The optimal value found for dimension 0 of parameter k2__noise_level is close to the specified lower bound 0.001. Decreasing the bound and calling fit again may find a better value.\n"
     ]
    },
    {
     "name": "stdout",
     "output_type": "stream",
     "text": [
      ">>>>>>MODULE: sklearn is used, l-bfgs optimization.\n",
      ">>>>Maximal acquisition function =  0  attained at  [ 0.49064302 -0.47090137]  for component  1\n",
      ">>>>>>METHOD: frequentist MLE approach, component 2/3\n",
      ">>>>>>SAMPLE: component sample size = 4\n"
     ]
    },
    {
     "name": "stderr",
     "output_type": "stream",
     "text": [
      " /home/hrluo/anaconda3/lib/python3.8/site-packages/sklearn/gaussian_process/kernels.py:402: ConvergenceWarning:The optimal value found for dimension 0 of parameter k2__noise_level is close to the specified lower bound 0.001. Decreasing the bound and calling fit again may find a better value.\n",
      " /home/hrluo/anaconda3/lib/python3.8/site-packages/sklearn/gaussian_process/kernels.py:402: ConvergenceWarning:The optimal value found for dimension 0 of parameter k2__noise_level is close to the specified lower bound 0.001. Decreasing the bound and calling fit again may find a better value.\n"
     ]
    },
    {
     "name": "stdout",
     "output_type": "stream",
     "text": [
      ">>>>>>MODULE: sklearn is used, l-bfgs optimization.\n",
      ">>>>Maximal acquisition function =  0  attained at  [0.99953823 0.1474638 ]  for component  2\n",
      ">>>>>>METHOD: frequentist MLE approach, component 3/3\n",
      ">>>>>>SAMPLE: component sample size = 10\n",
      ">>>>>>MODULE: sklearn is used, l-bfgs optimization.\n",
      ">>>>Maximal acquisition function =  0  attained at  [ 0.27811794 -0.02060079]  for component  3\n",
      "----------\n",
      ">>Next sample input is chosen to be:  [[ 0.27811794 -0.02060079]]\n",
      ">>Next sample response is chosen to be:  [0.23195958]\n",
      "\n",
      ">>>>>>>>>> ***** STEP  27 / 30 ***** <<<<<<<<<<\n",
      ">>CLUSTERED, a cGP surrogate. 4  components in surrogate model.\n",
      ">>>>Find next sample: acquisition proposal.\n",
      ">>>>>>METHOD: frequentist MLE approach, component 0/2\n",
      ">>>>>>SAMPLE: component sample size = 8\n"
     ]
    },
    {
     "name": "stderr",
     "output_type": "stream",
     "text": [
      " /home/hrluo/anaconda3/lib/python3.8/site-packages/sklearn/gaussian_process/kernels.py:402: ConvergenceWarning:The optimal value found for dimension 0 of parameter k2__noise_level is close to the specified lower bound 0.001. Decreasing the bound and calling fit again may find a better value.\n"
     ]
    },
    {
     "name": "stdout",
     "output_type": "stream",
     "text": [
      ">>>>>>MODULE: sklearn is used, l-bfgs optimization.\n",
      ">>>>Maximal acquisition function =  0.0012672745915882021  attained at  [-0.28487719  0.0965147 ]  for component  0\n",
      ">>>>>>METHOD: frequentist MLE approach, component 1/2\n",
      ">>>>>>SAMPLE: component sample size = 15\n",
      ">>>>>>MODULE: sklearn is used, l-bfgs optimization.\n",
      ">>>>Maximal acquisition function =  0  attained at  [0.02458538 0.87777295]  for component  1\n",
      ">>>>>>METHOD: frequentist MLE approach, component 2/2\n",
      ">>>>>>SAMPLE: component sample size = 13\n"
     ]
    },
    {
     "name": "stderr",
     "output_type": "stream",
     "text": [
      " /home/hrluo/anaconda3/lib/python3.8/site-packages/sklearn/gaussian_process/kernels.py:402: ConvergenceWarning:The optimal value found for dimension 0 of parameter k2__noise_level is close to the specified lower bound 0.001. Decreasing the bound and calling fit again may find a better value.\n",
      " /home/hrluo/anaconda3/lib/python3.8/site-packages/sklearn/gaussian_process/kernels.py:402: ConvergenceWarning:The optimal value found for dimension 0 of parameter k2__noise_level is close to the specified lower bound 0.001. Decreasing the bound and calling fit again may find a better value.\n",
      " /home/hrluo/anaconda3/lib/python3.8/site-packages/sklearn/gaussian_process/kernels.py:402: ConvergenceWarning:The optimal value found for dimension 0 of parameter k2__noise_level is close to the specified lower bound 0.001. Decreasing the bound and calling fit again may find a better value.\n"
     ]
    },
    {
     "name": "stdout",
     "output_type": "stream",
     "text": [
      ">>>>>>MODULE: sklearn is used, l-bfgs optimization.\n",
      ">>>>Maximal acquisition function =  8.795096876650462e-77  attained at  [-0.93810199  0.43375733]  for component  2\n",
      "----------\n",
      ">>Next sample input is chosen to be:  [[-0.93810199  0.43375733]]\n",
      ">>Next sample response is chosen to be:  [0.4089389]\n",
      "\n",
      ">>>>>>>>>> ***** STEP  28 / 30 ***** <<<<<<<<<<\n",
      ">>CLUSTERED, a cGP surrogate. 3  components in surrogate model.\n",
      ">>>>Find next sample: acquisition proposal.\n",
      ">>>>>>METHOD: frequentist MLE approach, component 0/3\n",
      ">>>>>>SAMPLE: component sample size = 13\n",
      ">>>>>>MODULE: sklearn is used, l-bfgs optimization.\n",
      ">>>>Maximal acquisition function =  0  attained at  [0.63920932 0.67767571]  for component  0\n",
      ">>>>>>METHOD: frequentist MLE approach, component 1/3\n",
      ">>>>>>SAMPLE: component sample size = 9\n"
     ]
    },
    {
     "name": "stderr",
     "output_type": "stream",
     "text": [
      " /home/hrluo/anaconda3/lib/python3.8/site-packages/sklearn/gaussian_process/kernels.py:402: ConvergenceWarning:The optimal value found for dimension 0 of parameter k2__noise_level is close to the specified lower bound 0.001. Decreasing the bound and calling fit again may find a better value.\n"
     ]
    },
    {
     "name": "stdout",
     "output_type": "stream",
     "text": [
      ">>>>>>MODULE: sklearn is used, l-bfgs optimization.\n",
      ">>>>Maximal acquisition function =  0  attained at  [ 0.04559206 -0.67612421]  for component  1\n",
      ">>>>>>METHOD: frequentist MLE approach, component 2/3\n",
      ">>>>>>SAMPLE: component sample size = 4\n"
     ]
    },
    {
     "name": "stderr",
     "output_type": "stream",
     "text": [
      " /home/hrluo/anaconda3/lib/python3.8/site-packages/sklearn/gaussian_process/kernels.py:402: ConvergenceWarning:The optimal value found for dimension 0 of parameter k2__noise_level is close to the specified lower bound 0.001. Decreasing the bound and calling fit again may find a better value.\n"
     ]
    },
    {
     "name": "stdout",
     "output_type": "stream",
     "text": [
      ">>>>>>MODULE: sklearn is used, l-bfgs optimization.\n",
      ">>>>Maximal acquisition function =  0  attained at  [ 0.89795404 -0.88110185]  for component  2\n",
      ">>>>>>METHOD: frequentist MLE approach, component 3/3\n",
      ">>>>>>SAMPLE: component sample size = 11\n"
     ]
    },
    {
     "name": "stderr",
     "output_type": "stream",
     "text": [
      " /home/hrluo/anaconda3/lib/python3.8/site-packages/sklearn/gaussian_process/kernels.py:402: ConvergenceWarning:The optimal value found for dimension 0 of parameter k2__noise_level is close to the specified lower bound 0.001. Decreasing the bound and calling fit again may find a better value.\n"
     ]
    },
    {
     "name": "stdout",
     "output_type": "stream",
     "text": [
      ">>>>>>MODULE: sklearn is used, l-bfgs optimization.\n",
      ">>>>Maximal acquisition function =  0  attained at  [0.77299897 0.14868845]  for component  3\n",
      "----------\n",
      ">>Next sample input is chosen to be:  [[0.77299897 0.14868845]]\n",
      ">>Next sample response is chosen to be:  [0.77894241]\n",
      "\n",
      ">>>>>>>>>> ***** STEP  29 / 30 ***** <<<<<<<<<<\n",
      ">>CLUSTERED, a cGP surrogate. 4  components in surrogate model.\n",
      ">>>>Find next sample: acquisition proposal.\n",
      ">>>>>>METHOD: frequentist MLE approach, component 0/3\n",
      ">>>>>>SAMPLE: component sample size = 4\n"
     ]
    },
    {
     "name": "stderr",
     "output_type": "stream",
     "text": [
      " /home/hrluo/anaconda3/lib/python3.8/site-packages/sklearn/gaussian_process/kernels.py:402: ConvergenceWarning:The optimal value found for dimension 0 of parameter k2__noise_level is close to the specified lower bound 0.001. Decreasing the bound and calling fit again may find a better value.\n"
     ]
    },
    {
     "name": "stdout",
     "output_type": "stream",
     "text": [
      ">>>>>>MODULE: sklearn is used, l-bfgs optimization.\n",
      ">>>>Maximal acquisition function =  0  attained at  [-0.20169321 -0.44905963]  for component  0\n",
      ">>>>>>METHOD: frequentist MLE approach, component 1/3\n",
      ">>>>>>SAMPLE: component sample size = 11\n"
     ]
    },
    {
     "name": "stderr",
     "output_type": "stream",
     "text": [
      " /home/hrluo/anaconda3/lib/python3.8/site-packages/sklearn/gaussian_process/kernels.py:402: ConvergenceWarning:The optimal value found for dimension 0 of parameter k2__noise_level is close to the specified lower bound 0.001. Decreasing the bound and calling fit again may find a better value.\n",
      " /home/hrluo/anaconda3/lib/python3.8/site-packages/sklearn/gaussian_process/kernels.py:402: ConvergenceWarning:The optimal value found for dimension 0 of parameter k2__noise_level is close to the specified lower bound 0.001. Decreasing the bound and calling fit again may find a better value.\n"
     ]
    },
    {
     "name": "stdout",
     "output_type": "stream",
     "text": [
      ">>>>>>MODULE: sklearn is used, l-bfgs optimization.\n",
      ">>>>Maximal acquisition function =  0  attained at  [-0.89671752 -0.72257075]  for component  1\n",
      ">>>>>>METHOD: frequentist MLE approach, component 2/3\n",
      ">>>>>>SAMPLE: component sample size = 13\n",
      ">>>>>>MODULE: sklearn is used, l-bfgs optimization.\n",
      ">>>>Maximal acquisition function =  1.360118194804787e-51  attained at  [ 0.55727681 -0.6438933 ]  for component  2\n",
      ">>>>>>METHOD: frequentist MLE approach, component 3/3\n",
      ">>>>>>SAMPLE: component sample size = 10\n"
     ]
    },
    {
     "name": "stderr",
     "output_type": "stream",
     "text": [
      " /home/hrluo/anaconda3/lib/python3.8/site-packages/sklearn/gaussian_process/kernels.py:402: ConvergenceWarning:The optimal value found for dimension 0 of parameter k2__noise_level is close to the specified lower bound 0.001. Decreasing the bound and calling fit again may find a better value.\n"
     ]
    },
    {
     "name": "stdout",
     "output_type": "stream",
     "text": [
      ">>>>>>MODULE: sklearn is used, l-bfgs optimization.\n",
      ">>>>Maximal acquisition function =  3.342617929890557e-05  attained at  [0.05155543 0.84794825]  for component  3\n",
      "----------\n",
      ">>Next sample input is chosen to be:  [[0.05155543 0.84794825]]\n",
      ">>Next sample response is chosen to be:  [0.7158594]\n",
      "\n",
      ">>>>>>>>>> ***** STEP  30 / 30 ***** <<<<<<<<<<\n",
      ">>CLUSTERED, a cGP surrogate. 4  components in surrogate model.\n",
      ">>>>Find next sample: acquisition proposal.\n",
      ">>>>>>METHOD: frequentist MLE approach, component 0/3\n",
      ">>>>>>SAMPLE: component sample size = 11\n"
     ]
    },
    {
     "name": "stderr",
     "output_type": "stream",
     "text": [
      " /home/hrluo/anaconda3/lib/python3.8/site-packages/sklearn/gaussian_process/kernels.py:402: ConvergenceWarning:The optimal value found for dimension 0 of parameter k2__noise_level is close to the specified lower bound 0.001. Decreasing the bound and calling fit again may find a better value.\n"
     ]
    },
    {
     "name": "stdout",
     "output_type": "stream",
     "text": [
      ">>>>>>MODULE: sklearn is used, l-bfgs optimization.\n",
      ">>>>Maximal acquisition function =  0  attained at  [ 0.95070007 -0.66403341]  for component  0\n",
      ">>>>>>METHOD: frequentist MLE approach, component 1/3\n",
      ">>>>>>SAMPLE: component sample size = 4\n"
     ]
    },
    {
     "name": "stderr",
     "output_type": "stream",
     "text": [
      " /home/hrluo/anaconda3/lib/python3.8/site-packages/sklearn/gaussian_process/kernels.py:402: ConvergenceWarning:The optimal value found for dimension 0 of parameter k2__noise_level is close to the specified lower bound 0.001. Decreasing the bound and calling fit again may find a better value.\n",
      " /home/hrluo/anaconda3/lib/python3.8/site-packages/sklearn/gaussian_process/kernels.py:402: ConvergenceWarning:The optimal value found for dimension 0 of parameter k2__noise_level is close to the specified lower bound 0.001. Decreasing the bound and calling fit again may find a better value.\n"
     ]
    },
    {
     "name": "stdout",
     "output_type": "stream",
     "text": [
      ">>>>>>MODULE: sklearn is used, l-bfgs optimization.\n",
      ">>>>Maximal acquisition function =  0  attained at  [0.94557518 0.53494974]  for component  1\n",
      ">>>>>>METHOD: frequentist MLE approach, component 2/3\n",
      ">>>>>>SAMPLE: component sample size = 13\n",
      ">>>>>>MODULE: sklearn is used, l-bfgs optimization.\n",
      ">>>>Maximal acquisition function =  0  attained at  [0.64847568 0.26523163]  for component  2\n",
      ">>>>>>METHOD: frequentist MLE approach, component 3/3\n",
      ">>>>>>SAMPLE: component sample size = 11\n",
      ">>>>>>MODULE: sklearn is used, l-bfgs optimization.\n",
      ">>>>Maximal acquisition function =  0  attained at  [ 0.33746554 -0.04623533]  for component  3\n",
      "----------\n",
      ">>Next sample input is chosen to be:  [[ 0.33746554 -0.04623533]]\n",
      ">>Next sample response is chosen to be:  [0.22401018]\n"
     ]
    },
    {
     "name": "stderr",
     "output_type": "stream",
     "text": [
      " /home/hrluo/anaconda3/lib/python3.8/site-packages/sklearn/gaussian_process/kernels.py:402: ConvergenceWarning:The optimal value found for dimension 0 of parameter k2__noise_level is close to the specified lower bound 0.001. Decreasing the bound and calling fit again may find a better value.\n"
     ]
    }
   ],
   "source": [
    "########################################\n",
    "#        Draw sequential samples       #\n",
    "########################################\n",
    "from scipy import stats\n",
    "from matplotlib import cm\n",
    "mycm = cm.Spectral\n",
    "VERBOSE = False\n",
    "GETPLOT = False\n",
    "\n",
    "#Prepare sequential samples (X,Y)\n",
    "print('\\n>>>>>>>>>>Sampling ',N_SEQUENTIAL,' sequential samples...<<<<<<<<<<\\n')\n",
    "X_sample = X_sample_XY\n",
    "Y_sample = Y_sample_XY\n",
    "cluster_label = XY_label\n",
    "\n",
    "def get_KER():\n",
    "    return KERNEL_TEMPLATE\n",
    "#This recode function will turn the labels into increasing order,e.g. [1, 1, 3, 3, 0] ==> [0, 0, 1, 1, 2].\n",
    "def recode(label):\n",
    "    level = np.unique(np.array(label))\n",
    "    ck = 0\n",
    "    for j in level:\n",
    "        label[label==j]=ck\n",
    "        ck=ck+1\n",
    "    return label\n",
    "#Main loop that guides us in sampling sequential samples\n",
    "comp_l = np.unique(np.array(cluster_label))\n",
    "\n",
    "for it in range(N_SEQUENTIAL):\n",
    "    print('\\n>>>>>>>>>> ***** STEP ',it+1,'/',N_SEQUENTIAL,'***** <<<<<<<<<<')\n",
    "    #Step 1. For observations, we can do a (unsupervised) (X,Y)-clustering and label them, different components are generated.\n",
    "    #Create the (X,Y) joint sample to conduct (unsupervised clustering)\n",
    "    if len(X_TRANSLATE)>0:\n",
    "        X_TRANSLATE = np.mean(X_sample,axis=0)\n",
    "    if Y_TRANSLATE != 0:\n",
    "        Y_TRANSLATE = np.mean(Y_sample)\n",
    "    #The cluster must be based on adjusted response value Y.\n",
    "    XY_sample        = np.concatenate((X_AMPLIFY*(X_sample-X_TRANSLATE),Y_AMPLIFY*(Y_sample-Y_TRANSLATE).reshape(-1,1)),axis=1)\n",
    "    if NO_CLUSTER:\n",
    "        print('>>NO CLUSTER, a GP surrogate.')\n",
    "        cluster_label    = np.zeros(XY_sample.shape[0])\n",
    "    else:\n",
    "        print('>>CLUSTERED, a cGP surrogate.',len(comp_l),' components in surrogate model.')\n",
    "        cluster_label    = dgm_XY.fit_predict(XY_sample)#cluster_label\n",
    "        if VERBOSE: print('dgm label', cluster_label)\n",
    "        #Again, we need to ensure that every cluster has at least d (dimension of covariate) samples.\n",
    "        for c in np.unique(cluster_label):\n",
    "            if sum(cluster_label==c)<=X_sample.shape[1]:\n",
    "                occ = np.bincount(cluster_label)\n",
    "                cluster_label[np.where(cluster_label==c)] = np.argmax(occ)\n",
    "        if VERBOSE: print('merged label',cluster_label)\n",
    "    cluster_label = recode(cluster_label)\n",
    "    if VERBOSE: print('All labels are recoded: ',cluster_label)\n",
    "    #Create arrays to store the mean&variance at observed locations and predictive locations.\n",
    "    mean_fun = np.zeros((len(cluster_label),1))\n",
    "    var_fun = np.copy(mean_fun)\n",
    "    \n",
    "    #Step 2. For predictive locations, we can do a (supervised) k-nearest neighbor classification, and predict at each location based on which component it belongs to. \n",
    "    clf_XY = KNeighborsClassifier(n_neighbors=N_NEIGHBORS)\n",
    "    clf_XY.fit(X_sample,cluster_label)\n",
    "        \n",
    "    #Step 3. We either randomly search one location or compute the acquisition function and then proceed to the next sample, after adding the new sample we repeat Step 1 and 2.\n",
    "    coin = np.random.uniform(0,1,1)\n",
    "    if coin<EXPLORATION_RATE:\n",
    "        print('>>>>Find next sample: acquisition proposal.')\n",
    "        comp_l = np.unique(np.array(cluster_label))\n",
    "        for c in comp_l:\n",
    "            #Assign the corresponding X_sample and Y_sample values to the cluster coded by c. \n",
    "            c_idx = np.where(cluster_label == int(c))\n",
    "            if VERBOSE: \n",
    "                print('>>>>Fitting component ',c,'/',len(comp_l)-1,' total components')\n",
    "                print(c_idx)\n",
    "            Xt = X_sample[c_idx].ravel().reshape(-1,X_sample.shape[1])\n",
    "            Yt = Y_sample[c_idx].ravel().reshape(-1,1)\n",
    "            #Fit the model with normalization\n",
    "            if USE_SKLEARN==True:\n",
    "                mt = GaussianProcessRegressor(kernel=get_KER(), random_state=0, normalize_y=SKLEARN_normalizer,alpha=ALPHA_SKLEARN,  \n",
    "                                              optimizer='fmin_l_bfgs_b', n_restarts_optimizer=int(10*bounds.shape[0]))\n",
    "            else:\n",
    "                mt = GPy.models.GPRegression(Xt, Yt, kernel=get_KER(), normalizer=GPy_normalizer)\n",
    "            ###\n",
    "            if METHOD == 'FREQUENTIST':\n",
    "                ##############################\n",
    "                #Frequentist MLE GP surrogate#\n",
    "                ##############################\n",
    "                print('>>>>>>METHOD: frequentist MLE approach, component '+str(c)+'/'+str(len(comp_l)-1))\n",
    "                print('>>>>>>SAMPLE: component sample size =',len(c_idx[0]) )\n",
    "                if USE_SKLEARN==True:\n",
    "                    mt.fit(Xt, Yt)\n",
    "                    #No need to do more for sklearn GP\n",
    "                    print('>>>>>>MODULE: sklearn is used, l-bfgs optimization.')\n",
    "                    if VERBOSE: print(mt.kernel_, mt.log_marginal_likelihood(mt.kernel_.theta))\n",
    "                else:\n",
    "                    print('>>>>>>MODULE: GPy is used, l-bfgs optimization.')\n",
    "                    mt.optimize(optimizer='bfgs', gtol = 1e-100, messages=VERBOSE, max_iters=int(10000*bounds.shape[0]))\n",
    "                    mt.optimize_restarts(num_restarts=int(10*bounds.shape[0]),robust=True,verbose=VERBOSE)\n",
    "            elif METHOD == 'BAYESIAN':\n",
    "                if USE_SKLEARN: sys.exit('FUTURE: Currently we cannot fit with Bayesian method using sklearn, we have GPy only.')\n",
    "                ##############################\n",
    "                #Fully Bayesian GP surrogate #\n",
    "                ##############################\n",
    "                #Prior on the \"hyper-parameters\" for the GP surrogate model.\n",
    "                print('>>>>>>METHOD: Fully Bayesian approach, component '+str(c)+'/'+str(len(comp_l)-1))\n",
    "                print('>>>>>>SAMPLE: component sample size =',len(c_idx[0]) )\n",
    "                mt.kern.lengthscale.set_prior(GPy.priors.Gamma.from_EV(1.,10.))\n",
    "                mt.kern.variance.set_prior(GPy.priors.Gamma.from_EV(1.,10.))\n",
    "                #HMC sampling, fully Bayesian approach to estimate the kernel parameters.\n",
    "                hmc = GPy.inference.mcmc.HMC(mt,stepsize=0.1)\n",
    "                s = hmc.sample(num_samples=N_BURNIN) # Burnin\n",
    "                s = hmc.sample(num_samples=N_MCMCSAMPLES)\n",
    "                MCMC_samples = s[N_INFERENCE:] # cut out the burn-in period\n",
    "                # Set the model parameters as the posterior mean\n",
    "                mt.kern.variance[:]    = MCMC_samples[:,0].mean()\n",
    "                mt.kern.lengthscale[:] = MCMC_samples[:,1].mean()\n",
    "            #######################################\n",
    "            # Optimization module(each component) #\n",
    "            #######################################\n",
    "            #mt2 predicts on observed locations.\n",
    "            #No matter GRID_SEARCH true or not, we still need to predict on observed locations\n",
    "            if USE_SKLEARN:\n",
    "                mt2 = mt.predict(Xt,return_std=True, return_cov=False)\n",
    "                mean_fun[c_idx,0] = mean_fun[c_idx,0] + mt2[0].reshape(1,-1)\n",
    "                var_fun[c_idx,0]  = var_fun[c_idx,0]  + mt2[1].reshape(1,-1)\n",
    "            else:\n",
    "                mt2 = mt.predict(Xt)\n",
    "                mean_fun[c_idx,0] = mean_fun[c_idx,0] + mt2[0].reshape(1,-1)#*np.std(Yt) + np.mean(Yt)\n",
    "                var_fun[c_idx,0]  = var_fun[c_idx,0]  + mt2[1].reshape(1,-1)#*np.std(Yt)*np.std(Yt)\n",
    "            #Define the expected improvement as objective function to optimize over.\n",
    "            def my_obj(X):\n",
    "                my_X = X.reshape(1, -1)\n",
    "                my_X_label = clf_XY.predict(my_X)\n",
    "                #If not in this component, set it to zero immediately.\n",
    "                if my_X_label != int(c): return -0\n",
    "                my_xi = 0.0 #tuning parameter, set it to zero for now.\n",
    "                if USE_SKLEARN:\n",
    "                    my_gp = mt.predict(my_X, return_std=True, return_cov=False)\n",
    "                    my_mu = my_gp[0]\n",
    "                    my_sigma = my_gp[1]\n",
    "                else:\n",
    "                    my_gp = mt.predict(my_X)\n",
    "                    my_mu = my_gp[0]\n",
    "                    my_sigma = my_gp[1]\n",
    "                    my_sigma = np.sqrt(np.absolute(my_sigma)).reshape(-1, 1)\n",
    "                my_mu = np.asarray(my_mu)\n",
    "                my_sigma = np.asarray(my_sigma)\n",
    "                with np.errstate(divide='warn'):\n",
    "                    my_imp = my_mu - np.max(mt2[0].reshape(1,-1)) - my_xi\n",
    "                    my_Z = np.divide(my_imp,my_sigma)\n",
    "                    #norm = mvn(mean=np.zeros(X_sample[0,:].shape), cov=np.eye(X_sample.shape[1]))\n",
    "                    my_ei = my_imp * norm.cdf(my_Z) + my_sigma * norm.pdf(my_Z)\n",
    "                    my_ei[np.where(my_sigma <= 0.0)] = 0.0\n",
    "                #Here we penalize the acquisition function value according to boundary_penalty function, by default this would be disabled. See document for details.\n",
    "                my_ei = my_ei + boundary_penalty(my_X,X_sample)\n",
    "                my_ei = float(my_ei.ravel())\n",
    "                if VERBOSE: print('EI=',my_ei,'\\n')\n",
    "                return - my_ei/Xt.shape[0]\n",
    "            #Optimize this my_obj using some optimization method.\n",
    "            from scipy.optimize import minimize\n",
    "            #from scipy.optimize import dual_annealing\n",
    "            func = my_obj#lambda x:my_obj(x,mt,clf_XY) #Since the anneal finds minimum\n",
    "            lw = bounds[:,0].tolist()\n",
    "            up = bounds[:,1].tolist()\n",
    "            #ret = dual_annealing(func, bounds=list(zip(lw, up)), seed=123)\n",
    "            #dual annealing works for dim=1\n",
    "            ret = minimize(fun=func, x0=np.random.uniform(bounds[:,0].T,bounds[:,1].T), bounds=list(zip(lw, up)), method='L-BFGS-B')\n",
    "            print('>>>>Maximal acquisition function = ',-ret.fun,' attained at ',ret.x,' for component ',c)\n",
    "            X_next = ret.x\n",
    "    else:\n",
    "        print('>>>>Find next sample: random search.')\n",
    "        randomize_counter = 0\n",
    "        X_rand = np.zeros((1,bounds.shape[0]))\n",
    "        for j in range(bounds.shape[0]):\n",
    "            X_rand[0,j] = np.random.uniform(bounds[j,0],bounds[j,1],1)\n",
    "        X_next = X_rand\n",
    "        #If we do not want repetitive samples, we sample until there are no points nearby. \n",
    "        while ~random_domain(X_next,X_sample):\n",
    "            if VERBOSE: print('Random search: ',X_next,'hits a repetitive sample OR does not hit the random_domain constraint, resampling...')\n",
    "            X_rand = np.zeros((1,bounds.shape[0]))\n",
    "            for j in range(bounds.shape[0]):\n",
    "                X_rand[0,j] = np.random.uniform(bounds[j,0],bounds[j,1],1)\n",
    "            X_next = X_rand\n",
    "            randomize_counter = randomize_counter + 1\n",
    "        print('>>>>Random search stops after ',randomize_counter,' steps.')\n",
    "    #Optional: Following are plotting features that tracks the optimization procedure\n",
    "    X_next = X_next.reshape(1,-1)\n",
    "    Y_next = f_truth(X_next)\n",
    "    print('----------')\n",
    "    print('>>Next sample input is chosen to be: ',X_next)\n",
    "    print('>>Next sample response is chosen to be: ',Y_next.ravel())\n",
    "    if GETPLOT:\n",
    "        X_new = x0grid_ravel\n",
    "        if bounds.shape[0]==1:\n",
    "            fig, axs = plt.subplots(2,figsize=(6,6))\n",
    "            fig.suptitle('Fitted surrogate model, sample size = '+str(X_sample.shape[0]))\n",
    "            axs[0].plot(X_new,mean_new,color='b')\n",
    "            axs[0].scatter(X_sample,Y_sample,color='b')\n",
    "            axs[0].set_title('observed samples and mean')\n",
    "            ci = np.sqrt(var_new)#/mean_new\n",
    "            axs[0].fill_between(X_new.ravel(), (mean_new-ci).ravel(), (mean_new+ci).ravel(), color='b', alpha=.1)\n",
    "            axs[1].plot(fine_grid,ei_grid,color='k')\n",
    "            axs[1].scatter(X_next,ei_next,marker='v',color='r',s=100)\n",
    "            axs[1].text(s='x='+str(X_next),x=X_next,y=np.max(ei_grid),color='r',fontsize=12)\n",
    "            axs[1].set_title('acquisition/expected improvement function')\n",
    "            plt.show()\n",
    "        if bounds.shape[0]==2:\n",
    "            fig, axs = plt.subplots(2,figsize=(6,12))\n",
    "            fig.suptitle('Fitted surrogate model, sample size = '+str(X_sample.shape[0]))\n",
    "            axs[0].scatter(X_new[:,0],X_new[:,1],c=mean_new.ravel(),cmap=mycm)\n",
    "            axs[0].scatter(X_sample[:,0],X_sample[:,1],c=Y_sample.ravel(),cmap=mycm,marker='v',s=200,edgecolors='k')\n",
    "\n",
    "            axs[0].set_title('observed samples and mean')\n",
    "            ci = np.sqrt(var_new)#/mean_new\n",
    "            axs[1].scatter(fine_grid[:,0],fine_grid[:,1],c=ei_grid.ravel(),cmap=mycm)\n",
    "            axs[1].scatter(X_next[0,0],X_next[0,1],marker='v',color=None,s=200,edgecolors='k')\n",
    "            axs[1].text(s='x='+str(X_next),x=X_next[0,0],y=X_next[0,1],color='k',fontsize=12)\n",
    "            axs[1].set_title('acquisition/expected improvement function')\n",
    "            plt.show()\n",
    "        #plt.savefig('cGP'+rdstr+'_step'+str(it)+'_'+str(n)+'_'+str(m)+'_'+str(l)+'.png')\n",
    "    #Update X and Y from this step.\n",
    "    X_sample = np.vstack((X_sample,X_next))\n",
    "    Y_sample = np.vstack((Y_sample,censor_function(Y_next) ))\n",
    "\n"
   ]
  },
  {
   "cell_type": "code",
   "execution_count": 6,
   "metadata": {},
   "outputs": [
    {
     "name": "stdout",
     "output_type": "stream",
     "text": [
      "Sample start date and time = 2021/08/14 22:43:41\n",
      "Sample end date and time = 2021/08/14 22:44:03\n"
     ]
    }
   ],
   "source": [
    "sampleendingtime = datetime.now()\n",
    "# dd/mm/YY H:M:S\n",
    "samplestartingtime  = samplestartingtime.strftime(\"%Y/%m/%d %H:%M:%S\")\n",
    "sampleendingtime  = sampleendingtime.strftime(\"%Y/%m/%d %H:%M:%S\")\n",
    "print(\"Sample start date and time =\", samplestartingtime)\n",
    "print(\"Sample end date and time =\", sampleendingtime)\n",
    "#print(X_sample)\n",
    "#print(Y_sample)\n",
    "#print(np.hstack((Y_sample,X_sample)).shape)\n",
    "if NO_CLUSTER==True:\n",
    "    FILE_NAME = EXAMPLE_NAME+'_local_GP('+rdstr+')'\n",
    "else:\n",
    "    FILE_NAME = EXAMPLE_NAME+'_local_cGP_k='+str(N_COMPONENTS)+'('+rdstr+')'\n",
    "np.savetxt(FILE_NAME+'.txt', np.hstack((Y_sample,X_sample)), delimiter =', ')  \n",
    "\n",
    "sample_max_x = X_sample[np.argmax(Y_sample),:] \n",
    "sample_max_f = Y_sample[np.argmax(Y_sample),:]\n",
    "sample_min_x = X_sample[np.argmin(Y_sample),:] \n",
    "sample_min_f = Y_sample[np.argmin(Y_sample),:]"
   ]
  },
  {
   "cell_type": "code",
   "execution_count": 7,
   "metadata": {},
   "outputs": [
    {
     "name": "stdout",
     "output_type": "stream",
     "text": [
      "Logs of run with stamp:  mpzzlplq , is saved at /media/hrluo/ALL/LBNLhrluo/minimalcGP\n"
     ]
    }
   ],
   "source": [
    "if True:\n",
    "    original_stdout = sys.stdout # Save a reference to the original standard output\n",
    "    with open(FILE_NAME+'.log', 'w') as f:\n",
    "        sys.stdout = f # Change the standard output to the file we created.\n",
    "        #print('This message will be written to a file.')\n",
    "        print(\"Example: \",EXAMPLE_NAME,file=f)\n",
    "        print(\"Sample start date and time = \", samplestartingtime)\n",
    "        print(\"Sample end date and time = \", sampleendingtime)\n",
    "        print(\"Python version: \", sys.version)\n",
    "        #print(\"Filename of the script: \", sys.argv[0])\n",
    "        print(\"Commandline arguments: \",sys.argv)\n",
    "        print(\"Random seed: \",RND_SEED)\n",
    "        print('Random stamp: ',rdstr)\n",
    "        print('GPy version: ', GPy.__version__)\n",
    "        print('sklearn version: ', sklearn.__version__)\n",
    "        print('Number of pilot samples: ',N_PILOT)\n",
    "        print('Number of sequential samples: ',N_SEQUENTIAL)\n",
    "        print('Surrogate fitting method: ',METHOD)\n",
    "        if METHOD==\"BAYESIAN\":\n",
    "            print('MCMC>Burn-in steps: ',N_BURNIN)\n",
    "            print('MCMC>Sampling steps: ',N_MCMCSAMPLES)\n",
    "            print('MCMC>Inference sample length: ',N_INFERENCE)\n",
    "        print('Surrogate> Are we using sklearn for GPR?: ',USE_SKLEARN)\n",
    "        print('Surrogate> kernel type: ',get_KER())\n",
    "        if USE_SKLEARN:\n",
    "            print('Surrogate>sklearn>jittering: ',ALPHA_SKLEARN)\n",
    "            print('Surrogate>sklearn>normalizer; ',SKLEARN_normalizer)\n",
    "        else:\n",
    "            #print('Surrogate>GPy>Nugget noise variance',NUGGET)\n",
    "            print('Surrogate>GPy>jittering: ',N_JITTER)\n",
    "            print('Surrogate>GPy>normalizer; ',GPy_normalizer)\n",
    "        print('Surrogate> Fit a simple GP?(no cluster): ',NO_CLUSTER)\n",
    "        print('Cluster> Response amplifier when clustering: ',Y_AMPLIFY)\n",
    "        print('Cluster> Maximal number of components/clusters: ',N_COMPONENTS)\n",
    "        print('Classify> k in k-nearest neighbor classifier',N_NEIGHBORS)\n",
    "        print('Exploration rate: ',EXPLORATION_RATE)\n",
    "        #print('Exploration> Do we perform grid-search in acquisition maximization?',GRID_SEARCH)\n",
    "        print('Exploration> Do we allow repeat samples in random searching?',REPEAT_SAMPLE)\n",
    "        print('domain bounds: ',bounds)\n",
    "        #print('blur amount: ',blur_amount)\n",
    "        print('sample minimum, f_min=',sample_min_f,' at ',sample_min_x)\n",
    "        print('sample maximum, f_max=',sample_max_f,' at ',sample_max_x)\n",
    "        print('>>Cluster X_AMPLIFY=',X_AMPLIFY)\n",
    "        print('>>Cluster X_TRANSLATE=',X_TRANSLATE)\n",
    "        print('>>Cluster Y_AMPLIFY=',Y_AMPLIFY)\n",
    "        print('>>Cluster Y_TRANSLATE=',Y_TRANSLATE)\n",
    "    sys.stdout = original_stdout # Reset the standard output to its original value\n",
    "\n",
    "#%debug\n",
    "import os\n",
    "print('Logs of run with stamp: ',rdstr,', is saved at',os.getcwd())"
   ]
  },
  {
   "cell_type": "code",
   "execution_count": 8,
   "metadata": {},
   "outputs": [
    {
     "name": "stdout",
     "output_type": "stream",
     "text": [
      "dgm label [0 1 2 3 2 3 3 1 0 0 0 1 0 0 3 1 3 2 0 0 1 3 1 0 3 0 0 1 2 1 0 3 3 1 3 0 3\n",
      " 1 1]\n",
      "merged label [0 1 2 3 2 3 3 1 0 0 0 1 0 0 3 1 3 2 0 0 1 3 1 0 3 0 0 1 2 1 0 3 3 1 3 0 3\n",
      " 1 1]\n"
     ]
    }
   ],
   "source": [
    "cluster_label    = dgm_XY.fit_predict(XY_sample)#cluster_label\n",
    "prediction_label = clf_XY.predict(x0grid_ravel)#XY_predlabel\n",
    "print('dgm label', cluster_label)\n",
    "#Again, we need to ensure that every cluster has at least d (dimension of covariate) samples.\n",
    "for c in np.unique(cluster_label):\n",
    "    if sum(cluster_label==c)<=X_sample.shape[1]:\n",
    "        occ = np.bincount(cluster_label)\n",
    "        cluster_label[np.where(cluster_label==c)] = np.argmax(occ)\n",
    "print('merged label',cluster_label)"
   ]
  },
  {
   "cell_type": "code",
   "execution_count": 9,
   "metadata": {
    "scrolled": false
   },
   "outputs": [
    {
     "name": "stdout",
     "output_type": "stream",
     "text": [
      "[2 1 0 3 0 3 3 1 2 2 2 1 2 2 3 1 3 0 2 2 1 3 1 2 3 2 2 1 0 1 2 3 3 1 3 2 3\n",
      " 1 1 2]\n",
      "[0 0 0 ... 1 1 1]\n",
      "Fitting component  0\n",
      "(array([ 2,  4, 17, 28]),)\n"
     ]
    },
    {
     "name": "stderr",
     "output_type": "stream",
     "text": [
      " /home/hrluo/anaconda3/lib/python3.8/site-packages/sklearn/gaussian_process/kernels.py:402: ConvergenceWarning:The optimal value found for dimension 0 of parameter k2__noise_level is close to the specified lower bound 0.001. Decreasing the bound and calling fit again may find a better value.\n"
     ]
    },
    {
     "name": "stdout",
     "output_type": "stream",
     "text": [
      "Summary of component 0 GP surrogate model.\n",
      "Matern(length_scale=[0.0363, 0.0865], nu=1.5) + WhiteKernel(noise_level=0.001) -5.379209386093057\n",
      "[   0    1    2    3    4    5    6    7    8    9   10   11   12   13\n",
      "   14   15   16   17   18   19   20   21   22   23   24   25   26   27\n",
      "   28   29   30   31   32   33   34   35   36   37   38  100  101  102\n",
      "  103  104  105  106  107  108  109  110  111  112  113  114  115  116\n",
      "  117  118  119  120  121  122  123  124  125  126  127  128  129  130\n",
      "  131  132  133  134  135  136  137  138  200  201  202  203  204  205\n",
      "  206  207  208  209  210  211  212  213  214  215  216  217  218  219\n",
      "  220  221  222  223  224  225  226  227  228  229  230  231  232  233\n",
      "  234  235  236  237  300  301  302  303  304  305  306  307  308  309\n",
      "  310  311  312  313  314  315  316  317  318  319  320  321  322  323\n",
      "  324  325  326  327  328  329  330  331  332  333  334  335  336  337\n",
      "  400  401  402  403  404  405  406  407  408  409  410  411  412  413\n",
      "  414  415  416  417  418  419  420  421  422  423  424  425  426  427\n",
      "  428  429  430  431  432  433  434  435  436  500  501  502  503  504\n",
      "  505  506  507  508  509  510  511  512  513  514  515  516  517  518\n",
      "  519  520  521  522  523  524  525  526  527  528  529  530  531  532\n",
      "  533  534  535  536  600  601  602  603  604  605  606  607  608  609\n",
      "  610  611  612  613  614  615  616  617  618  619  620  621  622  623\n",
      "  624  625  626  627  628  629  630  631  632  633  634  635  636  700\n",
      "  701  702  703  704  705  706  707  708  709  710  711  712  713  714\n",
      "  715  716  717  718  719  720  721  722  723  724  725  726  727  728\n",
      "  729  730  731  732  733  734  735  800  801  802  803  804  805  806\n",
      "  807  808  809  810  811  812  813  814  815  816  817  818  819  820\n",
      "  821  822  823  824  825  826  827  828  829  830  831  832  833  834\n",
      "  835  900  901  902  903  904  905  906  907  908  909  910  911  912\n",
      "  913  914  915  916  917  918  919  920  921  922  923  924  925  926\n",
      "  927  928  929  930  931  932  933  934 1000 1001 1002 1003 1004 1005\n",
      " 1006 1007 1008 1009 1010 1011 1012 1013 1014 1015 1016 1017 1018 1019\n",
      " 1020 1021 1022 1023 1024 1025 1026 1027 1028 1029 1030 1031 1032 1033\n",
      " 1034 1100 1101 1102 1103 1104 1105 1106 1107 1108 1109 1110 1111 1112\n",
      " 1113 1114 1115 1116 1117 1118 1119 1120 1121 1122 1123 1124 1125 1126\n",
      " 1127 1128 1129 1130 1131 1132 1133 1134 1200 1201 1202 1203 1204 1205\n",
      " 1206 1207 1208 1209 1210 1211 1212 1213 1214 1215 1216 1217 1218 1219\n",
      " 1220 1221 1222 1223 1224 1225 1226 1227 1228 1229 1230 1231 1232 1233\n",
      " 1300 1301 1302 1303 1304 1305 1306 1307 1308 1309 1310 1311 1312 1313\n",
      " 1314 1315 1316 1317 1318 1319 1320 1321 1322 1323 1324 1325 1326 1327\n",
      " 1328 1329 1330 1331 1332 1333 1400 1401 1402 1403 1404 1405 1406 1407\n",
      " 1408 1409 1410 1411 1412 1413 1414 1415 1416 1417 1418 1419 1420 1421\n",
      " 1422 1423 1424 1425 1426 1427 1428 1429 1430 1431 1432 1500 1501 1502\n",
      " 1503 1504 1505 1506 1507 1508 1509 1510 1511 1512 1513 1514 1515 1516\n",
      " 1517 1518 1519 1520 1521 1522 1523 1524 1525 1526 1527 1528 1529 1530\n",
      " 1531 1532 1600 1601 1602 1603 1604 1605 1606 1607 1608 1609 1610 1611\n",
      " 1612 1613 1614 1615 1616 1617 1618 1619 1620 1621 1622 1623 1624 1625\n",
      " 1626 1627 1628 1629 1630 1631 1700 1701 1702 1703 1704 1705 1706 1707\n",
      " 1708 1709 1710 1711 1712 1713 1714 1715 1716 1717 1718 1719 1720 1721\n",
      " 1722 1723 1724 1725 1726 1727 1728 1729 1730 1731 1800 1801 1802 1803\n",
      " 1804 1805 1806 1807 1808 1809 1810 1811 1812 1813 1814 1815 1816 1817\n",
      " 1818 1819 1820 1821 1822 1823 1824 1825 1826 1827 1828 1829 1830 1900\n",
      " 1901 1902 1903 1904 1905 1906 1907 1908 1909 1910 1911 1912 1913 1914\n",
      " 1915 1916 1917 1918 1919 1920 1921 1922 1923 1924 1925 1926 1927 1928\n",
      " 1929 1930 2000 2001 2002 2003 2004 2005 2006 2007 2008 2009 2010 2011\n",
      " 2012 2013 2014 2015 2016 2017 2018 2019 2020 2021 2022 2023 2024 2025\n",
      " 2026 2027 2028 2029 2030 2100 2101 2102 2103 2104 2105 2106 2107 2108\n",
      " 2109 2110 2111 2112 2113 2114 2115 2116 2117 2118 2119 2120 2121 2122\n",
      " 2123 2124 2125 2126 2127 2128 2129 2130 2200 2201 2202 2203 2204 2205\n",
      " 2206 2207 2208 2209 2210 2211 2212 2213 2214 2215 2216 2217 2218 2219\n",
      " 2222 2223 2224 2225 2300 2301 2302 2303 2304 2305 2306 2307 2308 2309\n",
      " 2310 2311 2312 2313 2314 2315 2316 2400 2401 2402 2403 2404 2405 2406\n",
      " 2407 2408 2409 2410 2500 2501 2502 2503 2504 2505 2506 2507 2508 2600\n",
      " 2601 2602 2603 2604 2605 2606]\n",
      "Fitting component  1\n",
      "(array([ 1,  7, 11, 15, 20, 22, 27, 29, 33, 37, 38]),)\n"
     ]
    },
    {
     "name": "stderr",
     "output_type": "stream",
     "text": [
      " /home/hrluo/anaconda3/lib/python3.8/site-packages/sklearn/gaussian_process/kernels.py:402: ConvergenceWarning:The optimal value found for dimension 0 of parameter k2__noise_level is close to the specified lower bound 0.001. Decreasing the bound and calling fit again may find a better value.\n"
     ]
    },
    {
     "name": "stdout",
     "output_type": "stream",
     "text": [
      "Summary of component 1 GP surrogate model.\n",
      "Matern(length_scale=[0.611, 0.646], nu=1.5) + WhiteKernel(noise_level=0.001) -10.43233727321012\n",
      "[3935 3936 4034 ... 9997 9998 9999]\n",
      "Fitting component  2\n",
      "(array([ 0,  8,  9, 10, 12, 13, 18, 19, 23, 25, 26, 30, 35, 39]),)\n"
     ]
    },
    {
     "name": "stderr",
     "output_type": "stream",
     "text": [
      " /home/hrluo/anaconda3/lib/python3.8/site-packages/sklearn/gaussian_process/kernels.py:402: ConvergenceWarning:The optimal value found for dimension 0 of parameter k2__noise_level is close to the specified lower bound 0.001. Decreasing the bound and calling fit again may find a better value.\n"
     ]
    },
    {
     "name": "stdout",
     "output_type": "stream",
     "text": [
      "Summary of component 2 GP surrogate model.\n",
      "Matern(length_scale=[1.05, 0.916], nu=1.5) + WhiteKernel(noise_level=0.001) -3.799843984912732\n",
      "[  39   40   41 ... 6198 6199 6299]\n",
      "Fitting component  3\n",
      "(array([ 3,  5,  6, 14, 16, 21, 24, 31, 32, 34, 36]),)\n"
     ]
    },
    {
     "name": "stderr",
     "output_type": "stream",
     "text": [
      " /home/hrluo/anaconda3/lib/python3.8/site-packages/sklearn/gaussian_process/kernels.py:402: ConvergenceWarning:The optimal value found for dimension 0 of parameter k2__noise_level is close to the specified lower bound 0.001. Decreasing the bound and calling fit again may find a better value.\n"
     ]
    },
    {
     "name": "stdout",
     "output_type": "stream",
     "text": [
      "Summary of component 3 GP surrogate model.\n",
      "Matern(length_scale=[0.995, 0.33], nu=1.5) + WhiteKernel(noise_level=0.001) -8.38177038679075\n",
      "[2220 2221 2226 ... 9949 9950 9951]\n",
      "2d plot\n",
      "sample minimum, f_min= [0.09317126]  at  [-0.97488804 -0.85605144]\n",
      "sample maximum, f_max= [0.98575097]  at  [0.13182405 0.22787664]\n",
      ">>Cluster X_AMPLIFY= 1\n",
      ">>Cluster X_TRANSLATE= [-0.06568965 -0.02745027]\n",
      ">>Cluster Y_AMPLIFY= 1\n",
      ">>Cluster Y_TRANSLATE= 0.0\n",
      "|f_max-g_max| =  [0.01209279]\n",
      "|f_min-g_min| =  [0.00025216]\n",
      "arg_max_f and arg_max_g L2 distance 0.12022893680929442\n",
      "|f-g|_max =  0.7574814862655086\n"
     ]
    },
    {
     "data": {
      "image/png": "[encoded data removed]",
      "text/plain": [
       "<Figure size 864x864 with 1 Axes>"
      ]
     },
     "metadata": {
      "needs_background": "light"
     },
     "output_type": "display_data"
    }
   ],
   "source": [
    "########################################\n",
    "#      Plot the final model(1/2D)      #\n",
    "########################################\n",
    "colormap = cm.viridis\n",
    "normalize = matplotlib.colors.Normalize(vmin=true_range[0], vmax=true_range[1])\n",
    "\n",
    "X_new = x0grid_ravel\n",
    "fine_grid = x0grid_ravel\n",
    "prediction_label = clf_XY.predict(x0grid_ravel)\n",
    "new_label = clf_XY.predict(X_new)\n",
    "col=['r','k','y','b','g'] #Generate a color scale, here usually there would not be more than 5 components.\n",
    "mean_new = np.zeros((len(prediction_label),1))\n",
    "var_new = np.copy(mean_new)\n",
    "fig = plt.figure(figsize=(12,12))\n",
    "#from IPython.display import display\n",
    "if len(X_TRANSLATE)>0:\n",
    "    X_TRANSLATE = np.mean(X_sample,axis=0)\n",
    "if Y_TRANSLATE != 0:\n",
    "    Y_TRANSLATE      = np.mean(Y_sample)\n",
    "XY_sample        = np.concatenate((X_AMPLIFY*(X_sample-X_TRANSLATE),Y_AMPLIFY*(Y_sample-Y_TRANSLATE).reshape(-1,1)),axis=1)\n",
    "#XY_sample        = np.concatenate((X_sample,Y_AMPLIFY*Y_sample.reshape(-1,1)),axis=1)\n",
    "if NO_CLUSTER: \n",
    "    cluster_label    = np.zeros(XY_sample.shape[0])\n",
    "    prediction_label = x0grid_ravel*0.\n",
    "else:\n",
    "    cluster_label    = dgm_XY.fit_predict(XY_sample)#cluster_label\n",
    "    prediction_label = clf_XY.predict(x0grid_ravel)#XY_predlabel\n",
    "    if VERBOSE: print('dgm label', cluster_label)\n",
    "    #Again, we need to ensure that every cluster has at least d (dimension of covariate) samples.\n",
    "    for c in np.unique(cluster_label):\n",
    "        if sum(cluster_label==c)<=X_sample.shape[1]:\n",
    "            occ = np.bincount(cluster_label)\n",
    "            cluster_label[np.where(cluster_label==c)] = np.argmax(occ)\n",
    "    if VERBOSE: print('merged label',cluster_label)\n",
    "cluster_label = recode(cluster_label)\n",
    "clf_XY = KNeighborsClassifier(n_neighbors=N_NEIGHBORS)\n",
    "clf_XY.fit(X_sample,cluster_label)\n",
    "#if GRID_SEARCH==True:\n",
    "new_label = clf_XY.predict(X_new)\n",
    "for c in np.unique(cluster_label):\n",
    "            if sum(cluster_label==c)<=X_sample.shape[1]:\n",
    "                occ = np.bincount(cluster_label)\n",
    "                cluster_label[np.where(cluster_label==c)] = np.argmax(occ)\n",
    "cluster_label = recode(cluster_label)\n",
    "print(cluster_label)\n",
    "new_label = recode(new_label)\n",
    "print(new_label)\n",
    "for c in np.unique(np.array(cluster_label)):\n",
    "        print('Fitting component ',c)\n",
    "        c = int(c)\n",
    "        #Assign the corresponding X_sample and Y_sample values to the cluster coded by c. \n",
    "        c_idx = np.where(cluster_label == int(c))\n",
    "        if len(c_idx) <1: continue\n",
    "        print(c_idx)\n",
    "        Xt = X_sample[c_idx].ravel().reshape(-1,X_sample.shape[1])\n",
    "        Yt = Y_sample[c_idx].ravel().reshape(-1,1)\n",
    "        #print(Xt.shape,Yt.shape)\n",
    "        #print(Xt,Yt)\n",
    "        #Normalization\n",
    "        #Fit the model\n",
    "        if 'mt' in locals():\n",
    "            del(mt)\n",
    "            # mt exists.\n",
    "        if USE_SKLEARN:\n",
    "            mt = GaussianProcessRegressor(kernel=get_KER(), random_state=0, normalize_y=SKLEARN_normalizer, alpha=ALPHA_SKLEARN,  \n",
    "                                              optimizer='fmin_l_bfgs_b', n_restarts_optimizer=int(10*bounds.shape[0]))\n",
    "            mt.fit(Xt, Yt)\n",
    "            print('Summary of component '+str(c)+' GP surrogate model.')\n",
    "            print(mt.kernel_, mt.log_marginal_likelihood(mt.kernel_.theta))\n",
    "\n",
    "        else:\n",
    "            mt = GPy.models.GPRegression(Xt, Yt, kernel=get_KER(), normalizer=GPy_normalizer)\n",
    "            mt.optimize(optimizer='bfgs', gtol = 10e-32, messages=False, max_iters=int(10000*bounds.shape[0]))\n",
    "            mt.optimize_restarts(num_restarts=int(100*bounds.shape[0]),robust=True,verbose=False)\n",
    "            #mt.plot()\n",
    "            #plt.show()\n",
    "            print('Summary of component '+str(c)+' GP surrogate model.')\n",
    "            display(mt)\n",
    "        c_idx_new = np.where(new_label == int(c))\n",
    "        c_idx_new = c_idx_new[0]\n",
    "        if len(c_idx_new) <1: continue\n",
    "        print(c_idx_new)\n",
    "        #print(mean_new.shape)\n",
    "        if USE_SKLEARN:\n",
    "            mt1 = mt.predict(X_new[c_idx_new],return_std=True, return_cov=False)\n",
    "            mt2 = mt.predict(fine_grid,return_std=True, return_cov=False)\n",
    "            mu_new = mt1[0]\n",
    "            sigma2_new = np.power(mt1[1],2)\n",
    "        else:\n",
    "            mt1 = mt.predict(X_new[c_idx_new])\n",
    "            mt2 = mt.predict(fine_grid)\n",
    "            mu_new = mt1[0]\n",
    "            sigma2_new = mt1[1]\n",
    "            \n",
    "        mean_new[c_idx_new,0] = mean_new[c_idx_new,0] + mu_new.reshape(1,-1)\n",
    "        var_new[c_idx_new,0]  = var_new[c_idx_new,0]  + sigma2_new.reshape(1,-1)\n",
    "        \n",
    "        if bounds.shape[0] == 1:\n",
    "            plt.scatter(X_new[c_idx_new],np.ones(X_new[c_idx_new].shape)*21000+100,c='w',alpha=1,marker='s',s=1000)\n",
    "            #plt.plot(fine_grid, mt2[0],color=col[c],linestyle='--',label='component '+str(c)+' mean')\n",
    "            plt.scatter(X_sample[c_idx],   Y_sample[c_idx],label='sequential samples',c='w',alpha=0.5)\n",
    "#plt.plot(X_obs,Y_obs,c='m')\n",
    "#plt.vlines(x=256, ymin=0, ymax=35000,color='g',linewidth=10,alpha=0.5)\n",
    "\n",
    "if bounds.shape[0] == 1:\n",
    "    print('1d plot')\n",
    "    plt.plot(X_new,mean_new,color='b',linewidth=4,alpha=0.5,label='overall mean')\n",
    "    plt.fill_between(X_new.ravel(), (mean_new-np.sqrt(var_new)).ravel(), (mean_new+np.sqrt(var_new)).ravel(), color='b', alpha=.1, label='overall std. deviation')\n",
    "   \n",
    "    #plt.vlines(x=sample_max_x, ymin=0, ymax=sample_max_f,color='b',linestyle='-.')\n",
    "    #plt.text(s='sample max:'+str(sample_max_f[0])+'\\n @'+str(sample_max_x),x=sample_max_x,y=100,c='k',fontsize=12,rotation=45)\n",
    "    #plt.text(s=str(sample_max_x[0]),x=sample_max_x,y=20,c='b',fontsize=12)\n",
    "\n",
    "    ##plt.vlines(x=sample_min_x, ymin=0, ymax=sample_min_f,color='b',linestyle='-.')\n",
    "    #plt.text(s='sample min:'+str(sample_min_f[0])+'\\n @'+str(sample_min_x),x=sample_min_x,y=100,c='k',fontsize=12,rotation=45)\n",
    "    #plt.text(s=str(sample_min_x[0]),x=sample_min_x,y=10,c='b',fontsize=12)\n",
    "\n",
    "    plt.title('Sample size ='+str(N_PILOT)+'+'+str(N_SEQUENTIAL)+'='+str(X_sample.shape[0])+', '+str(len(np.unique(np.array(cluster_label))))+' components.',fontsize=32)\n",
    "    plt.ylabel('Y', fontsize=24)\n",
    "    plt.xlabel('X', fontsize=24)\n",
    "    plt.xlim((0,4097))\n",
    "    plt.ylim((0,35000))\n",
    "    plt.xticks(np.linspace(0, 4096, 9), fontsize=24)\n",
    "    plt.yticks(np.linspace(0, 35000, 6), fontsize=24)\n",
    "    #plt.legend(fontsize=18,loc='lower center')\n",
    "    \n",
    "if bounds.shape[0] == 2:\n",
    "    print('2d plot')\n",
    "    plt.scatter(X_new[:,0],      X_new[:,1],      c=mean_new.ravel(),cmap=colormap, norm=normalize,alpha=1.0,label='overall mean',marker='s',s=200)\n",
    "    plt.scatter(X_sample[:,0],   X_sample[:,1],   c='w',alpha=1.0,label='sequential samples',marker='o',s=200,edgecolors='k')\n",
    "    plt.scatter(X_sample_XY[:,0],X_sample_XY[:,1],c='w',alpha=1.0,label='pilot samples',marker='v',s=200,edgecolors='k')\n",
    "    #plt.scatter(x=x_min[0], y=x_min[1], color='k')\n",
    "    #plt.text(s='model min:'+str(f_min[0])+'\\n @'+str(x_min),x=x_min[0],y=x_min[1],c='k',fontsize=12,rotation=45)\n",
    "\n",
    "    #plt.scatter(x=x_max[0], y=x_max[1], color='k')\n",
    "    #plt.text(s='model max:'+str(f_max[0])+'\\n @'+str(x_max),x=x_max[0],y=x_max[1],c='k',fontsize=12,rotation=45)\n",
    "\n",
    "    #plt.scatter(x=sample_max_x[0], y=sample_max_x[1], color='k')\n",
    "    #plt.text(s='sample max:'+str(sample_max_f[0])+'\\n @'+str(sample_max_x),x=sample_max_x[0],y=sample_max_x[1],c='k',fontsize=12,rotation=45)\n",
    "    #plt.text(s=str(sample_max_x[0]),x=sample_max_x,y=20,c='b',fontsize=12)\n",
    "\n",
    "    #plt.scatter(x=sample_min_x[0], y=sample_min_x[1], color='k')\n",
    "    #plt.text(s='sample min:'+str(sample_min_f[0])+'\\n @'+str(sample_min_x),x=sample_min_x[0],y=sample_min_x[1],c='k',fontsize=12,rotation=45)\n",
    "    #plt.text(s=str(sample_min_x[0]),x=sample_min_x,y=10,c='b',fontsize=12)\n",
    "\n",
    "    plt.scatter(true_max[0],true_max[1],c='k',marker='X',s=500,alpha=.5)#true max\n",
    "    #plt.scatter(-0.1*np.pi,1,c='k',marker='X',s=500,alpha=1.)#true max\n",
    "    plt.scatter(sample_max_x[0],sample_max_x[1],c='g',marker='X',s=500,alpha=.5)#surrogate max\n",
    "    \n",
    "    #plt.title('Sample size ='+str(X_sample.shape[0]),fontsize=24)\n",
    "    plt.xlabel('X1', fontsize=24)\n",
    "    plt.ylabel('X2', fontsize=24)\n",
    "    plt.xlim((-1.1,1.1))\n",
    "    plt.ylim((-1.1,1.1))\n",
    "    plt.xticks(np.linspace(-1, 1, 6), fontsize=24)\n",
    "    plt.yticks(np.linspace(-1, 1, 6), fontsize=24)\n",
    "    #plt.colorbar()\n",
    "    #plt.legend()\n",
    "\n",
    "#plt.ylim((21000,31000))\n",
    "#plt.yticks(ticks=[21000,23000,25000,27000,29000,31000])\n",
    "#plt.clim((true_range[0],true_range[1]))\n",
    "print('sample minimum, f_min=',sample_min_f,' at ',sample_min_x)\n",
    "print('sample maximum, f_max=',sample_max_f,' at ',sample_max_x)\n",
    "print('>>Cluster X_AMPLIFY=',X_AMPLIFY)\n",
    "print('>>Cluster X_TRANSLATE=',X_TRANSLATE)\n",
    "print('>>Cluster Y_AMPLIFY=',Y_AMPLIFY)\n",
    "print('>>Cluster Y_TRANSLATE=',Y_TRANSLATE)\n",
    "\n",
    "print('|f_max-g_max| = ', np.abs(sample_max_f - np.max(mean_new.ravel()) ) )\n",
    "print('|f_min-g_min| = ', np.abs(sample_min_f - np.min(mean_new.ravel()) ) )\n",
    "\n",
    "print('arg_max_f and arg_max_g L2 distance', np.linalg.norm( sample_max_x - true_max ) )\n",
    "#print( np.linalg.norm( sample_max_x - [(-0.1*np.pi,1)] ) )\n",
    "\n",
    "mean_truth = []\n",
    "for k in range(x0grid_ravel.shape[0]):\n",
    "    mean_truth.append( f_truth(x0grid_ravel[k,:].reshape(1,-1)) )\n",
    "print('|f-g|_max = ', np.max(np.abs(mean_truth-mean_new)) )\n",
    "if NO_CLUSTER:\n",
    "    model_str='GP'\n",
    "else:\n",
    "    model_str='cGP, N_COMPONENTS='+str(N_COMPONENTS)\n",
    "plt.title(model_str+ \\\n",
    "          #'\\n |f-g|_max = '+str( np.round( np.abs(np.max(mean_truth-mean_new)),6) )+ \\\n",
    "          #'  |f_max-g_max| = '+str(np.round(,6))+\\\n",
    "          '\\n |f_max-sample_max| = '+str( np.round( np.abs(sample_max_f - true_fmax)[0],6) )+ \\\n",
    "          '\\n |argmax(f)-sample_argmax|_{L2}='+str( np.round( np.linalg.norm( sample_max_x - true_max ),6) ),fontsize=24)\n",
    "\n",
    "\n",
    "#plt.colorbar()\n",
    "#plt.text(.5, .05, 'test', ha='center')\n",
    "\n",
    "plt.show()\n",
    "fig.savefig(FILE_NAME+'.png', dpi=fig.dpi)\n"
   ]
  },
  {
   "cell_type": "code",
   "execution_count": 10,
   "metadata": {},
   "outputs": [
    {
     "name": "stdout",
     "output_type": "stream",
     "text": [
      "|f_max-g_max| =  [0.01423627]\n",
      "|f_min-g_min| =  [0.00983793]\n",
      "arg_max_f and arg_max_g L2 distance 0.12022893680929442\n",
      "|f-g|_max =  0.7574814862655086\n"
     ]
    }
   ],
   "source": [
    "print('|f_max-g_max| = ', np.abs(sample_max_f - np.max(mean_truth) ) )\n",
    "print('|f_min-g_min| = ', np.abs(sample_min_f - np.min(mean_truth) ) )\n",
    "\n",
    "print('arg_max_f and arg_max_g L2 distance', np.linalg.norm( sample_max_x - true_max ) )\n",
    "#print( np.linalg.norm( sample_max_x - [(-0.1*np.pi,1)] ) )\n",
    "\n",
    "mean_truth = []\n",
    "for k in range(x0grid_ravel.shape[0]):\n",
    "    mean_truth.append( f_truth(x0grid_ravel[k,:].reshape(1,-1)) )\n",
    "print('|f-g|_max = ', np.max(np.abs(mean_truth-mean_new)) )"
   ]
  },
  {
   "cell_type": "code",
   "execution_count": 11,
   "metadata": {},
   "outputs": [
    {
     "name": "stdout",
     "output_type": "stream",
     "text": [
      "1\n"
     ]
    },
    {
     "data": {
      "image/png": "[encoded data removed]",
      "text/plain": [
       "<Figure size 864x864 with 1 Axes>"
      ]
     },
     "metadata": {
      "needs_background": "light"
     },
     "output_type": "display_data"
    }
   ],
   "source": [
    "fig = plt.figure(figsize=(12,12))\n",
    "plt.xlabel('X1', fontsize=30)\n",
    "plt.ylabel('X2', fontsize=30)\n",
    "plt.xlim((-1.1,1.1))\n",
    "plt.ylim((-1.1,1.1))\n",
    "plt.scatter(x0grid_ravel[:,0],x0grid_ravel[:,1],c=f_truth(x0grid_ravel),cmap=colormap, norm=normalize,alpha=1.0,s=200)\n",
    "plt.scatter(true_max[0],true_max[1],c='k',marker='X',s=500,alpha=1.)\n",
    "#plt.scatter(0.3*np.pi,1,c='k',marker='X',s=500,alpha=1.)#true max\n",
    "#plt.scatter(-0.1*np.pi,1,c='k',marker='X',s=500,alpha=1.)#true max\n",
    "plt.xticks(np.linspace(-1, 1, 6), fontsize=30)\n",
    "plt.yticks(np.linspace(-1, 1, 6), fontsize=30)\n",
    "plt.clim(true_range[0],true_range[1])\n",
    "plt.title('\\n\\n Objective function\\n ',fontsize=24)\n",
    "#cb = plt.colorbar()\n",
    "#cb.ax.tick_params(labelsize=30)\n",
    "print(1)"
   ]
  },
  {
   "cell_type": "code",
   "execution_count": 12,
   "metadata": {},
   "outputs": [
    {
     "name": "stdout",
     "output_type": "stream",
     "text": [
      "[[-0.10026634 -0.1341607   0.2372683 ]\n",
      " [ 0.50633864  0.39788927  0.95160826]\n",
      " [-0.9340816  -0.56364523  0.10643115]\n",
      " [-0.3296452   0.78368514  0.59782482]\n",
      " [-0.64079857 -0.91777454  0.10448991]\n",
      " [-0.74963316  0.36838529  0.46659596]\n",
      " [-0.56178993 -0.13794013  0.17592197]\n",
      " [-0.24318889  0.14482993  0.75191736]\n",
      " [-0.1407754  -0.69177585  0.16026524]\n",
      " [ 0.14332312 -0.57634675  0.18240216]\n",
      " [ 0.56202096 -0.41166175  0.17371194]\n",
      " [ 0.19751371  0.2553269   0.98575097]\n",
      " [ 0.11085854 -0.07658937  0.24682473]\n",
      " [ 0.86366629 -0.09587178  0.15133401]\n",
      " [-0.6284507   0.18471813  0.52631572]\n",
      " [ 0.57344203  0.87349934  0.70337794]\n",
      " [-0.19862387  0.65344021  0.71129481]\n",
      " [-0.90919839 -0.82860117  0.09317126]\n",
      " [ 0.36793077 -0.89318273  0.1289381 ]\n",
      " [ 0.32512467 -0.55220171  0.17815113]\n",
      " [ 0.96372229  0.92780251  0.54262176]\n",
      " [-0.90888502 -0.05345916  0.12778951]\n",
      " [ 0.0461967   0.22567088  0.92996649]\n",
      " [ 1.01920795 -0.2193891   0.12689538]\n",
      " [-0.40590373 -0.03779513  0.20380591]\n",
      " [ 0.39112928 -0.43213321  0.18980692]\n",
      " [ 0.47705392 -0.4961279   0.1732076 ]\n",
      " [ 0.06485799  0.48462161  0.90429283]\n",
      " [-0.64492655 -0.87594971  0.10770723]\n",
      " [ 0.60616712  0.49090747  0.88500185]\n",
      " [ 0.68384413 -0.05624798  0.17997001]\n",
      " [-0.40996418  0.5277951   0.6292292 ]\n",
      " [-0.66945108 -0.22837437  0.15567806]\n",
      " [ 0.42572793  0.19536985  0.98150297]\n",
      " [-0.68302759  0.2644774   0.50059961]\n",
      " [ 0.34380759  0.00684948  0.23195958]\n",
      " [-0.87241234  0.4612076   0.4089389 ]\n",
      " [ 0.83868862  0.17613872  0.77894241]\n",
      " [ 0.11724508  0.87539852  0.7158594 ]\n",
      " [ 0.40315519 -0.01878506  0.22401018]]\n",
      "[[-1.65955991e-01 -1.61610971e-01  2.37268302e-01]\n",
      " [ 4.40648987e-01  3.70439001e-01  9.51608256e-01]\n",
      " [-9.99771250e-01 -5.91095501e-01  1.06431147e-01]\n",
      " [-3.95334855e-01  7.56234873e-01  5.97824819e-01]\n",
      " [-7.06488218e-01 -9.45224814e-01  1.04489908e-01]\n",
      " [-8.15322810e-01  3.40935020e-01  4.66595959e-01]\n",
      " [-6.27479577e-01 -1.65390395e-01  1.75921968e-01]\n",
      " [-3.08878546e-01  1.17379657e-01  7.51917360e-01]\n",
      " [-2.06465052e-01 -7.19226123e-01  1.60265242e-01]\n",
      " [ 7.76334680e-02 -6.03797022e-01  1.82402161e-01]\n",
      " [ 4.96331309e-01 -4.39112016e-01  1.73711945e-01]\n",
      " [ 1.31824055e-01  2.27876636e-01  9.85750972e-01]\n",
      " [ 4.51688869e-02 -1.04039637e-01  2.46824730e-01]\n",
      " [ 7.97976639e-01 -1.23322050e-01  1.51334005e-01]\n",
      " [-6.94140355e-01  1.57267861e-01  5.26315718e-01]\n",
      " [ 5.07752377e-01  8.46049071e-01  7.03377939e-01]\n",
      " [-2.64313519e-01  6.25989941e-01  7.11294805e-01]\n",
      " [-9.74888040e-01 -8.56051441e-01  9.31712635e-02]\n",
      " [ 3.02241118e-01 -9.20632996e-01  1.28938105e-01]\n",
      " [ 2.59435014e-01 -5.79651980e-01  1.78151126e-01]\n",
      " [ 8.98032641e-01  9.00352238e-01  5.42621762e-01]\n",
      " [-9.74574670e-01 -8.09094318e-02  1.27789509e-01]\n",
      " [-1.94929548e-02  1.98220615e-01  9.29966495e-01]\n",
      " [ 9.53518298e-01 -2.46839371e-01  1.26895384e-01]\n",
      " [-4.71593385e-01 -6.52453981e-02  2.03805907e-01]\n",
      " [ 3.25439625e-01 -4.59583476e-01  1.89806925e-01]\n",
      " [ 4.11364273e-01 -5.23578167e-01  1.73207602e-01]\n",
      " [-8.31658642e-04  4.57171336e-01  9.04292827e-01]\n",
      " [-7.10616198e-01 -9.03399981e-01  1.07707232e-01]\n",
      " [ 5.40477469e-01  4.63457201e-01  8.85001853e-01]\n",
      " [ 6.18154483e-01 -8.36982525e-02  1.79970006e-01]\n",
      " [-4.75653832e-01  5.00344827e-01  6.29229200e-01]\n",
      " [-7.35140734e-01 -2.55824641e-01  1.55678064e-01]\n",
      " [ 3.60038281e-01  1.67919583e-01  9.81502970e-01]\n",
      " [-7.48717238e-01  2.37027134e-01  5.00599614e-01]\n",
      " [ 2.78117942e-01 -2.06007940e-02  2.31959580e-01]\n",
      " [-9.38101987e-01  4.33757327e-01  4.08938899e-01]\n",
      " [ 7.72998973e-01  1.48688448e-01  7.78942410e-01]\n",
      " [ 5.15554289e-02  8.47948253e-01  7.15859398e-01]\n",
      " [ 3.37465540e-01 -4.62353330e-02  2.24010182e-01]]\n"
     ]
    }
   ],
   "source": [
    "print(np.concatenate((X_AMPLIFY*(X_sample-X_TRANSLATE),Y_AMPLIFY*(Y_sample-Y_TRANSLATE).reshape(-1,1)),axis=1))\n",
    "print(np.concatenate((X_sample,Y_AMPLIFY*(Y_sample-0.).reshape(-1,1)),axis=1))"
   ]
  }
 ],
 "metadata": {
  "kernelspec": {
   "display_name": "Python 3",
   "language": "python",
   "name": "python3"
  },
  "language_info": {
   "codemirror_mode": {
    "name": "ipython",
    "version": 3
   },
   "file_extension": ".py",
   "mimetype": "text/x-python",
   "name": "python",
   "nbconvert_exporter": "python",
   "pygments_lexer": "ipython3",
   "version": "3.8.8"
  }
 },
 "nbformat": 4,
 "nbformat_minor": 4
}
