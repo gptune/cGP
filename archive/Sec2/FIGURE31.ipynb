{
 "cells": [
  {
   "cell_type": "code",
   "execution_count": 1,
   "metadata": {},
   "outputs": [
    {
     "name": "stdout",
     "output_type": "stream",
     "text": [
      "Clean everything.\n",
      "Python version:  3.8.8 (default, Apr 13 2021, 19:58:26) \n",
      "[GCC 7.3.0]\n",
      "This is the name of the script:  /home/hrluo/.local/lib/python3.8/site-packages/ipykernel_launcher.py\n",
      "['/home/hrluo/.local/lib/python3.8/site-packages/ipykernel_launcher.py', '-f', '/home/hrluo/.local/share/jupyter/runtime/kernel-55569599-1455-4e0d-bb68-87bd7eff1089.json']\n",
      "numpy version:  1.20.3\n",
      "random stamp for this run: icatvqqa\n",
      "matplotlib version:  3.3.4\n",
      "GPy version:  1.10.0\n",
      "sklearn version:  0.24.2\n",
      "(5,)\n"
     ]
    }
   ],
   "source": [
    "#!/usr/bin/env python\n",
    "# coding: utf-8\n",
    "#\n",
    "########################################\n",
    "#      cluster Gaussian surrogate      #\n",
    "########################################\n",
    "#Author: Hengrui Luo\n",
    "#hrluo@lbl.gov\n",
    "#Last update: 2021-Jan-13\n",
    "#\n",
    "########################################\n",
    "#          System information          #\n",
    "########################################\n",
    "#Print the python version and the name/input arguments\n",
    "#%pylab inline\n",
    "import sys\n",
    "print('Clean everything.')\n",
    "sys.modules[__name__].__dict__.clear()\n",
    "import sys\n",
    "print(\"Python version: \", sys.version)\n",
    "print(\"This is the name of the script: \", sys.argv[0])\n",
    "print(sys.argv)\n",
    "\n",
    "#Print the numpy version and set the random seed\n",
    "import numpy as np\n",
    "print('numpy version: ', np.__version__)\n",
    "RND_SEED=1\n",
    "np.random.seed(RND_SEED)\n",
    "\n",
    "#Random string\n",
    "#Get a random string stamp for this specific run, used for the filename of image export.\n",
    "import random\n",
    "import string\n",
    "def get_random_string(length):\n",
    "    return ''.join(random.choice(string.ascii_lowercase) for i in range(length))\n",
    "rdstr=get_random_string(8)\n",
    "print('random stamp for this run:',rdstr)\n",
    "\n",
    "#Print the matplotlib version\n",
    "import matplotlib\n",
    "import matplotlib.pyplot as plt\n",
    "print('matplotlib version: ', matplotlib.__version__)\n",
    "\n",
    "#Print the GPy version\n",
    "import GPy\n",
    "print('GPy version: ', GPy.__version__)\n",
    "\n",
    "#Print the GPy version\n",
    "import sklearn\n",
    "print('sklearn version: ', sklearn.__version__)\n",
    "from sklearn.gaussian_process import GaussianProcessRegressor\n",
    "\n",
    "#######################################\n",
    "#         Model specification          #\n",
    "########################################\n",
    "#How many pilot and sequential samples do we allow to get?\n",
    "#N_PILOT is the pilot samples we start with, usually a small number would do.\n",
    "#N_SEQUENTIAL is the number of sequential (noisy) samples we should draw from the black-box function.\n",
    "N_PILOT = 10     #int(sys.argv[1])\n",
    "N_SEQUENTIAL =  30#int(sys.argv[2])\n",
    "#Which method should we use for the Bayesian optimization scheme?\n",
    "#'FREQUENTIST' method means that the (hyper-)parameters are estimated by using some frequestist optimization like lbfgs.\n",
    "#'BAYESIAN' method means that the paramteres are estimated by putting a prior(Gamma)-posterior mechnism, the estimated value would be posterior mean.\n",
    "METHOD  = 'FREQUENTIST'\n",
    "#Following 3 parameters are only for HMC Bayesian sampling, you have to choose METHOD  = 'BAYESIAN' to use these parameters.\n",
    "N_BURNIN = 500\n",
    "N_MCMCSAMPLES = 500\n",
    "N_INFERENCE = 300\n",
    "#Exploration rate is the probability (between 0 and 1) of following the next step produced by acquisition function.\n",
    "EXPLORATION_RATE = 1.0\n",
    "#Do you want a cluster GP? If NO_CLUSTER = True, a simple GP will be used.\n",
    "NO_CLUSTER = False\n",
    "\n",
    "#Do you want to amplify the weight/role of response X when doing clustering?\n",
    "X_AMPLIFY = 1#/4096\n",
    "#Do you want to subtract an amount from the response X when doing clustering?\n",
    "X_TRANSLATE = []\n",
    "#Do you want to amplify the weight/role of response Y when doing clustering?\n",
    "Y_AMPLIFY = 1#/1000\n",
    "#Do you want to subtract an amount from the response Y when doing clustering?\n",
    "Y_TRANSLATE = 0.\n",
    "#What is the maximal number of cluster by your guess? This option will be used only if NO_CLUSTER=False.\n",
    "N_COMPONENTS = 5\n",
    "CL_method = 'KMeans'\n",
    "#When deciding cluster components, how many neighbors shall we look into and get their votes? This option will be used only if NO_CLUSTER=False.\n",
    "N_NEIGHBORS = 3\n",
    "#Amount of NUGGET in the GP surrogate that stabilize the GP model, especially in FREQUENTIST approach.\n",
    "#NUGGET = 1e-4(Deprecated since ver 0.7, we can use a white kernel to estimate this)\n",
    "#How many time shall we jitter the diagonal of the covariance matrix when we encounter numerical non-positive definiteness in Gaussian process surrogate fitting.\n",
    "#This is a GPy parameter, default is 5 in GPy.\n",
    "N_JITTER = 5\n",
    "#Overriding GPy default jitter, dangerous jittering\n",
    "GPy.util.linalg.jitchol.__defaults__ = (N_JITTER,)\n",
    "print(GPy.util.linalg.jitchol.__defaults__)\n",
    "#This is a GPy parameter, whether you want to normalize the response before/after fitting. Don't change unless necessary.\n",
    "GPy_normalizer = True\n",
    "#Whether we should sample repetitive locations in the sequential sampling procedure.\n",
    "#If True, we would keep identical sequential samples no matter what. (Preferred if we believe a lot of noise)\n",
    "#If False, we would re-sample when we run into identical sequential samples. (Default)\n",
    "#In a acquisition maximization step, this is achieved by setting the acquisition function at repetitive samples to -Inf\n",
    "#In a random search step, this is achieved by repeat the random selection until we got a new location.\n",
    "REPEAT_SAMPLE = False\n",
    "#ver 0.7 new, we can use sklearn GP regression implementation.\n",
    "USE_SKLEARN = True\n",
    "ALPHA_SKLEARN = 1e-5\n",
    "#Value added to the diagonal of the kernel matrix during fitting. \n",
    "SKLEARN_normalizer = True"
   ]
  },
  {
   "cell_type": "code",
   "execution_count": 2,
   "metadata": {},
   "outputs": [],
   "source": [
    "########################################\n",
    "#          Function wrapping           #\n",
    "########################################\n",
    "#This allows us to wrap a real-world dataset into the format of a black-box function useful \n",
    "#Given a point X, we find the closest point X' in the dataset (by some distance measure, currently L^2).\n",
    "#The black-box function would return the observed response value Y' for X'. \n",
    "#This wrapping would makes the black-box function to be piece-wise constant. \n",
    "#\n",
    "EXAMPLE_NAME = 'synthetic'\n",
    "from scipy.spatial.distance import cdist\n",
    "def f_truth(X):\n",
    "    x=X[:,0]\n",
    "    y=X[:,1]\n",
    "    return( 1/(1 + (x - .25)**2 + (y - .25)**2) )\n",
    "    #return( (y>0)*(1/(1 + (x - .25)**2 + (y - .25)**2)) + (y<=0)*(.5/(1 + (x**2 + y**2)) )  )\n",
    "    #return( -2*y**2 - 2*np.floor(y+1)*np.sin(2*np.pi*x)+np.pi*x )\n",
    "    #return( y**2 - 2*np.floor(y)*x - x + 1 )\n",
    "    #return( np.sin(2*np.pi*X[:,0]) + X[:,1]**2 - 2*np.floor(X[:,1]) + 1 )\n",
    "    #return(-np.sin(X[:,0]*5) + 2*np.floor(X[:,1]) )\n",
    "    #to_obs = cdist(X,X_obs, metric='euclidean')\n",
    "    #closest_obs = np.argmin(to_obs)\n",
    "    #ret_X = X_obs[closest_obs,:]\n",
    "    #ret_Y = Y_obs[closest_obs,:]\n",
    "    #ret_X = int(X)\n",
    "    ##print(np.argwhere(ret_X==X_obs))\n",
    "    ##ret_Y = Y_obs[np.argwhere(ret_X==X_obs)[0,0],:]\n",
    "    #ret_Y = Y_obs[np.argmin(np.abs(ret_X-X_obs) ),:]\n",
    "    #print('Closest point in dataset is ',ret_X,' with observed value ',ret_Y[0])\n",
    "    #return ret_Y[0].astype(float)\n",
    "bounds = np.array([[-1,1],[-1,1]]).astype(float)\n",
    "#print(bounds)\n",
    "true_max=[1/4,1/4]\n",
    "true_fmax=f_truth(np.asarray(true_max).reshape(1,-1)) #np.sqrt(3)/2+np.pi*5/6\n",
    "true_range=[0,1]"
   ]
  },
  {
   "cell_type": "code",
   "execution_count": 3,
   "metadata": {
    "scrolled": true
   },
   "outputs": [
    {
     "name": "stdout",
     "output_type": "stream",
     "text": [
      "(10000, 2)\n"
     ]
    }
   ],
   "source": [
    "N_GRID = 100\n",
    "x_p = [None]*bounds.shape[0]\n",
    "for i in range(bounds.shape[0]):\n",
    "    x_p[i] = np.linspace(start=bounds[i,0], stop=bounds[i,1], num=N_GRID)\n",
    "    x0grid_ravel = np.vstack(np.meshgrid( *x_p )).reshape(bounds.shape[0],-1).T\n",
    "    #x0grid_ravel = np.arange(0,4096+1,8)\n",
    "    #x0grid_ravel = x0grid_ravel.astype(float).reshape(-1,1)\n",
    "print(x0grid_ravel.shape)\n",
    "#You must supply a parameter called 'bounds'.\n",
    "inp_dim=bounds.shape[0]\n",
    "\n",
    "#Which kernel you want to use for your model? Such a kernel must be implemented as a GPy/sklearn kernel class.\n",
    "if USE_SKLEARN==True:\n",
    "    from sklearn.gaussian_process import *\n",
    "    KERNEL_TEMPLATE = sklearn.gaussian_process.kernels.Matern(length_scale=np.ones(inp_dim,), length_scale_bounds=(1e-05, 100000.0), nu=3/2) + sklearn.gaussian_process.kernels.WhiteKernel(noise_level=1.0, noise_level_bounds=(1e-03, 1000.0))\n",
    "    #KERNEL_TEMPLATE = sklearn.gaussian_process.kernels.Matern(length_scale=np.ones(inp_dim,), length_scale_bounds=(1e-05, 100000.0), nu=1/2)\n",
    "else:\n",
    "    KERNEL_TEMPLATE = GPy.kern.Matern32(input_dim=inp_dim, variance=1., lengthscale=1.) + GPy.kern.White(input_dim=inp_dim)\n",
    "    #KERNEL_TEMPLATE = GPy.kern.Exponential(input_dim=inp_dim, variance=1., lengthscale=1.)\n",
    "#Do you want to penalize boundary sample points? If so, how?\n",
    "def boundary_penalty(X,data_X=None):\n",
    "    return 0\n",
    "\n",
    "def censor_function(Y):\n",
    "    #return Y #if you don't want any censor, use this line as the definition of your censor function.\n",
    "    ret = Y\n",
    "    return ret\n",
    "\n",
    "def random_domain(X,data_X=None):\n",
    "    #return True\n",
    "    for i in range(data_X.shape[0]):\n",
    "        if all(X.astype(int)== data_X[i,:].astype(int)) and ~REPEAT_SAMPLE: return False\n",
    "        #This is only for matmul example searching only multiples of 8.\n",
    "    return X.astype(int)%8==0 "
   ]
  },
  {
   "cell_type": "code",
   "execution_count": 4,
   "metadata": {},
   "outputs": [
    {
     "name": "stdout",
     "output_type": "stream",
     "text": [
      "\n",
      ">>>>>>>>>>Sampling  10  pilot samples...<<<<<<<<<<\n",
      "\n",
      "Pilot X [[-0.16595599 -0.16161097]\n",
      " [ 0.44064899  0.370439  ]\n",
      " [-0.99977125 -0.5910955 ]\n",
      " [-0.39533485  0.75623487]\n",
      " [-0.70648822 -0.94522481]\n",
      " [-0.81532281  0.34093502]\n",
      " [-0.62747958 -0.1653904 ]\n",
      " [-0.30887855  0.11737966]\n",
      " [-0.20646505 -0.71922612]\n",
      " [ 0.07763347 -0.60379702]]\n",
      "Pilot Y [[0.7449106 ]\n",
      " [0.95160826]\n",
      " [0.30586934]\n",
      " [0.59782482]\n",
      " [0.29909386]\n",
      " [0.46659596]\n",
      " [0.51479532]\n",
      " [0.75191736]\n",
      " [0.46560145]\n",
      " [0.56860841]]\n",
      "\n",
      " Initial labels for (X,Y)-joint clustering [4 3 2 0 2 0 4 4 1 1]\n",
      "[[-0.16595599 -0.16161097]\n",
      " [ 0.44064899  0.370439  ]\n",
      " [-0.99977125 -0.5910955 ]\n",
      " [-0.39533485  0.75623487]\n",
      " [-0.70648822 -0.94522481]\n",
      " [-0.81532281  0.34093502]\n",
      " [-0.62747958 -0.1653904 ]\n",
      " [-0.30887855  0.11737966]\n",
      " [-0.20646505 -0.71922612]\n",
      " [ 0.07763347 -0.60379702]] [[0.7449106 ]\n",
      " [0.95160826]\n",
      " [0.30586934]\n",
      " [0.59782482]\n",
      " [0.29909386]\n",
      " [0.46659596]\n",
      " [0.51479532]\n",
      " [0.75191736]\n",
      " [0.46560145]\n",
      " [0.56860841]]\n"
     ]
    }
   ],
   "source": [
    "from datetime import datetime\n",
    "# datetime object containing current date and time\n",
    "samplestartingtime = datetime.now()\n",
    "########################################\n",
    "#          Draw pilot samples          #\n",
    "########################################\n",
    "#This cell only provides a pilot sample.\n",
    "#Prepare pilot samples (X,Y)\n",
    "print('\\n>>>>>>>>>>Sampling ',N_PILOT,' pilot samples...<<<<<<<<<<\\n')\n",
    "#print('Example : ',EXAMPLE_NAME)\n",
    "X_sample = np.zeros((N_PILOT,bounds.shape[0]))\n",
    "Y_sample = np.zeros((N_PILOT,1))\n",
    "for j in range(bounds.shape[0]):\n",
    "    X_sample[:,j] = np.random.uniform(bounds[j,0],bounds[j,1],size=(N_PILOT,1)).ravel()\n",
    "Y_sample = np.zeros((N_PILOT,1))\n",
    "for k in range(N_PILOT):\n",
    "    Y_sample[k,0] = f_truth(X_sample[k,:].reshape(1,-1))\n",
    "    Y_sample[k,0] = censor_function(Y_sample[k,0])\n",
    "print('Pilot X',X_sample)\n",
    "print('Pilot Y',Y_sample)\n",
    "\n",
    "from scipy.stats import norm\n",
    "from scipy.optimize import minimize\n",
    "\n",
    "from sklearn.cluster import KMeans\n",
    "from sklearn.mixture import BayesianGaussianMixture\n",
    "from sklearn.neighbors import KNeighborsClassifier\n",
    "#The cGP procedure consists of following steps\n",
    "#Step 1. For observations, we can do a (unsupervised) (X,Y)-clustering and label them, different components are generated.\n",
    "#Step 2. For predictive locations, we can do a (supervised) k-nearest neighbor classification, and predict at each location based on which component it belongs to. \n",
    "#Step 3. We compute the acquisition function and then proceed to the next sample, after adding the new sample we repeat Step 1 and 2.\n",
    "\n",
    "#Prepare an up-to-date X_TRANSLATE, as the empirical mean of the X_sample\n",
    "if len(X_TRANSLATE)>0:\n",
    "    X_TRANSLATE = np.mean(X_sample,axis=0)\n",
    "else:\n",
    "    X_TRANSLATE = [(0,0)]\n",
    "#Prepare an up-to-date Y_TRANSLATE, as the empirical mean of the Y_sample\n",
    "if Y_TRANSLATE != 0:\n",
    "    Y_TRANSLATE = np.mean(Y_sample)\n",
    "#print(Y_sample - Y_TRANSLATE)\n",
    "#Prepare initial clusters, with XY-joint.\n",
    "XY_sample       = np.concatenate((X_AMPLIFY*(X_sample-X_TRANSLATE),Y_AMPLIFY*(Y_sample-Y_TRANSLATE).reshape(-1,1)),axis=1)\n",
    "if CL_method.startswith('DGM'):\n",
    "    dgm_XY = BayesianGaussianMixture(\n",
    "                        weight_concentration_prior_type=\"dirichlet_distribution\",\n",
    "                        weight_concentration_prior = None,\n",
    "                        #weight_concentration_prior_type=\"dirichlet_process\",\n",
    "                        n_components=N_COMPONENTS#pick a big number, DGM will automatically adjust\n",
    "                        )\n",
    "else:\n",
    "    dgm_XY = KMeans(n_clusters=N_COMPONENTS, random_state=0)\n",
    "XY_label = dgm_XY.fit_predict(XY_sample)\n",
    "print('\\n Initial labels for (X,Y)-joint clustering',XY_label)\n",
    "#Make copies of X_sample for X-only fitting and XY-joint fitting.\n",
    "X_sample_XY = np.copy(X_sample)\n",
    "Y_sample_XY = np.copy(Y_sample)\n",
    "#Prepare initial labels\n",
    "clf_XY = KNeighborsClassifier(n_neighbors=N_NEIGHBORS)\n",
    "clf_XY.fit(X_sample_XY, XY_label)\n",
    "#This is an artifact, we need to have at least d samples to fit a d-dimensional GP model (for its mean and variance)\n",
    "for c in np.unique(XY_label):\n",
    "    if sum(XY_label==c)<=X_sample_XY.shape[1]:\n",
    "        occ = np.bincount(XY_label)\n",
    "        XY_label[np.where(XY_label==c)] = np.argmax(occ)\n",
    "\n",
    "        \n",
    "print(X_sample,Y_sample)\n",
    "#print(XY_sample)"
   ]
  },
  {
   "cell_type": "code",
   "execution_count": 5,
   "metadata": {
    "scrolled": true
   },
   "outputs": [
    {
     "name": "stdout",
     "output_type": "stream",
     "text": [
      "\n",
      ">>>>>>>>>>Sampling  30  sequential samples...<<<<<<<<<<\n",
      "\n",
      "\n",
      ">>>>>>>>>> ***** STEP  1 / 30 ***** <<<<<<<<<<\n",
      ">>CLUSTERED, a cGP surrogate. 1  components in surrogate model.\n",
      ">>>>Find next sample: acquisition proposal.\n",
      ">>>>>>METHOD: frequentist MLE approach, component 0/0\n",
      ">>>>>>SAMPLE: component sample size = 10\n"
     ]
    },
    {
     "name": "stderr",
     "output_type": "stream",
     "text": [
      " /home/hrluo/anaconda3/lib/python3.8/site-packages/sklearn/gaussian_process/kernels.py:402: ConvergenceWarning:The optimal value found for dimension 0 of parameter k2__noise_level is close to the specified lower bound 0.001. Decreasing the bound and calling fit again may find a better value.\n"
     ]
    },
    {
     "name": "stdout",
     "output_type": "stream",
     "text": [
      ">>>>>>MODULE: sklearn is used, l-bfgs optimization.\n",
      ">>>>Maximal acquisition function =  0.0016796594011375663  attained at  [0.89013579 0.42149317]  for component  0\n",
      "----------\n",
      ">>Next sample input is chosen to be:  [[0.89013579 0.42149317]]\n",
      ">>Next sample response is chosen to be:  [0.69483831]\n",
      "\n",
      ">>>>>>>>>> ***** STEP  2 / 30 ***** <<<<<<<<<<\n",
      ">>CLUSTERED, a cGP surrogate. 1  components in surrogate model.\n",
      ">>>>Find next sample: acquisition proposal.\n",
      ">>>>>>METHOD: frequentist MLE approach, component 0/0\n",
      ">>>>>>SAMPLE: component sample size = 11\n"
     ]
    },
    {
     "name": "stderr",
     "output_type": "stream",
     "text": [
      " /home/hrluo/anaconda3/lib/python3.8/site-packages/sklearn/gaussian_process/kernels.py:402: ConvergenceWarning:The optimal value found for dimension 0 of parameter k2__noise_level is close to the specified lower bound 0.001. Decreasing the bound and calling fit again may find a better value.\n"
     ]
    },
    {
     "name": "stdout",
     "output_type": "stream",
     "text": [
      ">>>>>>MODULE: sklearn is used, l-bfgs optimization.\n",
      ">>>>Maximal acquisition function =  0.002094806237407706  attained at  [0.26545912 0.33271749]  for component  0\n",
      "----------\n",
      ">>Next sample input is chosen to be:  [[0.26545912 0.33271749]]\n",
      ">>Next sample response is chosen to be:  [0.99296862]\n",
      "\n",
      ">>>>>>>>>> ***** STEP  3 / 30 ***** <<<<<<<<<<\n",
      ">>CLUSTERED, a cGP surrogate. 1  components in surrogate model.\n",
      ">>>>Find next sample: acquisition proposal.\n",
      ">>>>>>METHOD: frequentist MLE approach, component 0/1\n",
      ">>>>>>SAMPLE: component sample size = 9\n"
     ]
    },
    {
     "name": "stderr",
     "output_type": "stream",
     "text": [
      " /home/hrluo/anaconda3/lib/python3.8/site-packages/sklearn/gaussian_process/kernels.py:402: ConvergenceWarning:The optimal value found for dimension 0 of parameter k2__noise_level is close to the specified lower bound 0.001. Decreasing the bound and calling fit again may find a better value.\n"
     ]
    },
    {
     "name": "stdout",
     "output_type": "stream",
     "text": [
      ">>>>>>MODULE: sklearn is used, l-bfgs optimization.\n",
      ">>>>Maximal acquisition function =  4.301495742335299e-99  attained at  [-0.92189043 -0.66033916]  for component  0\n",
      ">>>>>>METHOD: frequentist MLE approach, component 1/1\n",
      ">>>>>>SAMPLE: component sample size = 3\n"
     ]
    },
    {
     "name": "stderr",
     "output_type": "stream",
     "text": [
      " /home/hrluo/anaconda3/lib/python3.8/site-packages/sklearn/gaussian_process/kernels.py:402: ConvergenceWarning:The optimal value found for dimension 0 of parameter k2__noise_level is close to the specified lower bound 0.001. Decreasing the bound and calling fit again may find a better value.\n"
     ]
    },
    {
     "name": "stdout",
     "output_type": "stream",
     "text": [
      ">>>>>>MODULE: sklearn is used, l-bfgs optimization.\n",
      ">>>>Maximal acquisition function =  0  attained at  [ 0.75628501 -0.80330633]  for component  1\n",
      "----------\n",
      ">>Next sample input is chosen to be:  [[ 0.75628501 -0.80330633]]\n",
      ">>Next sample response is chosen to be:  [0.4226938]\n",
      "\n",
      ">>>>>>>>>> ***** STEP  4 / 30 ***** <<<<<<<<<<\n",
      ">>CLUSTERED, a cGP surrogate. 2  components in surrogate model.\n",
      ">>>>Find next sample: acquisition proposal.\n",
      ">>>>>>METHOD: frequentist MLE approach, component 0/2\n",
      ">>>>>>SAMPLE: component sample size = 7\n"
     ]
    },
    {
     "name": "stderr",
     "output_type": "stream",
     "text": [
      " /home/hrluo/anaconda3/lib/python3.8/site-packages/sklearn/gaussian_process/kernels.py:402: ConvergenceWarning:The optimal value found for dimension 0 of parameter k2__noise_level is close to the specified lower bound 0.001. Decreasing the bound and calling fit again may find a better value.\n"
     ]
    },
    {
     "name": "stdout",
     "output_type": "stream",
     "text": [
      ">>>>>>MODULE: sklearn is used, l-bfgs optimization.\n",
      ">>>>Maximal acquisition function =  0  attained at  [0.91577906 0.06633057]  for component  0\n",
      ">>>>>>METHOD: frequentist MLE approach, component 1/2\n",
      ">>>>>>SAMPLE: component sample size = 3\n"
     ]
    },
    {
     "name": "stderr",
     "output_type": "stream",
     "text": [
      " /home/hrluo/anaconda3/lib/python3.8/site-packages/sklearn/gaussian_process/kernels.py:402: ConvergenceWarning:The optimal value found for dimension 0 of parameter k2__noise_level is close to the specified lower bound 0.001. Decreasing the bound and calling fit again may find a better value.\n"
     ]
    },
    {
     "name": "stdout",
     "output_type": "stream",
     "text": [
      ">>>>>>MODULE: sklearn is used, l-bfgs optimization.\n",
      ">>>>Maximal acquisition function =  0.0029645096829833705  attained at  [ 0.38375423 -0.55979758]  for component  1\n",
      ">>>>>>METHOD: frequentist MLE approach, component 2/2\n",
      ">>>>>>SAMPLE: component sample size = 3\n"
     ]
    },
    {
     "name": "stderr",
     "output_type": "stream",
     "text": [
      " /home/hrluo/anaconda3/lib/python3.8/site-packages/sklearn/gaussian_process/kernels.py:402: ConvergenceWarning:The optimal value found for dimension 0 of parameter k2__noise_level is close to the specified lower bound 0.001. Decreasing the bound and calling fit again may find a better value.\n"
     ]
    },
    {
     "name": "stdout",
     "output_type": "stream",
     "text": [
      ">>>>>>MODULE: sklearn is used, l-bfgs optimization.\n",
      ">>>>Maximal acquisition function =  0.002178961623902065  attained at  [0.32462471 0.66925134]  for component  2\n",
      "----------\n",
      ">>Next sample input is chosen to be:  [[0.32462471 0.66925134]]\n",
      ">>Next sample response is chosen to be:  [0.84649597]\n",
      "\n",
      ">>>>>>>>>> ***** STEP  5 / 30 ***** <<<<<<<<<<\n",
      ">>CLUSTERED, a cGP surrogate. 3  components in surrogate model.\n",
      ">>>>Find next sample: acquisition proposal.\n",
      ">>>>>>METHOD: frequentist MLE approach, component 0/2\n",
      ">>>>>>SAMPLE: component sample size = 8\n"
     ]
    },
    {
     "name": "stderr",
     "output_type": "stream",
     "text": [
      " /home/hrluo/anaconda3/lib/python3.8/site-packages/sklearn/gaussian_process/kernels.py:402: ConvergenceWarning:The optimal value found for dimension 0 of parameter k2__noise_level is close to the specified lower bound 0.001. Decreasing the bound and calling fit again may find a better value.\n"
     ]
    },
    {
     "name": "stdout",
     "output_type": "stream",
     "text": [
      ">>>>>>MODULE: sklearn is used, l-bfgs optimization.\n",
      ">>>>Maximal acquisition function =  3.595978444675014e-05  attained at  [0.8126581 1.       ]  for component  0\n",
      ">>>>>>METHOD: frequentist MLE approach, component 1/2\n",
      ">>>>>>SAMPLE: component sample size = 3\n"
     ]
    },
    {
     "name": "stderr",
     "output_type": "stream",
     "text": [
      " /home/hrluo/anaconda3/lib/python3.8/site-packages/sklearn/gaussian_process/kernels.py:402: ConvergenceWarning:The optimal value found for dimension 0 of parameter k2__noise_level is close to the specified lower bound 0.001. Decreasing the bound and calling fit again may find a better value.\n"
     ]
    },
    {
     "name": "stdout",
     "output_type": "stream",
     "text": [
      ">>>>>>MODULE: sklearn is used, l-bfgs optimization.\n",
      ">>>>Maximal acquisition function =  0  attained at  [ 0.49633131 -0.43911202]  for component  1\n",
      ">>>>>>METHOD: frequentist MLE approach, component 2/2\n",
      ">>>>>>SAMPLE: component sample size = 3\n"
     ]
    },
    {
     "name": "stderr",
     "output_type": "stream",
     "text": [
      " /home/hrluo/anaconda3/lib/python3.8/site-packages/sklearn/gaussian_process/kernels.py:402: ConvergenceWarning:The optimal value found for dimension 0 of parameter k2__noise_level is close to the specified lower bound 0.001. Decreasing the bound and calling fit again may find a better value.\n"
     ]
    },
    {
     "name": "stdout",
     "output_type": "stream",
     "text": [
      ">>>>>>MODULE: sklearn is used, l-bfgs optimization.\n",
      ">>>>Maximal acquisition function =  2.0840473372527715e-49  attained at  [ 0.57855866 -0.79354799]  for component  2\n",
      "----------\n",
      ">>Next sample input is chosen to be:  [[ 0.57855866 -0.79354799]]\n",
      ">>Next sample response is chosen to be:  [0.45517791]\n",
      "\n",
      ">>>>>>>>>> ***** STEP  6 / 30 ***** <<<<<<<<<<\n",
      ">>CLUSTERED, a cGP surrogate. 3  components in surrogate model.\n",
      ">>>>Find next sample: acquisition proposal.\n",
      ">>>>>>METHOD: frequentist MLE approach, component 0/2\n",
      ">>>>>>SAMPLE: component sample size = 3\n",
      ">>>>>>MODULE: sklearn is used, l-bfgs optimization.\n",
      ">>>>Maximal acquisition function =  0  attained at  [ 0.81719101 -0.4127717 ]  for component  0\n",
      ">>>>>>METHOD: frequentist MLE approach, component 1/2\n",
      ">>>>>>SAMPLE: component sample size = 8\n"
     ]
    },
    {
     "name": "stderr",
     "output_type": "stream",
     "text": [
      " /home/hrluo/anaconda3/lib/python3.8/site-packages/sklearn/gaussian_process/kernels.py:402: ConvergenceWarning:The optimal value found for dimension 0 of parameter k2__noise_level is close to the specified lower bound 0.001. Decreasing the bound and calling fit again may find a better value.\n"
     ]
    },
    {
     "name": "stdout",
     "output_type": "stream",
     "text": [
      ">>>>>>MODULE: sklearn is used, l-bfgs optimization.\n",
      ">>>>Maximal acquisition function =  0  attained at  [-0.42444932 -0.73994286]  for component  1\n",
      ">>>>>>METHOD: frequentist MLE approach, component 2/2\n",
      ">>>>>>SAMPLE: component sample size = 4\n",
      ">>>>>>MODULE: sklearn is used, l-bfgs optimization.\n",
      ">>>>Maximal acquisition function =  0.000700813201883403  attained at  [-1.          0.35767107]  for component  2\n",
      "----------\n",
      ">>Next sample input is chosen to be:  [[-1.          0.35767107]]\n",
      ">>Next sample response is chosen to be:  [0.38848634]\n",
      "\n",
      ">>>>>>>>>> ***** STEP  7 / 30 ***** <<<<<<<<<<\n",
      ">>CLUSTERED, a cGP surrogate. 3  components in surrogate model.\n",
      ">>>>Find next sample: acquisition proposal.\n",
      ">>>>>>METHOD: frequentist MLE approach, component 0/2\n",
      ">>>>>>SAMPLE: component sample size = 4\n",
      ">>>>>>MODULE: sklearn is used, l-bfgs optimization.\n",
      ">>>>Maximal acquisition function =  0  attained at  [-0.46890668 -0.01685368]  for component  0\n",
      ">>>>>>METHOD: frequentist MLE approach, component 1/2\n",
      ">>>>>>SAMPLE: component sample size = 9\n"
     ]
    },
    {
     "name": "stderr",
     "output_type": "stream",
     "text": [
      " /home/hrluo/anaconda3/lib/python3.8/site-packages/sklearn/gaussian_process/kernels.py:402: ConvergenceWarning:The optimal value found for dimension 0 of parameter k2__noise_level is close to the specified lower bound 0.001. Decreasing the bound and calling fit again may find a better value.\n",
      " /home/hrluo/anaconda3/lib/python3.8/site-packages/sklearn/gaussian_process/kernels.py:402: ConvergenceWarning:The optimal value found for dimension 0 of parameter k2__noise_level is close to the specified lower bound 0.001. Decreasing the bound and calling fit again may find a better value.\n"
     ]
    },
    {
     "name": "stdout",
     "output_type": "stream",
     "text": [
      ">>>>>>MODULE: sklearn is used, l-bfgs optimization.\n",
      ">>>>Maximal acquisition function =  6.34405096052218e-23  attained at  [-0.89327491  0.14823521]  for component  1\n",
      ">>>>>>METHOD: frequentist MLE approach, component 2/2\n",
      ">>>>>>SAMPLE: component sample size = 3\n",
      ">>>>>>MODULE: sklearn is used, l-bfgs optimization.\n",
      ">>>>Maximal acquisition function =  0  attained at  [-0.70654285  0.17861107]  for component  2\n",
      "----------\n",
      ">>Next sample input is chosen to be:  [[-0.70654285  0.17861107]]\n",
      ">>Next sample response is chosen to be:  [0.52081418]\n",
      "\n",
      ">>>>>>>>>> ***** STEP  8 / 30 ***** <<<<<<<<<<\n",
      ">>CLUSTERED, a cGP surrogate. 3  components in surrogate model.\n",
      ">>>>Find next sample: acquisition proposal.\n",
      ">>>>>>METHOD: frequentist MLE approach, component 0/2\n",
      ">>>>>>SAMPLE: component sample size = 10\n"
     ]
    },
    {
     "name": "stderr",
     "output_type": "stream",
     "text": [
      " /home/hrluo/anaconda3/lib/python3.8/site-packages/sklearn/gaussian_process/kernels.py:402: ConvergenceWarning:The optimal value found for dimension 0 of parameter k2__noise_level is close to the specified lower bound 0.001. Decreasing the bound and calling fit again may find a better value.\n"
     ]
    },
    {
     "name": "stdout",
     "output_type": "stream",
     "text": [
      ">>>>>>MODULE: sklearn is used, l-bfgs optimization.\n",
      ">>>>Maximal acquisition function =  2.6336569167379376e-24  attained at  [-0.79533114 -0.17188802]  for component  0\n",
      ">>>>>>METHOD: frequentist MLE approach, component 1/2\n",
      ">>>>>>SAMPLE: component sample size = 3\n",
      ">>>>>>MODULE: sklearn is used, l-bfgs optimization.\n",
      ">>>>Maximal acquisition function =  0  attained at  [ 0.38880032 -0.17164146]  for component  1\n",
      ">>>>>>METHOD: frequentist MLE approach, component 2/2\n",
      ">>>>>>SAMPLE: component sample size = 4\n"
     ]
    },
    {
     "name": "stderr",
     "output_type": "stream",
     "text": [
      " /home/hrluo/anaconda3/lib/python3.8/site-packages/sklearn/gaussian_process/kernels.py:402: ConvergenceWarning:The optimal value found for dimension 0 of parameter k2__noise_level is close to the specified lower bound 0.001. Decreasing the bound and calling fit again may find a better value.\n"
     ]
    },
    {
     "name": "stdout",
     "output_type": "stream",
     "text": [
      ">>>>>>MODULE: sklearn is used, l-bfgs optimization.\n",
      ">>>>Maximal acquisition function =  0  attained at  [-0.90009308  0.07179281]  for component  2\n",
      "----------\n",
      ">>Next sample input is chosen to be:  [[-0.90009308  0.07179281]]\n",
      ">>Next sample response is chosen to be:  [0.42472369]\n",
      "\n",
      ">>>>>>>>>> ***** STEP  9 / 30 ***** <<<<<<<<<<\n",
      ">>CLUSTERED, a cGP surrogate. 3  components in surrogate model.\n",
      ">>>>Find next sample: acquisition proposal.\n",
      ">>>>>>METHOD: frequentist MLE approach, component 0/2\n",
      ">>>>>>SAMPLE: component sample size = 11\n"
     ]
    },
    {
     "name": "stderr",
     "output_type": "stream",
     "text": [
      " /home/hrluo/anaconda3/lib/python3.8/site-packages/sklearn/gaussian_process/kernels.py:402: ConvergenceWarning:The optimal value found for dimension 0 of parameter k2__noise_level is close to the specified lower bound 0.001. Decreasing the bound and calling fit again may find a better value.\n"
     ]
    },
    {
     "name": "stdout",
     "output_type": "stream",
     "text": [
      ">>>>>>MODULE: sklearn is used, l-bfgs optimization.\n",
      ">>>>Maximal acquisition function =  0  attained at  [0.02977822 0.88918951]  for component  0\n",
      ">>>>>>METHOD: frequentist MLE approach, component 1/2\n",
      ">>>>>>SAMPLE: component sample size = 4\n"
     ]
    },
    {
     "name": "stderr",
     "output_type": "stream",
     "text": [
      " /home/hrluo/anaconda3/lib/python3.8/site-packages/sklearn/gaussian_process/kernels.py:402: ConvergenceWarning:The optimal value found for dimension 0 of parameter k2__noise_level is close to the specified lower bound 0.001. Decreasing the bound and calling fit again may find a better value.\n"
     ]
    },
    {
     "name": "stdout",
     "output_type": "stream",
     "text": [
      ">>>>>>MODULE: sklearn is used, l-bfgs optimization.\n",
      ">>>>Maximal acquisition function =  0.0021620675939744826  attained at  [0.17311008 0.80683361]  for component  1\n",
      ">>>>>>METHOD: frequentist MLE approach, component 2/2\n",
      ">>>>>>SAMPLE: component sample size = 3\n",
      ">>>>>>MODULE: sklearn is used, l-bfgs optimization.\n",
      ">>>>Maximal acquisition function =  0  attained at  [-0.72505059 -0.72144731]  for component  2\n",
      "----------\n",
      ">>Next sample input is chosen to be:  [[-0.72505059 -0.72144731]]\n",
      ">>Next sample response is chosen to be:  [0.34549075]\n",
      "\n",
      ">>>>>>>>>> ***** STEP  10 / 30 ***** <<<<<<<<<<\n",
      ">>CLUSTERED, a cGP surrogate. 3  components in surrogate model.\n",
      ">>>>Find next sample: acquisition proposal.\n",
      ">>>>>>METHOD: frequentist MLE approach, component 0/3\n",
      ">>>>>>SAMPLE: component sample size = 9\n"
     ]
    },
    {
     "name": "stderr",
     "output_type": "stream",
     "text": [
      " /home/hrluo/anaconda3/lib/python3.8/site-packages/sklearn/gaussian_process/kernels.py:402: ConvergenceWarning:The optimal value found for dimension 0 of parameter k2__noise_level is close to the specified lower bound 0.001. Decreasing the bound and calling fit again may find a better value.\n"
     ]
    },
    {
     "name": "stdout",
     "output_type": "stream",
     "text": [
      ">>>>>>MODULE: sklearn is used, l-bfgs optimization.\n",
      ">>>>Maximal acquisition function =  0  attained at  [-0.20464633 -0.66929161]  for component  0\n",
      ">>>>>>METHOD: frequentist MLE approach, component 1/3\n",
      ">>>>>>SAMPLE: component sample size = 3\n",
      ">>>>>>MODULE: sklearn is used, l-bfgs optimization.\n",
      ">>>>Maximal acquisition function =  0  attained at  [ 0.85501716 -0.30446828]  for component  1\n",
      ">>>>>>METHOD: frequentist MLE approach, component 2/3\n",
      ">>>>>>SAMPLE: component sample size = 4\n"
     ]
    },
    {
     "name": "stderr",
     "output_type": "stream",
     "text": [
      " /home/hrluo/anaconda3/lib/python3.8/site-packages/sklearn/gaussian_process/kernels.py:402: ConvergenceWarning:The optimal value found for dimension 0 of parameter k2__noise_level is close to the specified lower bound 0.001. Decreasing the bound and calling fit again may find a better value.\n"
     ]
    },
    {
     "name": "stdout",
     "output_type": "stream",
     "text": [
      ">>>>>>MODULE: sklearn is used, l-bfgs optimization.\n",
      ">>>>Maximal acquisition function =  0.002156535737771321  attained at  [0.5016241  0.56058295]  for component  2\n",
      ">>>>>>METHOD: frequentist MLE approach, component 3/3\n",
      ">>>>>>SAMPLE: component sample size = 3\n"
     ]
    },
    {
     "name": "stderr",
     "output_type": "stream",
     "text": [
      " /home/hrluo/anaconda3/lib/python3.8/site-packages/sklearn/gaussian_process/kernels.py:402: ConvergenceWarning:The optimal value found for dimension 0 of parameter k2__noise_level is close to the specified lower bound 0.001. Decreasing the bound and calling fit again may find a better value.\n"
     ]
    },
    {
     "name": "stdout",
     "output_type": "stream",
     "text": [
      ">>>>>>MODULE: sklearn is used, l-bfgs optimization.\n",
      ">>>>Maximal acquisition function =  0  attained at  [0.76661218 0.24734441]  for component  3\n",
      "----------\n",
      ">>Next sample input is chosen to be:  [[0.76661218 0.24734441]]\n",
      ">>Next sample response is chosen to be:  [0.78933127]\n",
      "\n",
      ">>>>>>>>>> ***** STEP  11 / 30 ***** <<<<<<<<<<\n",
      ">>CLUSTERED, a cGP surrogate. 4  components in surrogate model.\n",
      ">>>>Find next sample: acquisition proposal.\n",
      ">>>>>>METHOD: frequentist MLE approach, component 0/4\n",
      ">>>>>>SAMPLE: component sample size = 3\n"
     ]
    },
    {
     "name": "stderr",
     "output_type": "stream",
     "text": [
      " /home/hrluo/anaconda3/lib/python3.8/site-packages/sklearn/gaussian_process/kernels.py:402: ConvergenceWarning:The optimal value found for dimension 0 of parameter k2__noise_level is close to the specified lower bound 0.001. Decreasing the bound and calling fit again may find a better value.\n"
     ]
    },
    {
     "name": "stdout",
     "output_type": "stream",
     "text": [
      ">>>>>>MODULE: sklearn is used, l-bfgs optimization.\n",
      ">>>>Maximal acquisition function =  0  attained at  [-0.30220332 -0.46014422]  for component  0\n",
      ">>>>>>METHOD: frequentist MLE approach, component 1/4\n",
      ">>>>>>SAMPLE: component sample size = 5\n"
     ]
    },
    {
     "name": "stderr",
     "output_type": "stream",
     "text": [
      " /home/hrluo/anaconda3/lib/python3.8/site-packages/sklearn/gaussian_process/kernels.py:402: ConvergenceWarning:The optimal value found for dimension 0 of parameter k2__noise_level is close to the specified lower bound 0.001. Decreasing the bound and calling fit again may find a better value.\n"
     ]
    },
    {
     "name": "stdout",
     "output_type": "stream",
     "text": [
      ">>>>>>MODULE: sklearn is used, l-bfgs optimization.\n",
      ">>>>Maximal acquisition function =  0  attained at  [ 0.79177244 -0.14381762]  for component  1\n",
      ">>>>>>METHOD: frequentist MLE approach, component 2/4\n",
      ">>>>>>SAMPLE: component sample size = 5\n"
     ]
    },
    {
     "name": "stderr",
     "output_type": "stream",
     "text": [
      " /home/hrluo/anaconda3/lib/python3.8/site-packages/sklearn/gaussian_process/kernels.py:402: ConvergenceWarning:The optimal value found for dimension 0 of parameter k2__noise_level is close to the specified lower bound 0.001. Decreasing the bound and calling fit again may find a better value.\n"
     ]
    },
    {
     "name": "stdout",
     "output_type": "stream",
     "text": [
      ">>>>>>MODULE: sklearn is used, l-bfgs optimization.\n",
      ">>>>Maximal acquisition function =  2.1482927861581748e-15  attained at  [0.92968009 0.326883  ]  for component  2\n",
      ">>>>>>METHOD: frequentist MLE approach, component 3/4\n",
      ">>>>>>SAMPLE: component sample size = 3\n"
     ]
    },
    {
     "name": "stderr",
     "output_type": "stream",
     "text": [
      " /home/hrluo/anaconda3/lib/python3.8/site-packages/sklearn/gaussian_process/kernels.py:402: ConvergenceWarning:The optimal value found for dimension 0 of parameter k2__noise_level is close to the specified lower bound 0.001. Decreasing the bound and calling fit again may find a better value.\n"
     ]
    },
    {
     "name": "stdout",
     "output_type": "stream",
     "text": [
      ">>>>>>MODULE: sklearn is used, l-bfgs optimization.\n",
      ">>>>Maximal acquisition function =  0  attained at  [ 0.24339144 -0.77050805]  for component  3\n",
      ">>>>>>METHOD: frequentist MLE approach, component 4/4\n",
      ">>>>>>SAMPLE: component sample size = 4\n",
      ">>>>>>MODULE: sklearn is used, l-bfgs optimization.\n",
      ">>>>Maximal acquisition function =  0  attained at  [ 0.89897852 -0.10017573]  for component  4\n",
      "----------\n",
      ">>Next sample input is chosen to be:  [[ 0.89897852 -0.10017573]]\n",
      ">>Next sample response is chosen to be:  [0.64775391]\n",
      "\n",
      ">>>>>>>>>> ***** STEP  12 / 30 ***** <<<<<<<<<<\n",
      ">>CLUSTERED, a cGP surrogate. 5  components in surrogate model.\n",
      ">>>>Find next sample: acquisition proposal.\n",
      ">>>>>>METHOD: frequentist MLE approach, component 0/4\n",
      ">>>>>>SAMPLE: component sample size = 3\n",
      ">>>>>>MODULE: sklearn is used, l-bfgs optimization.\n",
      ">>>>Maximal acquisition function =  0  attained at  [-0.18372639 -0.52594604]  for component  0\n",
      ">>>>>>METHOD: frequentist MLE approach, component 1/4\n",
      ">>>>>>SAMPLE: component sample size = 7\n"
     ]
    },
    {
     "name": "stderr",
     "output_type": "stream",
     "text": [
      " /home/hrluo/anaconda3/lib/python3.8/site-packages/sklearn/gaussian_process/kernels.py:402: ConvergenceWarning:The optimal value found for dimension 0 of parameter k2__noise_level is close to the specified lower bound 0.001. Decreasing the bound and calling fit again may find a better value.\n"
     ]
    },
    {
     "name": "stdout",
     "output_type": "stream",
     "text": [
      ">>>>>>MODULE: sklearn is used, l-bfgs optimization.\n",
      ">>>>Maximal acquisition function =  0  attained at  [0.80675904 0.14735897]  for component  1\n",
      ">>>>>>METHOD: frequentist MLE approach, component 2/4\n",
      ">>>>>>SAMPLE: component sample size = 5\n"
     ]
    },
    {
     "name": "stderr",
     "output_type": "stream",
     "text": [
      " /home/hrluo/anaconda3/lib/python3.8/site-packages/sklearn/gaussian_process/kernels.py:402: ConvergenceWarning:The optimal value found for dimension 0 of parameter k2__noise_level is close to the specified lower bound 0.001. Decreasing the bound and calling fit again may find a better value.\n"
     ]
    },
    {
     "name": "stdout",
     "output_type": "stream",
     "text": [
      ">>>>>>MODULE: sklearn is used, l-bfgs optimization.\n",
      ">>>>Maximal acquisition function =  0  attained at  [-0.99425935  0.23428983]  for component  2\n",
      ">>>>>>METHOD: frequentist MLE approach, component 3/4\n",
      ">>>>>>SAMPLE: component sample size = 3\n"
     ]
    },
    {
     "name": "stderr",
     "output_type": "stream",
     "text": [
      " /home/hrluo/anaconda3/lib/python3.8/site-packages/sklearn/gaussian_process/kernels.py:402: ConvergenceWarning:The optimal value found for dimension 0 of parameter k2__noise_level is close to the specified lower bound 0.001. Decreasing the bound and calling fit again may find a better value.\n"
     ]
    },
    {
     "name": "stdout",
     "output_type": "stream",
     "text": [
      ">>>>>>MODULE: sklearn is used, l-bfgs optimization.\n",
      ">>>>Maximal acquisition function =  0  attained at  [-0.3467102  0.0541162]  for component  3\n",
      ">>>>>>METHOD: frequentist MLE approach, component 4/4\n",
      ">>>>>>SAMPLE: component sample size = 3\n",
      ">>>>>>MODULE: sklearn is used, l-bfgs optimization.\n",
      ">>>>Maximal acquisition function =  0  attained at  [ 0.7718842  -0.28546048]  for component  4\n",
      "----------\n",
      ">>Next sample input is chosen to be:  [[ 0.7718842  -0.28546048]]\n",
      ">>Next sample response is chosen to be:  [0.64140348]\n",
      "\n",
      ">>>>>>>>>> ***** STEP  13 / 30 ***** <<<<<<<<<<\n",
      ">>CLUSTERED, a cGP surrogate. 5  components in surrogate model.\n",
      ">>>>Find next sample: acquisition proposal.\n",
      ">>>>>>METHOD: frequentist MLE approach, component 0/4\n",
      ">>>>>>SAMPLE: component sample size = 3\n"
     ]
    },
    {
     "name": "stderr",
     "output_type": "stream",
     "text": [
      " /home/hrluo/anaconda3/lib/python3.8/site-packages/sklearn/gaussian_process/kernels.py:402: ConvergenceWarning:The optimal value found for dimension 0 of parameter k2__noise_level is close to the specified lower bound 0.001. Decreasing the bound and calling fit again may find a better value.\n"
     ]
    },
    {
     "name": "stdout",
     "output_type": "stream",
     "text": [
      ">>>>>>MODULE: sklearn is used, l-bfgs optimization.\n",
      ">>>>Maximal acquisition function =  0  attained at  [ 0.24672023 -0.96835751]  for component  0\n",
      ">>>>>>METHOD: frequentist MLE approach, component 1/4\n",
      ">>>>>>SAMPLE: component sample size = 6\n"
     ]
    },
    {
     "name": "stderr",
     "output_type": "stream",
     "text": [
      " /home/hrluo/anaconda3/lib/python3.8/site-packages/sklearn/gaussian_process/kernels.py:402: ConvergenceWarning:The optimal value found for dimension 0 of parameter k2__noise_level is close to the specified lower bound 0.001. Decreasing the bound and calling fit again may find a better value.\n"
     ]
    },
    {
     "name": "stdout",
     "output_type": "stream",
     "text": [
      ">>>>>>MODULE: sklearn is used, l-bfgs optimization.\n",
      ">>>>Maximal acquisition function =  0.0003583676782475149  attained at  [0.82430066 1.        ]  for component  1\n",
      ">>>>>>METHOD: frequentist MLE approach, component 2/4\n",
      ">>>>>>SAMPLE: component sample size = 7\n"
     ]
    },
    {
     "name": "stderr",
     "output_type": "stream",
     "text": [
      " /home/hrluo/anaconda3/lib/python3.8/site-packages/sklearn/gaussian_process/kernels.py:402: ConvergenceWarning:The optimal value found for dimension 0 of parameter k2__noise_level is close to the specified lower bound 0.001. Decreasing the bound and calling fit again may find a better value.\n"
     ]
    },
    {
     "name": "stdout",
     "output_type": "stream",
     "text": [
      ">>>>>>MODULE: sklearn is used, l-bfgs optimization.\n",
      ">>>>Maximal acquisition function =  0  attained at  [ 0.9946457  -0.65531898]  for component  2\n",
      ">>>>>>METHOD: frequentist MLE approach, component 3/4\n",
      ">>>>>>SAMPLE: component sample size = 3\n",
      ">>>>>>MODULE: sklearn is used, l-bfgs optimization.\n",
      ">>>>Maximal acquisition function =  0  attained at  [-0.7257285   0.86519093]  for component  3\n",
      ">>>>>>METHOD: frequentist MLE approach, component 4/4\n",
      ">>>>>>SAMPLE: component sample size = 3\n",
      ">>>>>>MODULE: sklearn is used, l-bfgs optimization.\n",
      ">>>>Maximal acquisition function =  0  attained at  [ 0.39363632 -0.86799965]  for component  4\n",
      "----------\n",
      ">>Next sample input is chosen to be:  [[ 0.39363632 -0.86799965]]\n",
      ">>Next sample response is chosen to be:  [0.44042103]\n",
      "\n",
      ">>>>>>>>>> ***** STEP  14 / 30 ***** <<<<<<<<<<\n",
      ">>CLUSTERED, a cGP surrogate. 5  components in surrogate model.\n",
      ">>>>Find next sample: acquisition proposal.\n",
      ">>>>>>METHOD: frequentist MLE approach, component 0/4\n",
      ">>>>>>SAMPLE: component sample size = 8\n"
     ]
    },
    {
     "name": "stderr",
     "output_type": "stream",
     "text": [
      " /home/hrluo/anaconda3/lib/python3.8/site-packages/sklearn/gaussian_process/kernels.py:402: ConvergenceWarning:The optimal value found for dimension 0 of parameter k2__noise_level is close to the specified lower bound 0.001. Decreasing the bound and calling fit again may find a better value.\n"
     ]
    },
    {
     "name": "stdout",
     "output_type": "stream",
     "text": [
      ">>>>>>MODULE: sklearn is used, l-bfgs optimization.\n",
      ">>>>Maximal acquisition function =  0  attained at  [0.50775238 0.84604907]  for component  0\n",
      ">>>>>>METHOD: frequentist MLE approach, component 1/4\n",
      ">>>>>>SAMPLE: component sample size = 4\n"
     ]
    },
    {
     "name": "stderr",
     "output_type": "stream",
     "text": [
      " /home/hrluo/anaconda3/lib/python3.8/site-packages/sklearn/gaussian_process/kernels.py:402: ConvergenceWarning:The optimal value found for dimension 0 of parameter k2__noise_level is close to the specified lower bound 0.001. Decreasing the bound and calling fit again may find a better value.\n"
     ]
    },
    {
     "name": "stdout",
     "output_type": "stream",
     "text": [
      ">>>>>>MODULE: sklearn is used, l-bfgs optimization.\n",
      ">>>>Maximal acquisition function =  0  attained at  [ 0.42304952 -0.75145808]  for component  1\n",
      ">>>>>>METHOD: frequentist MLE approach, component 2/4\n",
      ">>>>>>SAMPLE: component sample size = 3\n",
      ">>>>>>MODULE: sklearn is used, l-bfgs optimization.\n",
      ">>>>Maximal acquisition function =  0  attained at  [-0.96023973 -0.94757803]  for component  2\n",
      ">>>>>>METHOD: frequentist MLE approach, component 3/4\n",
      ">>>>>>SAMPLE: component sample size = 4\n",
      ">>>>>>MODULE: sklearn is used, l-bfgs optimization.\n",
      ">>>>Maximal acquisition function =  3.582376963470193e-05  attained at  [-0.85755417 -0.50757787]  for component  3\n",
      ">>>>>>METHOD: frequentist MLE approach, component 4/4\n",
      ">>>>>>SAMPLE: component sample size = 4\n",
      ">>>>>>MODULE: sklearn is used, l-bfgs optimization.\n",
      ">>>>Maximal acquisition function =  0  attained at  [0.7200559  0.07766213]  for component  4\n",
      "----------\n",
      ">>Next sample input is chosen to be:  [[0.7200559  0.07766213]]\n",
      ">>Next sample response is chosen to be:  [0.79958237]\n",
      "\n",
      ">>>>>>>>>> ***** STEP  15 / 30 ***** <<<<<<<<<<\n",
      ">>CLUSTERED, a cGP surrogate. 5  components in surrogate model.\n",
      ">>>>Find next sample: acquisition proposal.\n",
      ">>>>>>METHOD: frequentist MLE approach, component 0/4\n",
      ">>>>>>SAMPLE: component sample size = 4\n",
      ">>>>>>MODULE: sklearn is used, l-bfgs optimization.\n",
      ">>>>Maximal acquisition function =  2.754660155516584e-08  attained at  [ 0.68406178 -0.75165337]  for component  0\n",
      ">>>>>>METHOD: frequentist MLE approach, component 1/4\n",
      ">>>>>>SAMPLE: component sample size = 8\n"
     ]
    },
    {
     "name": "stderr",
     "output_type": "stream",
     "text": [
      " /home/hrluo/anaconda3/lib/python3.8/site-packages/sklearn/gaussian_process/kernels.py:402: ConvergenceWarning:The optimal value found for dimension 0 of parameter k2__noise_level is close to the specified lower bound 0.001. Decreasing the bound and calling fit again may find a better value.\n"
     ]
    },
    {
     "name": "stdout",
     "output_type": "stream",
     "text": [
      ">>>>>>MODULE: sklearn is used, l-bfgs optimization.\n",
      ">>>>Maximal acquisition function =  0.0027222385113091184  attained at  [-0.14455845  0.15729985]  for component  1\n",
      ">>>>>>METHOD: frequentist MLE approach, component 2/4\n",
      ">>>>>>SAMPLE: component sample size = 5\n"
     ]
    },
    {
     "name": "stderr",
     "output_type": "stream",
     "text": [
      " /home/hrluo/anaconda3/lib/python3.8/site-packages/sklearn/gaussian_process/kernels.py:402: ConvergenceWarning:The optimal value found for dimension 0 of parameter k2__noise_level is close to the specified lower bound 0.001. Decreasing the bound and calling fit again may find a better value.\n"
     ]
    },
    {
     "name": "stdout",
     "output_type": "stream",
     "text": [
      ">>>>>>MODULE: sklearn is used, l-bfgs optimization.\n",
      ">>>>Maximal acquisition function =  0.0002709756387594299  attained at  [1.         0.21747215]  for component  2\n",
      ">>>>>>METHOD: frequentist MLE approach, component 3/4\n",
      ">>>>>>SAMPLE: component sample size = 4\n",
      ">>>>>>MODULE: sklearn is used, l-bfgs optimization.\n",
      ">>>>Maximal acquisition function =  0  attained at  [-0.96270542  0.60126535]  for component  3\n",
      ">>>>>>METHOD: frequentist MLE approach, component 4/4\n",
      ">>>>>>SAMPLE: component sample size = 3\n",
      ">>>>>>MODULE: sklearn is used, l-bfgs optimization.\n",
      ">>>>Maximal acquisition function =  0  attained at  [-0.53405145  0.61421039]  for component  4\n",
      "----------\n",
      ">>Next sample input is chosen to be:  [[-0.53405145  0.61421039]]\n",
      ">>Next sample response is chosen to be:  [0.57228344]\n",
      "\n",
      ">>>>>>>>>> ***** STEP  16 / 30 ***** <<<<<<<<<<\n",
      ">>CLUSTERED, a cGP surrogate. 5  components in surrogate model.\n",
      ">>>>Find next sample: acquisition proposal.\n",
      ">>>>>>METHOD: frequentist MLE approach, component 0/4\n",
      ">>>>>>SAMPLE: component sample size = 4\n",
      ">>>>>>MODULE: sklearn is used, l-bfgs optimization.\n",
      ">>>>Maximal acquisition function =  0  attained at  [0.72708371 0.49424329]  for component  0\n",
      ">>>>>>METHOD: frequentist MLE approach, component 1/4\n",
      ">>>>>>SAMPLE: component sample size = 4\n",
      ">>>>>>MODULE: sklearn is used, l-bfgs optimization.\n",
      ">>>>Maximal acquisition function =  0  attained at  [ 0.11248047 -0.72708955]  for component  1\n",
      ">>>>>>METHOD: frequentist MLE approach, component 2/4\n",
      ">>>>>>SAMPLE: component sample size = 3\n",
      ">>>>>>MODULE: sklearn is used, l-bfgs optimization.\n",
      ">>>>Maximal acquisition function =  0  attained at  [-0.88016462 -0.75731309]  for component  2\n",
      ">>>>>>METHOD: frequentist MLE approach, component 3/4\n",
      ">>>>>>SAMPLE: component sample size = 9\n"
     ]
    },
    {
     "name": "stderr",
     "output_type": "stream",
     "text": [
      " /home/hrluo/anaconda3/lib/python3.8/site-packages/sklearn/gaussian_process/kernels.py:402: ConvergenceWarning:The optimal value found for dimension 0 of parameter k2__noise_level is close to the specified lower bound 0.001. Decreasing the bound and calling fit again may find a better value.\n"
     ]
    },
    {
     "name": "stdout",
     "output_type": "stream",
     "text": [
      ">>>>>>MODULE: sklearn is used, l-bfgs optimization.\n",
      ">>>>Maximal acquisition function =  0  attained at  [-0.91089624 -0.78501174]  for component  3\n",
      ">>>>>>METHOD: frequentist MLE approach, component 4/4\n",
      ">>>>>>SAMPLE: component sample size = 5\n"
     ]
    },
    {
     "name": "stderr",
     "output_type": "stream",
     "text": [
      " /home/hrluo/anaconda3/lib/python3.8/site-packages/sklearn/gaussian_process/kernels.py:402: ConvergenceWarning:The optimal value found for dimension 0 of parameter k2__noise_level is close to the specified lower bound 0.001. Decreasing the bound and calling fit again may find a better value.\n"
     ]
    },
    {
     "name": "stdout",
     "output_type": "stream",
     "text": [
      ">>>>>>MODULE: sklearn is used, l-bfgs optimization.\n",
      ">>>>Maximal acquisition function =  0  attained at  [-0.54858132  0.42597796]  for component  4\n",
      "----------\n",
      ">>Next sample input is chosen to be:  [[-0.54858132  0.42597796]]\n",
      ">>Next sample response is chosen to be:  [0.59926876]\n",
      "\n",
      ">>>>>>>>>> ***** STEP  17 / 30 ***** <<<<<<<<<<\n",
      ">>CLUSTERED, a cGP surrogate. 5  components in surrogate model.\n",
      ">>>>Find next sample: acquisition proposal.\n",
      ">>>>>>METHOD: frequentist MLE approach, component 0/4\n",
      ">>>>>>SAMPLE: component sample size = 10\n"
     ]
    },
    {
     "name": "stderr",
     "output_type": "stream",
     "text": [
      " /home/hrluo/anaconda3/lib/python3.8/site-packages/sklearn/gaussian_process/kernels.py:402: ConvergenceWarning:The optimal value found for dimension 0 of parameter k2__noise_level is close to the specified lower bound 0.001. Decreasing the bound and calling fit again may find a better value.\n"
     ]
    },
    {
     "name": "stdout",
     "output_type": "stream",
     "text": [
      ">>>>>>MODULE: sklearn is used, l-bfgs optimization.\n",
      ">>>>Maximal acquisition function =  0  attained at  [-0.97488804 -0.85605144]  for component  0\n",
      ">>>>>>METHOD: frequentist MLE approach, component 1/4\n",
      ">>>>>>SAMPLE: component sample size = 5\n"
     ]
    },
    {
     "name": "stderr",
     "output_type": "stream",
     "text": [
      " /home/hrluo/anaconda3/lib/python3.8/site-packages/sklearn/gaussian_process/kernels.py:402: ConvergenceWarning:The optimal value found for dimension 0 of parameter k2__noise_level is close to the specified lower bound 0.001. Decreasing the bound and calling fit again may find a better value.\n"
     ]
    },
    {
     "name": "stdout",
     "output_type": "stream",
     "text": [
      ">>>>>>MODULE: sklearn is used, l-bfgs optimization.\n",
      ">>>>Maximal acquisition function =  0.0002709762831606535  attained at  [1.         0.21786698]  for component  1\n",
      ">>>>>>METHOD: frequentist MLE approach, component 2/4\n",
      ">>>>>>SAMPLE: component sample size = 4\n",
      ">>>>>>MODULE: sklearn is used, l-bfgs optimization.\n",
      ">>>>Maximal acquisition function =  0  attained at  [-0.59341353 -0.49534851]  for component  2\n",
      ">>>>>>METHOD: frequentist MLE approach, component 3/4\n",
      ">>>>>>SAMPLE: component sample size = 4\n",
      ">>>>>>MODULE: sklearn is used, l-bfgs optimization.\n",
      ">>>>Maximal acquisition function =  0  attained at  [ 0.48765171 -0.60914104]  for component  3\n",
      ">>>>>>METHOD: frequentist MLE approach, component 4/4\n",
      ">>>>>>SAMPLE: component sample size = 3\n",
      ">>>>>>MODULE: sklearn is used, l-bfgs optimization.\n",
      ">>>>Maximal acquisition function =  0.0023823623485663  attained at  [0.16271785 1.        ]  for component  4\n",
      "----------\n",
      ">>Next sample input is chosen to be:  [[0.16271785 1.        ]]\n",
      ">>Next sample response is chosen to be:  [0.63689474]\n",
      "\n",
      ">>>>>>>>>> ***** STEP  18 / 30 ***** <<<<<<<<<<\n",
      ">>CLUSTERED, a cGP surrogate. 5  components in surrogate model.\n",
      ">>>>Find next sample: acquisition proposal.\n",
      ">>>>>>METHOD: frequentist MLE approach, component 0/4\n",
      ">>>>>>SAMPLE: component sample size = 4\n",
      ">>>>>>MODULE: sklearn is used, l-bfgs optimization.\n",
      ">>>>Maximal acquisition function =  0  attained at  [-0.52030448 -0.01246057]  for component  0\n",
      ">>>>>>METHOD: frequentist MLE approach, component 1/4\n",
      ">>>>>>SAMPLE: component sample size = 10\n"
     ]
    },
    {
     "name": "stderr",
     "output_type": "stream",
     "text": [
      " /home/hrluo/anaconda3/lib/python3.8/site-packages/sklearn/gaussian_process/kernels.py:402: ConvergenceWarning:The optimal value found for dimension 0 of parameter k2__noise_level is close to the specified lower bound 0.001. Decreasing the bound and calling fit again may find a better value.\n"
     ]
    },
    {
     "name": "stdout",
     "output_type": "stream",
     "text": [
      ">>>>>>MODULE: sklearn is used, l-bfgs optimization.\n",
      ">>>>Maximal acquisition function =  0  attained at  [0.23991144 0.6579618 ]  for component  1\n",
      ">>>>>>METHOD: frequentist MLE approach, component 2/4\n",
      ">>>>>>SAMPLE: component sample size = 4\n",
      ">>>>>>MODULE: sklearn is used, l-bfgs optimization.\n",
      ">>>>Maximal acquisition function =  0  attained at  [-0.68641721 -0.9628476 ]  for component  2\n",
      ">>>>>>METHOD: frequentist MLE approach, component 3/4\n",
      ">>>>>>SAMPLE: component sample size = 4\n",
      ">>>>>>MODULE: sklearn is used, l-bfgs optimization.\n",
      ">>>>Maximal acquisition function =  0  attained at  [-0.85995571 -0.02730978]  for component  3\n",
      ">>>>>>METHOD: frequentist MLE approach, component 4/4\n",
      ">>>>>>SAMPLE: component sample size = 5\n"
     ]
    },
    {
     "name": "stderr",
     "output_type": "stream",
     "text": [
      " /home/hrluo/anaconda3/lib/python3.8/site-packages/sklearn/gaussian_process/kernels.py:402: ConvergenceWarning:The optimal value found for dimension 0 of parameter k2__noise_level is close to the specified lower bound 0.001. Decreasing the bound and calling fit again may find a better value.\n"
     ]
    },
    {
     "name": "stdout",
     "output_type": "stream",
     "text": [
      ">>>>>>MODULE: sklearn is used, l-bfgs optimization.\n",
      ">>>>Maximal acquisition function =  0  attained at  [0.21265892 0.13770287]  for component  4\n",
      "----------\n",
      ">>Next sample input is chosen to be:  [[0.21265892 0.13770287]]\n",
      ">>Next sample response is chosen to be:  [0.98618843]\n",
      "\n",
      ">>>>>>>>>> ***** STEP  19 / 30 ***** <<<<<<<<<<\n",
      ">>CLUSTERED, a cGP surrogate. 5  components in surrogate model.\n",
      ">>>>Find next sample: acquisition proposal.\n",
      ">>>>>>METHOD: frequentist MLE approach, component 0/4\n",
      ">>>>>>SAMPLE: component sample size = 10\n"
     ]
    },
    {
     "name": "stderr",
     "output_type": "stream",
     "text": [
      " /home/hrluo/anaconda3/lib/python3.8/site-packages/sklearn/gaussian_process/kernels.py:402: ConvergenceWarning:The optimal value found for dimension 0 of parameter k2__noise_level is close to the specified lower bound 0.001. Decreasing the bound and calling fit again may find a better value.\n"
     ]
    },
    {
     "name": "stdout",
     "output_type": "stream",
     "text": [
      ">>>>>>MODULE: sklearn is used, l-bfgs optimization.\n",
      ">>>>Maximal acquisition function =  0  attained at  [0.97723231 0.15949044]  for component  0\n",
      ">>>>>>METHOD: frequentist MLE approach, component 1/4\n",
      ">>>>>>SAMPLE: component sample size = 5\n"
     ]
    },
    {
     "name": "stderr",
     "output_type": "stream",
     "text": [
      " /home/hrluo/anaconda3/lib/python3.8/site-packages/sklearn/gaussian_process/kernels.py:402: ConvergenceWarning:The optimal value found for dimension 0 of parameter k2__noise_level is close to the specified lower bound 0.001. Decreasing the bound and calling fit again may find a better value.\n"
     ]
    },
    {
     "name": "stdout",
     "output_type": "stream",
     "text": [
      ">>>>>>MODULE: sklearn is used, l-bfgs optimization.\n",
      ">>>>Maximal acquisition function =  0  attained at  [-0.23971765  0.10189644]  for component  1\n",
      ">>>>>>METHOD: frequentist MLE approach, component 2/4\n",
      ">>>>>>SAMPLE: component sample size = 5\n"
     ]
    },
    {
     "name": "stderr",
     "output_type": "stream",
     "text": [
      " /home/hrluo/anaconda3/lib/python3.8/site-packages/sklearn/gaussian_process/kernels.py:402: ConvergenceWarning:The optimal value found for dimension 0 of parameter k2__noise_level is close to the specified lower bound 0.001. Decreasing the bound and calling fit again may find a better value.\n"
     ]
    },
    {
     "name": "stdout",
     "output_type": "stream",
     "text": [
      ">>>>>>MODULE: sklearn is used, l-bfgs optimization.\n",
      ">>>>Maximal acquisition function =  0.0014112532105939484  attained at  [0.49931643 0.19192207]  for component  2\n",
      ">>>>>>METHOD: frequentist MLE approach, component 3/4\n",
      ">>>>>>SAMPLE: component sample size = 4\n",
      ">>>>>>MODULE: sklearn is used, l-bfgs optimization.\n",
      ">>>>Maximal acquisition function =  0  attained at  [-0.47016088 -0.86733033]  for component  3\n",
      ">>>>>>METHOD: frequentist MLE approach, component 4/4\n",
      ">>>>>>SAMPLE: component sample size = 4\n",
      ">>>>>>MODULE: sklearn is used, l-bfgs optimization.\n",
      ">>>>Maximal acquisition function =  0  attained at  [-0.2598316   0.25943501]  for component  4\n",
      "----------\n",
      ">>Next sample input is chosen to be:  [[-0.2598316   0.25943501]]\n",
      ">>Next sample response is chosen to be:  [0.79363991]\n",
      "\n",
      ">>>>>>>>>> ***** STEP  20 / 30 ***** <<<<<<<<<<\n",
      ">>CLUSTERED, a cGP surrogate. 5  components in surrogate model.\n",
      ">>>>Find next sample: acquisition proposal.\n",
      ">>>>>>METHOD: frequentist MLE approach, component 0/4\n",
      ">>>>>>SAMPLE: component sample size = 4\n",
      ">>>>>>MODULE: sklearn is used, l-bfgs optimization.\n",
      ">>>>Maximal acquisition function =  3.564328320927514e-16  attained at  [ 0.50551111 -0.86692704]  for component  0\n",
      ">>>>>>METHOD: frequentist MLE approach, component 1/4\n",
      ">>>>>>SAMPLE: component sample size = 11\n"
     ]
    },
    {
     "name": "stderr",
     "output_type": "stream",
     "text": [
      " /home/hrluo/anaconda3/lib/python3.8/site-packages/sklearn/gaussian_process/kernels.py:402: ConvergenceWarning:The optimal value found for dimension 0 of parameter k2__noise_level is close to the specified lower bound 0.001. Decreasing the bound and calling fit again may find a better value.\n"
     ]
    },
    {
     "name": "stdout",
     "output_type": "stream",
     "text": [
      ">>>>>>MODULE: sklearn is used, l-bfgs optimization.\n",
      ">>>>Maximal acquisition function =  2.714498392941132e-91  attained at  [-0.4793698   0.60950913]  for component  1\n",
      ">>>>>>METHOD: frequentist MLE approach, component 2/4\n",
      ">>>>>>SAMPLE: component sample size = 5\n"
     ]
    },
    {
     "name": "stderr",
     "output_type": "stream",
     "text": [
      " /home/hrluo/anaconda3/lib/python3.8/site-packages/sklearn/gaussian_process/kernels.py:402: ConvergenceWarning:The optimal value found for dimension 0 of parameter k2__noise_level is close to the specified lower bound 0.001. Decreasing the bound and calling fit again may find a better value.\n"
     ]
    },
    {
     "name": "stdout",
     "output_type": "stream",
     "text": [
      ">>>>>>MODULE: sklearn is used, l-bfgs optimization.\n",
      ">>>>Maximal acquisition function =  0  attained at  [-0.61313143  0.27892176]  for component  2\n",
      ">>>>>>METHOD: frequentist MLE approach, component 3/4\n",
      ">>>>>>SAMPLE: component sample size = 4\n",
      ">>>>>>MODULE: sklearn is used, l-bfgs optimization.\n",
      ">>>>Maximal acquisition function =  0  attained at  [0.04934062 0.84961594]  for component  3\n",
      ">>>>>>METHOD: frequentist MLE approach, component 4/4\n",
      ">>>>>>SAMPLE: component sample size = 5\n"
     ]
    },
    {
     "name": "stderr",
     "output_type": "stream",
     "text": [
      " /home/hrluo/anaconda3/lib/python3.8/site-packages/sklearn/gaussian_process/kernels.py:402: ConvergenceWarning:The optimal value found for dimension 0 of parameter k2__noise_level is close to the specified lower bound 0.001. Decreasing the bound and calling fit again may find a better value.\n"
     ]
    },
    {
     "name": "stdout",
     "output_type": "stream",
     "text": [
      ">>>>>>MODULE: sklearn is used, l-bfgs optimization.\n",
      ">>>>Maximal acquisition function =  0  attained at  [-0.47340646 -0.86807782]  for component  4\n",
      "----------\n",
      ">>Next sample input is chosen to be:  [[-0.47340646 -0.86807782]]\n",
      ">>Next sample response is chosen to be:  [0.36056632]\n",
      "\n",
      ">>>>>>>>>> ***** STEP  21 / 30 ***** <<<<<<<<<<\n",
      ">>CLUSTERED, a cGP surrogate. 5  components in surrogate model.\n",
      ">>>>Find next sample: acquisition proposal.\n",
      ">>>>>>METHOD: frequentist MLE approach, component 0/4\n",
      ">>>>>>SAMPLE: component sample size = 4\n",
      ">>>>>>MODULE: sklearn is used, l-bfgs optimization.\n",
      ">>>>Maximal acquisition function =  0  attained at  [0.54435606 0.81563171]  for component  0\n",
      ">>>>>>METHOD: frequentist MLE approach, component 1/4\n",
      ">>>>>>SAMPLE: component sample size = 11\n"
     ]
    },
    {
     "name": "stderr",
     "output_type": "stream",
     "text": [
      " /home/hrluo/anaconda3/lib/python3.8/site-packages/sklearn/gaussian_process/kernels.py:402: ConvergenceWarning:The optimal value found for dimension 0 of parameter k2__noise_level is close to the specified lower bound 0.001. Decreasing the bound and calling fit again may find a better value.\n"
     ]
    },
    {
     "name": "stdout",
     "output_type": "stream",
     "text": [
      ">>>>>>MODULE: sklearn is used, l-bfgs optimization.\n",
      ">>>>Maximal acquisition function =  0  attained at  [ 0.86394414 -0.97209685]  for component  1\n",
      ">>>>>>METHOD: frequentist MLE approach, component 2/4\n",
      ">>>>>>SAMPLE: component sample size = 5\n",
      ">>>>>>MODULE: sklearn is used, l-bfgs optimization.\n",
      ">>>>Maximal acquisition function =  0  attained at  [-0.53127583  0.23355671]  for component  2\n",
      ">>>>>>METHOD: frequentist MLE approach, component 3/4\n",
      ">>>>>>SAMPLE: component sample size = 5\n"
     ]
    },
    {
     "name": "stderr",
     "output_type": "stream",
     "text": [
      " /home/hrluo/anaconda3/lib/python3.8/site-packages/sklearn/gaussian_process/kernels.py:402: ConvergenceWarning:The optimal value found for dimension 0 of parameter k2__noise_level is close to the specified lower bound 0.001. Decreasing the bound and calling fit again may find a better value.\n"
     ]
    },
    {
     "name": "stdout",
     "output_type": "stream",
     "text": [
      ">>>>>>MODULE: sklearn is used, l-bfgs optimization.\n",
      ">>>>Maximal acquisition function =  0  attained at  [0.89803264 0.90035224]  for component  3\n",
      ">>>>>>METHOD: frequentist MLE approach, component 4/4\n",
      ">>>>>>SAMPLE: component sample size = 5\n"
     ]
    },
    {
     "name": "stderr",
     "output_type": "stream",
     "text": [
      " /home/hrluo/anaconda3/lib/python3.8/site-packages/sklearn/gaussian_process/kernels.py:402: ConvergenceWarning:The optimal value found for dimension 0 of parameter k2__noise_level is close to the specified lower bound 0.001. Decreasing the bound and calling fit again may find a better value.\n"
     ]
    },
    {
     "name": "stdout",
     "output_type": "stream",
     "text": [
      ">>>>>>MODULE: sklearn is used, l-bfgs optimization.\n",
      ">>>>Maximal acquisition function =  0  attained at  [0.11330638 0.8312127 ]  for component  4\n",
      "----------\n",
      ">>Next sample input is chosen to be:  [[0.11330638 0.8312127 ]]\n",
      ">>Next sample response is chosen to be:  [0.73719492]\n",
      "\n",
      ">>>>>>>>>> ***** STEP  22 / 30 ***** <<<<<<<<<<\n",
      ">>CLUSTERED, a cGP surrogate. 5  components in surrogate model.\n",
      ">>>>Find next sample: acquisition proposal.\n",
      ">>>>>>METHOD: frequentist MLE approach, component 0/4\n",
      ">>>>>>SAMPLE: component sample size = 5\n",
      ">>>>>>MODULE: sklearn is used, l-bfgs optimization.\n",
      ">>>>Maximal acquisition function =  0  attained at  [-0.21998457 -0.02801867]  for component  0\n",
      ">>>>>>METHOD: frequentist MLE approach, component 1/4\n",
      ">>>>>>SAMPLE: component sample size = 6\n"
     ]
    },
    {
     "name": "stderr",
     "output_type": "stream",
     "text": [
      " /home/hrluo/anaconda3/lib/python3.8/site-packages/sklearn/gaussian_process/kernels.py:402: ConvergenceWarning:The optimal value found for dimension 0 of parameter k2__noise_level is close to the specified lower bound 0.001. Decreasing the bound and calling fit again may find a better value.\n"
     ]
    },
    {
     "name": "stdout",
     "output_type": "stream",
     "text": [
      ">>>>>>MODULE: sklearn is used, l-bfgs optimization.\n",
      ">>>>Maximal acquisition function =  0.002405406644546045  attained at  [-0.02514088 -0.27694483]  for component  1\n",
      ">>>>>>METHOD: frequentist MLE approach, component 2/4\n",
      ">>>>>>SAMPLE: component sample size = 4\n",
      ">>>>>>MODULE: sklearn is used, l-bfgs optimization.\n",
      ">>>>Maximal acquisition function =  0  attained at  [0.85236285 0.83746687]  for component  2\n",
      ">>>>>>METHOD: frequentist MLE approach, component 3/4\n",
      ">>>>>>SAMPLE: component sample size = 11\n"
     ]
    },
    {
     "name": "stderr",
     "output_type": "stream",
     "text": [
      " /home/hrluo/anaconda3/lib/python3.8/site-packages/sklearn/gaussian_process/kernels.py:402: ConvergenceWarning:The optimal value found for dimension 0 of parameter k2__noise_level is close to the specified lower bound 0.001. Decreasing the bound and calling fit again may find a better value.\n"
     ]
    },
    {
     "name": "stdout",
     "output_type": "stream",
     "text": [
      ">>>>>>MODULE: sklearn is used, l-bfgs optimization.\n",
      ">>>>Maximal acquisition function =  0  attained at  [-0.21024877  0.92652506]  for component  3\n",
      ">>>>>>METHOD: frequentist MLE approach, component 4/4\n",
      ">>>>>>SAMPLE: component sample size = 5\n"
     ]
    },
    {
     "name": "stderr",
     "output_type": "stream",
     "text": [
      " /home/hrluo/anaconda3/lib/python3.8/site-packages/sklearn/gaussian_process/kernels.py:402: ConvergenceWarning:The optimal value found for dimension 0 of parameter k2__noise_level is close to the specified lower bound 0.001. Decreasing the bound and calling fit again may find a better value.\n"
     ]
    },
    {
     "name": "stdout",
     "output_type": "stream",
     "text": [
      ">>>>>>MODULE: sklearn is used, l-bfgs optimization.\n",
      ">>>>Maximal acquisition function =  0  attained at  [-0.65208867 -0.74734096]  for component  4\n",
      "----------\n",
      ">>Next sample input is chosen to be:  [[-0.65208867 -0.74734096]]\n",
      ">>Next sample response is chosen to be:  [0.35606792]\n",
      "\n",
      ">>>>>>>>>> ***** STEP  23 / 30 ***** <<<<<<<<<<\n",
      ">>CLUSTERED, a cGP surrogate. 5  components in surrogate model.\n",
      ">>>>Find next sample: acquisition proposal.\n",
      ">>>>>>METHOD: frequentist MLE approach, component 0/4\n",
      ">>>>>>SAMPLE: component sample size = 11\n"
     ]
    },
    {
     "name": "stderr",
     "output_type": "stream",
     "text": [
      " /home/hrluo/anaconda3/lib/python3.8/site-packages/sklearn/gaussian_process/kernels.py:402: ConvergenceWarning:The optimal value found for dimension 0 of parameter k2__noise_level is close to the specified lower bound 0.001. Decreasing the bound and calling fit again may find a better value.\n"
     ]
    },
    {
     "name": "stdout",
     "output_type": "stream",
     "text": [
      ">>>>>>MODULE: sklearn is used, l-bfgs optimization.\n",
      ">>>>Maximal acquisition function =  0  attained at  [ 0.01132433 -0.95695039]  for component  0\n",
      ">>>>>>METHOD: frequentist MLE approach, component 1/4\n",
      ">>>>>>SAMPLE: component sample size = 5\n"
     ]
    },
    {
     "name": "stderr",
     "output_type": "stream",
     "text": [
      " /home/hrluo/anaconda3/lib/python3.8/site-packages/sklearn/gaussian_process/kernels.py:402: ConvergenceWarning:The optimal value found for dimension 0 of parameter k2__noise_level is close to the specified lower bound 0.001. Decreasing the bound and calling fit again may find a better value.\n"
     ]
    },
    {
     "name": "stdout",
     "output_type": "stream",
     "text": [
      ">>>>>>MODULE: sklearn is used, l-bfgs optimization.\n",
      ">>>>Maximal acquisition function =  0.0006358159933524902  attained at  [0.79429291 0.81377905]  for component  1\n",
      ">>>>>>METHOD: frequentist MLE approach, component 2/4\n",
      ">>>>>>SAMPLE: component sample size = 6\n"
     ]
    },
    {
     "name": "stderr",
     "output_type": "stream",
     "text": [
      " /home/hrluo/anaconda3/lib/python3.8/site-packages/sklearn/gaussian_process/kernels.py:402: ConvergenceWarning:The optimal value found for dimension 0 of parameter k2__noise_level is close to the specified lower bound 0.001. Decreasing the bound and calling fit again may find a better value.\n"
     ]
    },
    {
     "name": "stdout",
     "output_type": "stream",
     "text": [
      ">>>>>>MODULE: sklearn is used, l-bfgs optimization.\n",
      ">>>>Maximal acquisition function =  0  attained at  [-0.96996204 -0.64760749]  for component  2\n",
      ">>>>>>METHOD: frequentist MLE approach, component 3/4\n",
      ">>>>>>SAMPLE: component sample size = 6\n"
     ]
    },
    {
     "name": "stderr",
     "output_type": "stream",
     "text": [
      " /home/hrluo/anaconda3/lib/python3.8/site-packages/sklearn/gaussian_process/kernels.py:402: ConvergenceWarning:The optimal value found for dimension 0 of parameter k2__noise_level is close to the specified lower bound 0.001. Decreasing the bound and calling fit again may find a better value.\n"
     ]
    },
    {
     "name": "stdout",
     "output_type": "stream",
     "text": [
      ">>>>>>MODULE: sklearn is used, l-bfgs optimization.\n",
      ">>>>Maximal acquisition function =  0.001470949264552873  attained at  [-0.0717608  -0.65337594]  for component  3\n",
      ">>>>>>METHOD: frequentist MLE approach, component 4/4\n",
      ">>>>>>SAMPLE: component sample size = 4\n",
      ">>>>>>MODULE: sklearn is used, l-bfgs optimization.\n",
      ">>>>Maximal acquisition function =  0  attained at  [ 0.61898138 -0.31052669]  for component  4\n",
      "----------\n",
      ">>Next sample input is chosen to be:  [[ 0.61898138 -0.31052669]]\n",
      ">>Next sample response is chosen to be:  [0.68949472]\n",
      "\n",
      ">>>>>>>>>> ***** STEP  24 / 30 ***** <<<<<<<<<<\n",
      ">>CLUSTERED, a cGP surrogate. 5  components in surrogate model.\n",
      ">>>>Find next sample: acquisition proposal.\n",
      ">>>>>>METHOD: frequentist MLE approach, component 0/4\n",
      ">>>>>>SAMPLE: component sample size = 6\n"
     ]
    },
    {
     "name": "stderr",
     "output_type": "stream",
     "text": [
      " /home/hrluo/anaconda3/lib/python3.8/site-packages/sklearn/gaussian_process/kernels.py:402: ConvergenceWarning:The optimal value found for dimension 0 of parameter k2__noise_level is close to the specified lower bound 0.001. Decreasing the bound and calling fit again may find a better value.\n"
     ]
    },
    {
     "name": "stdout",
     "output_type": "stream",
     "text": [
      ">>>>>>MODULE: sklearn is used, l-bfgs optimization.\n",
      ">>>>Maximal acquisition function =  2.5509605582071625e-50  attained at  [0.16402836 0.75766397]  for component  0\n",
      ">>>>>>METHOD: frequentist MLE approach, component 1/4\n",
      ">>>>>>SAMPLE: component sample size = 4\n",
      ">>>>>>MODULE: sklearn is used, l-bfgs optimization.\n",
      ">>>>Maximal acquisition function =  0  attained at  [0.68946889 0.81078464]  for component  1\n",
      ">>>>>>METHOD: frequentist MLE approach, component 2/4\n",
      ">>>>>>SAMPLE: component sample size = 11\n"
     ]
    },
    {
     "name": "stderr",
     "output_type": "stream",
     "text": [
      " /home/hrluo/anaconda3/lib/python3.8/site-packages/sklearn/gaussian_process/kernels.py:402: ConvergenceWarning:The optimal value found for dimension 0 of parameter k2__noise_level is close to the specified lower bound 0.001. Decreasing the bound and calling fit again may find a better value.\n"
     ]
    },
    {
     "name": "stdout",
     "output_type": "stream",
     "text": [
      ">>>>>>MODULE: sklearn is used, l-bfgs optimization.\n",
      ">>>>Maximal acquisition function =  0.0035977612223260583  attained at  [-0.02854313  0.24325831]  for component  2\n",
      ">>>>>>METHOD: frequentist MLE approach, component 3/4\n",
      ">>>>>>SAMPLE: component sample size = 6\n"
     ]
    },
    {
     "name": "stderr",
     "output_type": "stream",
     "text": [
      " /home/hrluo/anaconda3/lib/python3.8/site-packages/sklearn/gaussian_process/kernels.py:402: ConvergenceWarning:The optimal value found for dimension 0 of parameter k2__noise_level is close to the specified lower bound 0.001. Decreasing the bound and calling fit again may find a better value.\n"
     ]
    },
    {
     "name": "stdout",
     "output_type": "stream",
     "text": [
      ">>>>>>MODULE: sklearn is used, l-bfgs optimization.\n",
      ">>>>Maximal acquisition function =  0  attained at  [ 0.59720718 -0.4285623 ]  for component  3\n",
      ">>>>>>METHOD: frequentist MLE approach, component 4/4\n",
      ">>>>>>SAMPLE: component sample size = 6\n"
     ]
    },
    {
     "name": "stderr",
     "output_type": "stream",
     "text": [
      " /home/hrluo/anaconda3/lib/python3.8/site-packages/sklearn/gaussian_process/kernels.py:402: ConvergenceWarning:The optimal value found for dimension 0 of parameter k2__noise_level is close to the specified lower bound 0.001. Decreasing the bound and calling fit again may find a better value.\n"
     ]
    },
    {
     "name": "stdout",
     "output_type": "stream",
     "text": [
      ">>>>>>MODULE: sklearn is used, l-bfgs optimization.\n",
      ">>>>Maximal acquisition function =  0  attained at  [-0.01949295  0.19822062]  for component  4\n",
      "----------\n",
      ">>Next sample input is chosen to be:  [[-0.01949295  0.19822062]]\n",
      ">>Next sample response is chosen to be:  [0.92996649]\n",
      "\n",
      ">>>>>>>>>> ***** STEP  25 / 30 ***** <<<<<<<<<<\n",
      ">>CLUSTERED, a cGP surrogate. 5  components in surrogate model.\n",
      ">>>>Find next sample: acquisition proposal.\n",
      ">>>>>>METHOD: frequentist MLE approach, component 0/4\n",
      ">>>>>>SAMPLE: component sample size = 7\n"
     ]
    },
    {
     "name": "stderr",
     "output_type": "stream",
     "text": [
      " /home/hrluo/anaconda3/lib/python3.8/site-packages/sklearn/gaussian_process/kernels.py:402: ConvergenceWarning:The optimal value found for dimension 0 of parameter k2__noise_level is close to the specified lower bound 0.001. Decreasing the bound and calling fit again may find a better value.\n"
     ]
    },
    {
     "name": "stdout",
     "output_type": "stream",
     "text": [
      ">>>>>>MODULE: sklearn is used, l-bfgs optimization.\n",
      ">>>>Maximal acquisition function =  0  attained at  [ 0.30779405 -0.18692266]  for component  0\n",
      ">>>>>>METHOD: frequentist MLE approach, component 1/4\n",
      ">>>>>>SAMPLE: component sample size = 4\n",
      ">>>>>>MODULE: sklearn is used, l-bfgs optimization.\n",
      ">>>>Maximal acquisition function =  0  attained at  [ 0.61472106 -0.36951039]  for component  1\n",
      ">>>>>>METHOD: frequentist MLE approach, component 2/4\n",
      ">>>>>>SAMPLE: component sample size = 6\n"
     ]
    },
    {
     "name": "stderr",
     "output_type": "stream",
     "text": [
      " /home/hrluo/anaconda3/lib/python3.8/site-packages/sklearn/gaussian_process/kernels.py:402: ConvergenceWarning:The optimal value found for dimension 0 of parameter k2__noise_level is close to the specified lower bound 0.001. Decreasing the bound and calling fit again may find a better value.\n"
     ]
    },
    {
     "name": "stdout",
     "output_type": "stream",
     "text": [
      ">>>>>>MODULE: sklearn is used, l-bfgs optimization.\n",
      ">>>>Maximal acquisition function =  0  attained at  [0.78577742 0.15571443]  for component  2\n",
      ">>>>>>METHOD: frequentist MLE approach, component 3/4\n",
      ">>>>>>SAMPLE: component sample size = 11\n"
     ]
    },
    {
     "name": "stderr",
     "output_type": "stream",
     "text": [
      " /home/hrluo/anaconda3/lib/python3.8/site-packages/sklearn/gaussian_process/kernels.py:402: ConvergenceWarning:The optimal value found for dimension 0 of parameter k2__noise_level is close to the specified lower bound 0.001. Decreasing the bound and calling fit again may find a better value.\n"
     ]
    },
    {
     "name": "stdout",
     "output_type": "stream",
     "text": [
      ">>>>>>MODULE: sklearn is used, l-bfgs optimization.\n",
      ">>>>Maximal acquisition function =  5.6157932786514334e-64  attained at  [-0.6319796   0.57585847]  for component  3\n",
      ">>>>>>METHOD: frequentist MLE approach, component 4/4\n",
      ">>>>>>SAMPLE: component sample size = 6\n"
     ]
    },
    {
     "name": "stderr",
     "output_type": "stream",
     "text": [
      " /home/hrluo/anaconda3/lib/python3.8/site-packages/sklearn/gaussian_process/kernels.py:402: ConvergenceWarning:The optimal value found for dimension 0 of parameter k2__noise_level is close to the specified lower bound 0.001. Decreasing the bound and calling fit again may find a better value.\n"
     ]
    },
    {
     "name": "stdout",
     "output_type": "stream",
     "text": [
      ">>>>>>MODULE: sklearn is used, l-bfgs optimization.\n",
      ">>>>Maximal acquisition function =  0  attained at  [ 0.22406235 -0.89218146]  for component  4\n",
      "----------\n",
      ">>Next sample input is chosen to be:  [[ 0.22406235 -0.89218146]]\n",
      ">>Next sample response is chosen to be:  [0.4337922]\n",
      "\n",
      ">>>>>>>>>> ***** STEP  26 / 30 ***** <<<<<<<<<<\n",
      ">>CLUSTERED, a cGP surrogate. 5  components in surrogate model.\n",
      ">>>>Find next sample: acquisition proposal.\n",
      ">>>>>>METHOD: frequentist MLE approach, component 0/4\n",
      ">>>>>>SAMPLE: component sample size = 6\n"
     ]
    },
    {
     "name": "stderr",
     "output_type": "stream",
     "text": [
      " /home/hrluo/anaconda3/lib/python3.8/site-packages/sklearn/gaussian_process/kernels.py:402: ConvergenceWarning:The optimal value found for dimension 0 of parameter k2__noise_level is close to the specified lower bound 0.001. Decreasing the bound and calling fit again may find a better value.\n"
     ]
    },
    {
     "name": "stdout",
     "output_type": "stream",
     "text": [
      ">>>>>>MODULE: sklearn is used, l-bfgs optimization.\n",
      ">>>>Maximal acquisition function =  0  attained at  [0.35813767 0.83720356]  for component  0\n",
      ">>>>>>METHOD: frequentist MLE approach, component 1/4\n",
      ">>>>>>SAMPLE: component sample size = 6\n"
     ]
    },
    {
     "name": "stderr",
     "output_type": "stream",
     "text": [
      " /home/hrluo/anaconda3/lib/python3.8/site-packages/sklearn/gaussian_process/kernels.py:402: ConvergenceWarning:The optimal value found for dimension 0 of parameter k2__noise_level is close to the specified lower bound 0.001. Decreasing the bound and calling fit again may find a better value.\n"
     ]
    },
    {
     "name": "stdout",
     "output_type": "stream",
     "text": [
      ">>>>>>MODULE: sklearn is used, l-bfgs optimization.\n",
      ">>>>Maximal acquisition function =  0  attained at  [-0.99919595  0.9535183 ]  for component  1\n",
      ">>>>>>METHOD: frequentist MLE approach, component 2/4\n",
      ">>>>>>SAMPLE: component sample size = 11\n"
     ]
    },
    {
     "name": "stderr",
     "output_type": "stream",
     "text": [
      " /home/hrluo/anaconda3/lib/python3.8/site-packages/sklearn/gaussian_process/kernels.py:402: ConvergenceWarning:The optimal value found for dimension 0 of parameter k2__noise_level is close to the specified lower bound 0.001. Decreasing the bound and calling fit again may find a better value.\n"
     ]
    },
    {
     "name": "stdout",
     "output_type": "stream",
     "text": [
      ">>>>>>MODULE: sklearn is used, l-bfgs optimization.\n",
      ">>>>Maximal acquisition function =  0  attained at  [-0.24683937  0.94756708]  for component  2\n",
      ">>>>>>METHOD: frequentist MLE approach, component 3/4\n",
      ">>>>>>SAMPLE: component sample size = 7\n"
     ]
    },
    {
     "name": "stderr",
     "output_type": "stream",
     "text": [
      " /home/hrluo/anaconda3/lib/python3.8/site-packages/sklearn/gaussian_process/kernels.py:402: ConvergenceWarning:The optimal value found for dimension 0 of parameter k2__noise_level is close to the specified lower bound 0.001. Decreasing the bound and calling fit again may find a better value.\n"
     ]
    },
    {
     "name": "stdout",
     "output_type": "stream",
     "text": [
      ">>>>>>MODULE: sklearn is used, l-bfgs optimization.\n",
      ">>>>Maximal acquisition function =  3.6986677024608334e-13  attained at  [0.2094322  0.65769162]  for component  3\n",
      ">>>>>>METHOD: frequentist MLE approach, component 4/4\n",
      ">>>>>>SAMPLE: component sample size = 5\n"
     ]
    },
    {
     "name": "stderr",
     "output_type": "stream",
     "text": [
      " /home/hrluo/anaconda3/lib/python3.8/site-packages/sklearn/gaussian_process/kernels.py:402: ConvergenceWarning:The optimal value found for dimension 0 of parameter k2__noise_level is close to the specified lower bound 0.001. Decreasing the bound and calling fit again may find a better value.\n"
     ]
    },
    {
     "name": "stdout",
     "output_type": "stream",
     "text": [
      ">>>>>>MODULE: sklearn is used, l-bfgs optimization.\n",
      ">>>>Maximal acquisition function =  0  attained at  [0.14942301 0.2561524 ]  for component  4\n",
      "----------\n",
      ">>Next sample input is chosen to be:  [[0.14942301 0.2561524 ]]\n",
      ">>Next sample response is chosen to be:  [0.98994848]\n",
      "\n",
      ">>>>>>>>>> ***** STEP  27 / 30 ***** <<<<<<<<<<\n",
      ">>CLUSTERED, a cGP surrogate. 5  components in surrogate model.\n",
      ">>>>Find next sample: acquisition proposal.\n",
      ">>>>>>METHOD: frequentist MLE approach, component 0/4\n",
      ">>>>>>SAMPLE: component sample size = 8\n"
     ]
    },
    {
     "name": "stderr",
     "output_type": "stream",
     "text": [
      " /home/hrluo/anaconda3/lib/python3.8/site-packages/sklearn/gaussian_process/kernels.py:402: ConvergenceWarning:The optimal value found for dimension 0 of parameter k2__noise_level is close to the specified lower bound 0.001. Decreasing the bound and calling fit again may find a better value.\n"
     ]
    },
    {
     "name": "stdout",
     "output_type": "stream",
     "text": [
      ">>>>>>MODULE: sklearn is used, l-bfgs optimization.\n",
      ">>>>Maximal acquisition function =  0.001319544058241709  attained at  [0.27861803 0.23663115]  for component  0\n",
      ">>>>>>METHOD: frequentist MLE approach, component 1/4\n",
      ">>>>>>SAMPLE: component sample size = 5\n"
     ]
    },
    {
     "name": "stderr",
     "output_type": "stream",
     "text": [
      " /home/hrluo/anaconda3/lib/python3.8/site-packages/sklearn/gaussian_process/kernels.py:402: ConvergenceWarning:The optimal value found for dimension 0 of parameter k2__noise_level is close to the specified lower bound 0.001. Decreasing the bound and calling fit again may find a better value.\n"
     ]
    },
    {
     "name": "stdout",
     "output_type": "stream",
     "text": [
      ">>>>>>MODULE: sklearn is used, l-bfgs optimization.\n",
      ">>>>Maximal acquisition function =  0  attained at  [0.71662767 0.51016438]  for component  1\n",
      ">>>>>>METHOD: frequentist MLE approach, component 2/4\n",
      ">>>>>>SAMPLE: component sample size = 11\n"
     ]
    },
    {
     "name": "stderr",
     "output_type": "stream",
     "text": [
      " /home/hrluo/anaconda3/lib/python3.8/site-packages/sklearn/gaussian_process/kernels.py:402: ConvergenceWarning:The optimal value found for dimension 0 of parameter k2__noise_level is close to the specified lower bound 0.001. Decreasing the bound and calling fit again may find a better value.\n"
     ]
    },
    {
     "name": "stdout",
     "output_type": "stream",
     "text": [
      ">>>>>>MODULE: sklearn is used, l-bfgs optimization.\n",
      ">>>>Maximal acquisition function =  0  attained at  [0.3961145  0.72895886]  for component  2\n",
      ">>>>>>METHOD: frequentist MLE approach, component 3/4\n",
      ">>>>>>SAMPLE: component sample size = 6\n"
     ]
    },
    {
     "name": "stderr",
     "output_type": "stream",
     "text": [
      " /home/hrluo/anaconda3/lib/python3.8/site-packages/sklearn/gaussian_process/kernels.py:402: ConvergenceWarning:The optimal value found for dimension 0 of parameter k2__noise_level is close to the specified lower bound 0.001. Decreasing the bound and calling fit again may find a better value.\n"
     ]
    },
    {
     "name": "stdout",
     "output_type": "stream",
     "text": [
      ">>>>>>MODULE: sklearn is used, l-bfgs optimization.\n",
      ">>>>Maximal acquisition function =  0  attained at  [-0.35463801  0.34157758]  for component  3\n",
      ">>>>>>METHOD: frequentist MLE approach, component 4/4\n",
      ">>>>>>SAMPLE: component sample size = 6\n"
     ]
    },
    {
     "name": "stderr",
     "output_type": "stream",
     "text": [
      " /home/hrluo/anaconda3/lib/python3.8/site-packages/sklearn/gaussian_process/kernels.py:402: ConvergenceWarning:The optimal value found for dimension 0 of parameter k2__noise_level is close to the specified lower bound 0.001. Decreasing the bound and calling fit again may find a better value.\n"
     ]
    },
    {
     "name": "stdout",
     "output_type": "stream",
     "text": [
      ">>>>>>MODULE: sklearn is used, l-bfgs optimization.\n",
      ">>>>Maximal acquisition function =  0  attained at  [-0.09825213 -0.2357945 ]  for component  4\n",
      "----------\n",
      ">>Next sample input is chosen to be:  [[-0.09825213 -0.2357945 ]]\n",
      ">>Next sample response is chosen to be:  [0.73676991]\n",
      "\n",
      ">>>>>>>>>> ***** STEP  28 / 30 ***** <<<<<<<<<<\n",
      ">>CLUSTERED, a cGP surrogate. 5  components in surrogate model.\n",
      ">>>>Find next sample: acquisition proposal.\n",
      ">>>>>>METHOD: frequentist MLE approach, component 0/4\n",
      ">>>>>>SAMPLE: component sample size = 8\n"
     ]
    },
    {
     "name": "stderr",
     "output_type": "stream",
     "text": [
      " /home/hrluo/anaconda3/lib/python3.8/site-packages/sklearn/gaussian_process/kernels.py:402: ConvergenceWarning:The optimal value found for dimension 0 of parameter k2__noise_level is close to the specified lower bound 0.001. Decreasing the bound and calling fit again may find a better value.\n"
     ]
    },
    {
     "name": "stdout",
     "output_type": "stream",
     "text": [
      ">>>>>>MODULE: sklearn is used, l-bfgs optimization.\n",
      ">>>>Maximal acquisition function =  0  attained at  [-0.19704083 -0.36523211]  for component  0\n",
      ">>>>>>METHOD: frequentist MLE approach, component 1/4\n",
      ">>>>>>SAMPLE: component sample size = 5\n"
     ]
    },
    {
     "name": "stderr",
     "output_type": "stream",
     "text": [
      " /home/hrluo/anaconda3/lib/python3.8/site-packages/sklearn/gaussian_process/kernels.py:402: ConvergenceWarning:The optimal value found for dimension 0 of parameter k2__noise_level is close to the specified lower bound 0.001. Decreasing the bound and calling fit again may find a better value.\n"
     ]
    },
    {
     "name": "stdout",
     "output_type": "stream",
     "text": [
      ">>>>>>MODULE: sklearn is used, l-bfgs optimization.\n",
      ">>>>Maximal acquisition function =  0  attained at  [ 0.24383874 -0.13950546]  for component  1\n",
      ">>>>>>METHOD: frequentist MLE approach, component 2/4\n",
      ">>>>>>SAMPLE: component sample size = 6\n"
     ]
    },
    {
     "name": "stderr",
     "output_type": "stream",
     "text": [
      " /home/hrluo/anaconda3/lib/python3.8/site-packages/sklearn/gaussian_process/kernels.py:402: ConvergenceWarning:The optimal value found for dimension 0 of parameter k2__noise_level is close to the specified lower bound 0.001. Decreasing the bound and calling fit again may find a better value.\n"
     ]
    },
    {
     "name": "stdout",
     "output_type": "stream",
     "text": [
      ">>>>>>MODULE: sklearn is used, l-bfgs optimization.\n",
      ">>>>Maximal acquisition function =  0  attained at  [0.94760416 0.35560178]  for component  2\n",
      ">>>>>>METHOD: frequentist MLE approach, component 3/4\n",
      ">>>>>>SAMPLE: component sample size = 12\n"
     ]
    },
    {
     "name": "stderr",
     "output_type": "stream",
     "text": [
      " /home/hrluo/anaconda3/lib/python3.8/site-packages/sklearn/gaussian_process/kernels.py:402: ConvergenceWarning:The optimal value found for dimension 0 of parameter k2__noise_level is close to the specified lower bound 0.001. Decreasing the bound and calling fit again may find a better value.\n"
     ]
    },
    {
     "name": "stdout",
     "output_type": "stream",
     "text": [
      ">>>>>>MODULE: sklearn is used, l-bfgs optimization.\n",
      ">>>>Maximal acquisition function =  1.7751633380914595e-259  attained at  [-0.60286022 -0.14659798]  for component  3\n",
      ">>>>>>METHOD: frequentist MLE approach, component 4/4\n",
      ">>>>>>SAMPLE: component sample size = 6\n"
     ]
    },
    {
     "name": "stderr",
     "output_type": "stream",
     "text": [
      " /home/hrluo/anaconda3/lib/python3.8/site-packages/sklearn/gaussian_process/kernels.py:402: ConvergenceWarning:The optimal value found for dimension 0 of parameter k2__noise_level is close to the specified lower bound 0.001. Decreasing the bound and calling fit again may find a better value.\n"
     ]
    },
    {
     "name": "stdout",
     "output_type": "stream",
     "text": [
      ">>>>>>MODULE: sklearn is used, l-bfgs optimization.\n",
      ">>>>Maximal acquisition function =  0  attained at  [-0.31330752  0.59527761]  for component  4\n",
      "----------\n",
      ">>Next sample input is chosen to be:  [[-0.31330752  0.59527761]]\n",
      ">>Next sample response is chosen to be:  [0.69612094]\n",
      "\n",
      ">>>>>>>>>> ***** STEP  29 / 30 ***** <<<<<<<<<<\n",
      ">>CLUSTERED, a cGP surrogate. 5  components in surrogate model.\n",
      ">>>>Find next sample: acquisition proposal.\n",
      ">>>>>>METHOD: frequentist MLE approach, component 0/4\n",
      ">>>>>>SAMPLE: component sample size = 8\n"
     ]
    },
    {
     "name": "stderr",
     "output_type": "stream",
     "text": [
      " /home/hrluo/anaconda3/lib/python3.8/site-packages/sklearn/gaussian_process/kernels.py:402: ConvergenceWarning:The optimal value found for dimension 0 of parameter k2__noise_level is close to the specified lower bound 0.001. Decreasing the bound and calling fit again may find a better value.\n"
     ]
    },
    {
     "name": "stdout",
     "output_type": "stream",
     "text": [
      ">>>>>>MODULE: sklearn is used, l-bfgs optimization.\n",
      ">>>>Maximal acquisition function =  0  attained at  [0.80768391 0.32543962]  for component  0\n",
      ">>>>>>METHOD: frequentist MLE approach, component 1/4\n",
      ">>>>>>SAMPLE: component sample size = 5\n"
     ]
    },
    {
     "name": "stderr",
     "output_type": "stream",
     "text": [
      " /home/hrluo/anaconda3/lib/python3.8/site-packages/sklearn/gaussian_process/kernels.py:402: ConvergenceWarning:The optimal value found for dimension 0 of parameter k2__noise_level is close to the specified lower bound 0.001. Decreasing the bound and calling fit again may find a better value.\n"
     ]
    },
    {
     "name": "stdout",
     "output_type": "stream",
     "text": [
      ">>>>>>MODULE: sklearn is used, l-bfgs optimization.\n",
      ">>>>Maximal acquisition function =  0  attained at  [-0.45958348 -0.4952666 ]  for component  1\n",
      ">>>>>>METHOD: frequentist MLE approach, component 2/4\n",
      ">>>>>>SAMPLE: component sample size = 6\n"
     ]
    },
    {
     "name": "stderr",
     "output_type": "stream",
     "text": [
      " /home/hrluo/anaconda3/lib/python3.8/site-packages/sklearn/gaussian_process/kernels.py:402: ConvergenceWarning:The optimal value found for dimension 0 of parameter k2__noise_level is close to the specified lower bound 0.001. Decreasing the bound and calling fit again may find a better value.\n"
     ]
    },
    {
     "name": "stdout",
     "output_type": "stream",
     "text": [
      ">>>>>>MODULE: sklearn is used, l-bfgs optimization.\n",
      ">>>>Maximal acquisition function =  0  attained at  [0.70979589 0.05542929]  for component  2\n",
      ">>>>>>METHOD: frequentist MLE approach, component 3/4\n",
      ">>>>>>SAMPLE: component sample size = 13\n"
     ]
    },
    {
     "name": "stderr",
     "output_type": "stream",
     "text": [
      " /home/hrluo/anaconda3/lib/python3.8/site-packages/sklearn/gaussian_process/kernels.py:402: ConvergenceWarning:The optimal value found for dimension 0 of parameter k2__noise_level is close to the specified lower bound 0.001. Decreasing the bound and calling fit again may find a better value.\n"
     ]
    },
    {
     "name": "stdout",
     "output_type": "stream",
     "text": [
      ">>>>>>MODULE: sklearn is used, l-bfgs optimization.\n",
      ">>>>Maximal acquisition function =  0  attained at  [0.60432217 0.14497703]  for component  3\n",
      ">>>>>>METHOD: frequentist MLE approach, component 4/4\n",
      ">>>>>>SAMPLE: component sample size = 6\n"
     ]
    },
    {
     "name": "stderr",
     "output_type": "stream",
     "text": [
      " /home/hrluo/anaconda3/lib/python3.8/site-packages/sklearn/gaussian_process/kernels.py:402: ConvergenceWarning:The optimal value found for dimension 0 of parameter k2__noise_level is close to the specified lower bound 0.001. Decreasing the bound and calling fit again may find a better value.\n"
     ]
    },
    {
     "name": "stdout",
     "output_type": "stream",
     "text": [
      ">>>>>>MODULE: sklearn is used, l-bfgs optimization.\n",
      ">>>>Maximal acquisition function =  0  attained at  [0.46628505 0.03802325]  for component  4\n",
      "----------\n",
      ">>Next sample input is chosen to be:  [[0.46628505 0.03802325]]\n",
      ">>Next sample response is chosen to be:  [0.91599135]\n",
      "\n",
      ">>>>>>>>>> ***** STEP  30 / 30 ***** <<<<<<<<<<\n",
      ">>CLUSTERED, a cGP surrogate. 5  components in surrogate model.\n",
      ">>>>Find next sample: acquisition proposal.\n",
      ">>>>>>METHOD: frequentist MLE approach, component 0/4\n",
      ">>>>>>SAMPLE: component sample size = 8\n"
     ]
    },
    {
     "name": "stderr",
     "output_type": "stream",
     "text": [
      " /home/hrluo/anaconda3/lib/python3.8/site-packages/sklearn/gaussian_process/kernels.py:402: ConvergenceWarning:The optimal value found for dimension 0 of parameter k2__noise_level is close to the specified lower bound 0.001. Decreasing the bound and calling fit again may find a better value.\n"
     ]
    },
    {
     "name": "stdout",
     "output_type": "stream",
     "text": [
      ">>>>>>MODULE: sklearn is used, l-bfgs optimization.\n",
      ">>>>Maximal acquisition function =  0.0005975024617779657  attained at  [ 0.14250145 -0.07717796]  for component  0\n",
      ">>>>>>METHOD: frequentist MLE approach, component 1/4\n",
      ">>>>>>SAMPLE: component sample size = 5\n"
     ]
    },
    {
     "name": "stderr",
     "output_type": "stream",
     "text": [
      " /home/hrluo/anaconda3/lib/python3.8/site-packages/sklearn/gaussian_process/kernels.py:402: ConvergenceWarning:The optimal value found for dimension 0 of parameter k2__noise_level is close to the specified lower bound 0.001. Decreasing the bound and calling fit again may find a better value.\n"
     ]
    },
    {
     "name": "stdout",
     "output_type": "stream",
     "text": [
      ">>>>>>MODULE: sklearn is used, l-bfgs optimization.\n",
      ">>>>Maximal acquisition function =  0  attained at  [-0.31462218 -0.8635813 ]  for component  1\n",
      ">>>>>>METHOD: frequentist MLE approach, component 2/4\n",
      ">>>>>>SAMPLE: component sample size = 6\n"
     ]
    },
    {
     "name": "stderr",
     "output_type": "stream",
     "text": [
      " /home/hrluo/anaconda3/lib/python3.8/site-packages/sklearn/gaussian_process/kernels.py:402: ConvergenceWarning:The optimal value found for dimension 0 of parameter k2__noise_level is close to the specified lower bound 0.001. Decreasing the bound and calling fit again may find a better value.\n"
     ]
    },
    {
     "name": "stdout",
     "output_type": "stream",
     "text": [
      ">>>>>>MODULE: sklearn is used, l-bfgs optimization.\n",
      ">>>>Maximal acquisition function =  0.0006353915192431585  attained at  [-0.12188355 -0.78670217]  for component  2\n",
      ">>>>>>METHOD: frequentist MLE approach, component 3/4\n",
      ">>>>>>SAMPLE: component sample size = 13\n"
     ]
    },
    {
     "name": "stderr",
     "output_type": "stream",
     "text": [
      " /home/hrluo/anaconda3/lib/python3.8/site-packages/sklearn/gaussian_process/kernels.py:402: ConvergenceWarning:The optimal value found for dimension 0 of parameter k2__noise_level is close to the specified lower bound 0.001. Decreasing the bound and calling fit again may find a better value.\n"
     ]
    },
    {
     "name": "stdout",
     "output_type": "stream",
     "text": [
      ">>>>>>MODULE: sklearn is used, l-bfgs optimization.\n",
      ">>>>Maximal acquisition function =  0  attained at  [ 0.96563423 -0.6367743 ]  for component  3\n",
      ">>>>>>METHOD: frequentist MLE approach, component 4/4\n",
      ">>>>>>SAMPLE: component sample size = 7\n",
      ">>>>>>MODULE: sklearn is used, l-bfgs optimization.\n",
      ">>>>Maximal acquisition function =  0  attained at  [0.6237174  0.74992329]  for component  4\n",
      "----------\n",
      ">>Next sample input is chosen to be:  [[0.6237174  0.74992329]]\n",
      ">>Next sample response is chosen to be:  [0.71963777]\n"
     ]
    },
    {
     "name": "stderr",
     "output_type": "stream",
     "text": [
      " /home/hrluo/anaconda3/lib/python3.8/site-packages/sklearn/gaussian_process/kernels.py:402: ConvergenceWarning:The optimal value found for dimension 0 of parameter k2__noise_level is close to the specified lower bound 0.001. Decreasing the bound and calling fit again may find a better value.\n"
     ]
    }
   ],
   "source": [
    "########################################\n",
    "#        Draw sequential samples       #\n",
    "########################################\n",
    "from scipy import stats\n",
    "from matplotlib import cm\n",
    "mycm = cm.Spectral\n",
    "VERBOSE = False\n",
    "GETPLOT = False\n",
    "\n",
    "#Prepare sequential samples (X,Y)\n",
    "print('\\n>>>>>>>>>>Sampling ',N_SEQUENTIAL,' sequential samples...<<<<<<<<<<\\n')\n",
    "X_sample = X_sample_XY\n",
    "Y_sample = Y_sample_XY\n",
    "cluster_label = XY_label\n",
    "\n",
    "def get_KER():\n",
    "    return KERNEL_TEMPLATE\n",
    "#This recode function will turn the labels into increasing order,e.g. [1, 1, 3, 3, 0] ==> [0, 0, 1, 1, 2].\n",
    "def recode(label):\n",
    "    level = np.unique(np.array(label))\n",
    "    ck = 0\n",
    "    for j in level:\n",
    "        label[label==j]=ck\n",
    "        ck=ck+1\n",
    "    return label\n",
    "#Main loop that guides us in sampling sequential samples\n",
    "comp_l = np.unique(np.array(cluster_label))\n",
    "\n",
    "for it in range(N_SEQUENTIAL):\n",
    "    print('\\n>>>>>>>>>> ***** STEP ',it+1,'/',N_SEQUENTIAL,'***** <<<<<<<<<<')\n",
    "    #Step 1. For observations, we can do a (unsupervised) (X,Y)-clustering and label them, different components are generated.\n",
    "    #Create the (X,Y) joint sample to conduct (unsupervised clustering)\n",
    "    if len(X_TRANSLATE)>0:\n",
    "        X_TRANSLATE = np.mean(X_sample,axis=0)\n",
    "    if Y_TRANSLATE != 0:\n",
    "        Y_TRANSLATE = np.mean(Y_sample)\n",
    "    #The cluster must be based on adjusted response value Y.\n",
    "    XY_sample        = np.concatenate((X_AMPLIFY*(X_sample-X_TRANSLATE),Y_AMPLIFY*(Y_sample-Y_TRANSLATE).reshape(-1,1)),axis=1)\n",
    "    if NO_CLUSTER:\n",
    "        print('>>NO CLUSTER, a GP surrogate.')\n",
    "        cluster_label    = np.zeros(XY_sample.shape[0])\n",
    "    else:\n",
    "        print('>>CLUSTERED, a cGP surrogate.',len(comp_l),' components in surrogate model.')\n",
    "        cluster_label    = dgm_XY.fit_predict(XY_sample)#cluster_label\n",
    "        if VERBOSE: print('dgm label', cluster_label)\n",
    "        #Again, we need to ensure that every cluster has at least d (dimension of covariate) samples.\n",
    "        for c in np.unique(cluster_label):\n",
    "            if sum(cluster_label==c)<=X_sample.shape[1]:\n",
    "                occ = np.bincount(cluster_label)\n",
    "                cluster_label[np.where(cluster_label==c)] = np.argmax(occ)\n",
    "        if VERBOSE: print('merged label',cluster_label)\n",
    "    cluster_label = recode(cluster_label)\n",
    "    if VERBOSE: print('All labels are recoded: ',cluster_label)\n",
    "    #Create arrays to store the mean&variance at observed locations and predictive locations.\n",
    "    mean_fun = np.zeros((len(cluster_label),1))\n",
    "    var_fun = np.copy(mean_fun)\n",
    "    \n",
    "    #Step 2. For predictive locations, we can do a (supervised) k-nearest neighbor classification, and predict at each location based on which component it belongs to. \n",
    "    clf_XY = KNeighborsClassifier(n_neighbors=N_NEIGHBORS)\n",
    "    clf_XY.fit(X_sample,cluster_label)\n",
    "        \n",
    "    #Step 3. We either randomly search one location or compute the acquisition function and then proceed to the next sample, after adding the new sample we repeat Step 1 and 2.\n",
    "    coin = np.random.uniform(0,1,1)\n",
    "    if coin<EXPLORATION_RATE:\n",
    "        print('>>>>Find next sample: acquisition proposal.')\n",
    "        comp_l = np.unique(np.array(cluster_label))\n",
    "        for c in comp_l:\n",
    "            #Assign the corresponding X_sample and Y_sample values to the cluster coded by c. \n",
    "            c_idx = np.where(cluster_label == int(c))\n",
    "            if VERBOSE: \n",
    "                print('>>>>Fitting component ',c,'/',len(comp_l)-1,' total components')\n",
    "                print(c_idx)\n",
    "            Xt = X_sample[c_idx].ravel().reshape(-1,X_sample.shape[1])\n",
    "            Yt = Y_sample[c_idx].ravel().reshape(-1,1)\n",
    "            #Fit the model with normalization\n",
    "            if USE_SKLEARN==True:\n",
    "                mt = GaussianProcessRegressor(kernel=get_KER(), random_state=0, normalize_y=SKLEARN_normalizer,alpha=ALPHA_SKLEARN,  \n",
    "                                              optimizer='fmin_l_bfgs_b', n_restarts_optimizer=int(10*bounds.shape[0]))\n",
    "            else:\n",
    "                mt = GPy.models.GPRegression(Xt, Yt, kernel=get_KER(), normalizer=GPy_normalizer)\n",
    "            ###\n",
    "            if METHOD == 'FREQUENTIST':\n",
    "                ##############################\n",
    "                #Frequentist MLE GP surrogate#\n",
    "                ##############################\n",
    "                print('>>>>>>METHOD: frequentist MLE approach, component '+str(c)+'/'+str(len(comp_l)-1))\n",
    "                print('>>>>>>SAMPLE: component sample size =',len(c_idx[0]) )\n",
    "                if USE_SKLEARN==True:\n",
    "                    mt.fit(Xt, Yt)\n",
    "                    #No need to do more for sklearn GP\n",
    "                    print('>>>>>>MODULE: sklearn is used, l-bfgs optimization.')\n",
    "                    if VERBOSE: print(mt.kernel_, mt.log_marginal_likelihood(mt.kernel_.theta))\n",
    "                else:\n",
    "                    print('>>>>>>MODULE: GPy is used, l-bfgs optimization.')\n",
    "                    mt.optimize(optimizer='bfgs', gtol = 1e-100, messages=VERBOSE, max_iters=int(10000*bounds.shape[0]))\n",
    "                    mt.optimize_restarts(num_restarts=int(10*bounds.shape[0]),robust=True,verbose=VERBOSE)\n",
    "            elif METHOD == 'BAYESIAN':\n",
    "                if USE_SKLEARN: sys.exit('FUTURE: Currently we cannot fit with Bayesian method using sklearn, we have GPy only.')\n",
    "                ##############################\n",
    "                #Fully Bayesian GP surrogate #\n",
    "                ##############################\n",
    "                #Prior on the \"hyper-parameters\" for the GP surrogate model.\n",
    "                print('>>>>>>METHOD: Fully Bayesian approach, component '+str(c)+'/'+str(len(comp_l)-1))\n",
    "                print('>>>>>>SAMPLE: component sample size =',len(c_idx[0]) )\n",
    "                mt.kern.lengthscale.set_prior(GPy.priors.Gamma.from_EV(1.,10.))\n",
    "                mt.kern.variance.set_prior(GPy.priors.Gamma.from_EV(1.,10.))\n",
    "                #HMC sampling, fully Bayesian approach to estimate the kernel parameters.\n",
    "                hmc = GPy.inference.mcmc.HMC(mt,stepsize=0.1)\n",
    "                s = hmc.sample(num_samples=N_BURNIN) # Burnin\n",
    "                s = hmc.sample(num_samples=N_MCMCSAMPLES)\n",
    "                MCMC_samples = s[N_INFERENCE:] # cut out the burn-in period\n",
    "                # Set the model parameters as the posterior mean\n",
    "                mt.kern.variance[:]    = MCMC_samples[:,0].mean()\n",
    "                mt.kern.lengthscale[:] = MCMC_samples[:,1].mean()\n",
    "            #######################################\n",
    "            # Optimization module(each component) #\n",
    "            #######################################\n",
    "            #mt2 predicts on observed locations.\n",
    "            #No matter GRID_SEARCH true or not, we still need to predict on observed locations\n",
    "            if USE_SKLEARN:\n",
    "                mt2 = mt.predict(Xt,return_std=True, return_cov=False)\n",
    "                mean_fun[c_idx,0] = mean_fun[c_idx,0] + mt2[0].reshape(1,-1)\n",
    "                var_fun[c_idx,0]  = var_fun[c_idx,0]  + mt2[1].reshape(1,-1)\n",
    "            else:\n",
    "                mt2 = mt.predict(Xt)\n",
    "                mean_fun[c_idx,0] = mean_fun[c_idx,0] + mt2[0].reshape(1,-1)#*np.std(Yt) + np.mean(Yt)\n",
    "                var_fun[c_idx,0]  = var_fun[c_idx,0]  + mt2[1].reshape(1,-1)#*np.std(Yt)*np.std(Yt)\n",
    "            #Define the expected improvement as objective function to optimize over.\n",
    "            def my_obj(X):\n",
    "                my_X = X.reshape(1, -1)\n",
    "                my_X_label = clf_XY.predict(my_X)\n",
    "                #If not in this component, set it to zero immediately.\n",
    "                if my_X_label != int(c): return -0\n",
    "                my_xi = 0.0 #tuning parameter, set it to zero for now.\n",
    "                if USE_SKLEARN:\n",
    "                    my_gp = mt.predict(my_X, return_std=True, return_cov=False)\n",
    "                    my_mu = my_gp[0]\n",
    "                    my_sigma = my_gp[1]\n",
    "                else:\n",
    "                    my_gp = mt.predict(my_X)\n",
    "                    my_mu = my_gp[0]\n",
    "                    my_sigma = my_gp[1]\n",
    "                    my_sigma = np.sqrt(np.absolute(my_sigma)).reshape(-1, 1)\n",
    "                my_mu = np.asarray(my_mu)\n",
    "                my_sigma = np.asarray(my_sigma)\n",
    "                with np.errstate(divide='warn'):\n",
    "                    my_imp = my_mu - np.max(mt2[0].reshape(1,-1)) - my_xi\n",
    "                    my_Z = np.divide(my_imp,my_sigma)\n",
    "                    #norm = mvn(mean=np.zeros(X_sample[0,:].shape), cov=np.eye(X_sample.shape[1]))\n",
    "                    my_ei = my_imp * norm.cdf(my_Z) + my_sigma * norm.pdf(my_Z)\n",
    "                    my_ei[np.where(my_sigma <= 0.0)] = 0.0\n",
    "                #Here we penalize the acquisition function value according to boundary_penalty function, by default this would be disabled. See document for details.\n",
    "                my_ei = my_ei + boundary_penalty(my_X,X_sample)\n",
    "                my_ei = float(my_ei.ravel())\n",
    "                if VERBOSE: print('EI=',my_ei,'\\n')\n",
    "                return - my_ei/Xt.shape[0]\n",
    "            #Optimize this my_obj using some optimization method.\n",
    "            from scipy.optimize import minimize\n",
    "            #from scipy.optimize import dual_annealing\n",
    "            func = my_obj#lambda x:my_obj(x,mt,clf_XY) #Since the anneal finds minimum\n",
    "            lw = bounds[:,0].tolist()\n",
    "            up = bounds[:,1].tolist()\n",
    "            #ret = dual_annealing(func, bounds=list(zip(lw, up)), seed=123)\n",
    "            #dual annealing works for dim=1\n",
    "            ret = minimize(fun=func, x0=np.random.uniform(bounds[:,0].T,bounds[:,1].T), bounds=list(zip(lw, up)), method='L-BFGS-B')\n",
    "            print('>>>>Maximal acquisition function = ',-ret.fun,' attained at ',ret.x,' for component ',c)\n",
    "            X_next = ret.x\n",
    "    else:\n",
    "        print('>>>>Find next sample: random search.')\n",
    "        randomize_counter = 0\n",
    "        X_rand = np.zeros((1,bounds.shape[0]))\n",
    "        for j in range(bounds.shape[0]):\n",
    "            X_rand[0,j] = np.random.uniform(bounds[j,0],bounds[j,1],1)\n",
    "        X_next = X_rand\n",
    "        #If we do not want repetitive samples, we sample until there are no points nearby. \n",
    "        while ~random_domain(X_next,X_sample):\n",
    "            if VERBOSE: print('Random search: ',X_next,'hits a repetitive sample OR does not hit the random_domain constraint, resampling...')\n",
    "            X_rand = np.zeros((1,bounds.shape[0]))\n",
    "            for j in range(bounds.shape[0]):\n",
    "                X_rand[0,j] = np.random.uniform(bounds[j,0],bounds[j,1],1)\n",
    "            X_next = X_rand\n",
    "            randomize_counter = randomize_counter + 1\n",
    "        print('>>>>Random search stops after ',randomize_counter,' steps.')\n",
    "    #Optional: Following are plotting features that tracks the optimization procedure\n",
    "    X_next = X_next.reshape(1,-1)\n",
    "    Y_next = f_truth(X_next)\n",
    "    print('----------')\n",
    "    print('>>Next sample input is chosen to be: ',X_next)\n",
    "    print('>>Next sample response is chosen to be: ',Y_next.ravel())\n",
    "    if GETPLOT:\n",
    "        X_new = x0grid_ravel\n",
    "        if bounds.shape[0]==1:\n",
    "            fig, axs = plt.subplots(2,figsize=(6,6))\n",
    "            fig.suptitle('Fitted surrogate model, sample size = '+str(X_sample.shape[0]))\n",
    "            axs[0].plot(X_new,mean_new,color='b')\n",
    "            axs[0].scatter(X_sample,Y_sample,color='b')\n",
    "            axs[0].set_title('observed samples and mean')\n",
    "            ci = np.sqrt(var_new)#/mean_new\n",
    "            axs[0].fill_between(X_new.ravel(), (mean_new-ci).ravel(), (mean_new+ci).ravel(), color='b', alpha=.1)\n",
    "            axs[1].plot(fine_grid,ei_grid,color='k')\n",
    "            axs[1].scatter(X_next,ei_next,marker='v',color='r',s=100)\n",
    "            axs[1].text(s='x='+str(X_next),x=X_next,y=np.max(ei_grid),color='r',fontsize=12)\n",
    "            axs[1].set_title('acquisition/expected improvement function')\n",
    "            plt.show()\n",
    "        if bounds.shape[0]==2:\n",
    "            fig, axs = plt.subplots(2,figsize=(6,12))\n",
    "            fig.suptitle('Fitted surrogate model, sample size = '+str(X_sample.shape[0]))\n",
    "            axs[0].scatter(X_new[:,0],X_new[:,1],c=mean_new.ravel(),cmap=mycm)\n",
    "            axs[0].scatter(X_sample[:,0],X_sample[:,1],c=Y_sample.ravel(),cmap=mycm,marker='v',s=200,edgecolors='k')\n",
    "\n",
    "            axs[0].set_title('observed samples and mean')\n",
    "            ci = np.sqrt(var_new)#/mean_new\n",
    "            axs[1].scatter(fine_grid[:,0],fine_grid[:,1],c=ei_grid.ravel(),cmap=mycm)\n",
    "            axs[1].scatter(X_next[0,0],X_next[0,1],marker='v',color=None,s=200,edgecolors='k')\n",
    "            axs[1].text(s='x='+str(X_next),x=X_next[0,0],y=X_next[0,1],color='k',fontsize=12)\n",
    "            axs[1].set_title('acquisition/expected improvement function')\n",
    "            plt.show()\n",
    "        #plt.savefig('cGP'+rdstr+'_step'+str(it)+'_'+str(n)+'_'+str(m)+'_'+str(l)+'.png')\n",
    "    #Update X and Y from this step.\n",
    "    X_sample = np.vstack((X_sample,X_next))\n",
    "    Y_sample = np.vstack((Y_sample,censor_function(Y_next) ))\n",
    "\n"
   ]
  },
  {
   "cell_type": "code",
   "execution_count": 6,
   "metadata": {},
   "outputs": [
    {
     "name": "stdout",
     "output_type": "stream",
     "text": [
      "Sample start date and time = 2021/08/14 18:55:18\n",
      "Sample end date and time = 2021/08/14 18:56:06\n"
     ]
    }
   ],
   "source": [
    "sampleendingtime = datetime.now()\n",
    "# dd/mm/YY H:M:S\n",
    "samplestartingtime  = samplestartingtime.strftime(\"%Y/%m/%d %H:%M:%S\")\n",
    "sampleendingtime  = sampleendingtime.strftime(\"%Y/%m/%d %H:%M:%S\")\n",
    "print(\"Sample start date and time =\", samplestartingtime)\n",
    "print(\"Sample end date and time =\", sampleendingtime)\n",
    "#print(X_sample)\n",
    "#print(Y_sample)\n",
    "#print(np.hstack((Y_sample,X_sample)).shape)\n",
    "if NO_CLUSTER==True:\n",
    "    FILE_NAME = EXAMPLE_NAME+'_local_GP('+rdstr+')'\n",
    "else:\n",
    "    FILE_NAME = EXAMPLE_NAME+'_local_cGP_k='+str(N_COMPONENTS)+'('+rdstr+')'\n",
    "np.savetxt(FILE_NAME+'.txt', np.hstack((Y_sample,X_sample)), delimiter =', ')  \n",
    "\n",
    "sample_max_x = X_sample[np.argmax(Y_sample),:] \n",
    "sample_max_f = Y_sample[np.argmax(Y_sample),:]\n",
    "sample_min_x = X_sample[np.argmin(Y_sample),:] \n",
    "sample_min_f = Y_sample[np.argmin(Y_sample),:]"
   ]
  },
  {
   "cell_type": "code",
   "execution_count": 7,
   "metadata": {},
   "outputs": [
    {
     "name": "stdout",
     "output_type": "stream",
     "text": [
      "Logs of run with stamp:  icatvqqa , is saved at /media/hrluo/ALL/LBNLhrluo/minimalcGP\n"
     ]
    }
   ],
   "source": [
    "if True:\n",
    "    original_stdout = sys.stdout # Save a reference to the original standard output\n",
    "    with open(FILE_NAME+'.log', 'w') as f:\n",
    "        sys.stdout = f # Change the standard output to the file we created.\n",
    "        #print('This message will be written to a file.')\n",
    "        print(\"Example: \",EXAMPLE_NAME,file=f)\n",
    "        print(\"Sample start date and time = \", samplestartingtime)\n",
    "        print(\"Sample end date and time = \", sampleendingtime)\n",
    "        print(\"Python version: \", sys.version)\n",
    "        #print(\"Filename of the script: \", sys.argv[0])\n",
    "        print(\"Commandline arguments: \",sys.argv)\n",
    "        print(\"Random seed: \",RND_SEED)\n",
    "        print('Random stamp: ',rdstr)\n",
    "        print('GPy version: ', GPy.__version__)\n",
    "        print('sklearn version: ', sklearn.__version__)\n",
    "        print('Number of pilot samples: ',N_PILOT)\n",
    "        print('Number of sequential samples: ',N_SEQUENTIAL)\n",
    "        print('Surrogate fitting method: ',METHOD)\n",
    "        if METHOD==\"BAYESIAN\":\n",
    "            print('MCMC>Burn-in steps: ',N_BURNIN)\n",
    "            print('MCMC>Sampling steps: ',N_MCMCSAMPLES)\n",
    "            print('MCMC>Inference sample length: ',N_INFERENCE)\n",
    "        print('Surrogate> Are we using sklearn for GPR?: ',USE_SKLEARN)\n",
    "        print('Surrogate> kernel type: ',get_KER())\n",
    "        if USE_SKLEARN:\n",
    "            print('Surrogate>sklearn>jittering: ',ALPHA_SKLEARN)\n",
    "            print('Surrogate>sklearn>normalizer; ',SKLEARN_normalizer)\n",
    "        else:\n",
    "            #print('Surrogate>GPy>Nugget noise variance',NUGGET)\n",
    "            print('Surrogate>GPy>jittering: ',N_JITTER)\n",
    "            print('Surrogate>GPy>normalizer; ',GPy_normalizer)\n",
    "        print('Surrogate> Fit a simple GP?(no cluster): ',NO_CLUSTER)\n",
    "        print('Cluster> Response amplifier when clustering: ',Y_AMPLIFY)\n",
    "        print('Cluster> Maximal number of components/clusters: ',N_COMPONENTS)\n",
    "        print('Classify> k in k-nearest neighbor classifier',N_NEIGHBORS)\n",
    "        print('Exploration rate: ',EXPLORATION_RATE)\n",
    "        #print('Exploration> Do we perform grid-search in acquisition maximization?',GRID_SEARCH)\n",
    "        print('Exploration> Do we allow repeat samples in random searching?',REPEAT_SAMPLE)\n",
    "        print('domain bounds: ',bounds)\n",
    "        #print('blur amount: ',blur_amount)\n",
    "        print('sample minimum, f_min=',sample_min_f,' at ',sample_min_x)\n",
    "        print('sample maximum, f_max=',sample_max_f,' at ',sample_max_x)\n",
    "        print('>>Cluster X_AMPLIFY=',X_AMPLIFY)\n",
    "        print('>>Cluster X_TRANSLATE=',X_TRANSLATE)\n",
    "        print('>>Cluster Y_AMPLIFY=',Y_AMPLIFY)\n",
    "        print('>>Cluster Y_TRANSLATE=',Y_TRANSLATE)\n",
    "    sys.stdout = original_stdout # Reset the standard output to its original value\n",
    "\n",
    "#%debug\n",
    "import os\n",
    "print('Logs of run with stamp: ',rdstr,', is saved at',os.getcwd())"
   ]
  },
  {
   "cell_type": "code",
   "execution_count": 8,
   "metadata": {},
   "outputs": [
    {
     "name": "stdout",
     "output_type": "stream",
     "text": [
      "dgm label [3 0 2 3 2 3 3 3 2 1 4 0 1 0 1 3 3 3 2 4 4 4 1 4 3 3 0 0 3 2 0 2 4 0 1 0 3\n",
      " 3 4]\n",
      "merged label [3 0 2 3 2 3 3 3 2 1 4 0 1 0 1 3 3 3 2 4 4 4 1 4 3 3 0 0 3 2 0 2 4 0 1 0 3\n",
      " 3 4]\n"
     ]
    }
   ],
   "source": [
    "cluster_label    = dgm_XY.fit_predict(XY_sample)#cluster_label\n",
    "prediction_label = clf_XY.predict(x0grid_ravel)#XY_predlabel\n",
    "print('dgm label', cluster_label)\n",
    "#Again, we need to ensure that every cluster has at least d (dimension of covariate) samples.\n",
    "for c in np.unique(cluster_label):\n",
    "    if sum(cluster_label==c)<=X_sample.shape[1]:\n",
    "        occ = np.bincount(cluster_label)\n",
    "        cluster_label[np.where(cluster_label==c)] = np.argmax(occ)\n",
    "print('merged label',cluster_label)"
   ]
  },
  {
   "cell_type": "code",
   "execution_count": 9,
   "metadata": {
    "scrolled": false
   },
   "outputs": [
    {
     "name": "stdout",
     "output_type": "stream",
     "text": [
      "[3 0 2 3 2 3 3 3 2 1 4 0 1 0 1 3 3 3 2 4 4 4 1 4 3 3 0 0 3 2 0 2 4 0 1 0 3\n",
      " 3 4 0]\n",
      "[2 2 2 ... 0 0 0]\n",
      "Fitting component  0\n",
      "(array([ 1, 11, 13, 26, 27, 30, 33, 35, 39]),)\n"
     ]
    },
    {
     "name": "stderr",
     "output_type": "stream",
     "text": [
      " /home/hrluo/anaconda3/lib/python3.8/site-packages/sklearn/gaussian_process/kernels.py:402: ConvergenceWarning:The optimal value found for dimension 0 of parameter k2__noise_level is close to the specified lower bound 0.001. Decreasing the bound and calling fit again may find a better value.\n"
     ]
    },
    {
     "name": "stdout",
     "output_type": "stream",
     "text": [
      "Summary of component 0 GP surrogate model.\n",
      "Matern(length_scale=[0.797, 0.583], nu=1.5) + WhiteKernel(noise_level=0.001) -5.987064462039889\n",
      "[3860 3861 3862 ... 9997 9998 9999]\n",
      "Fitting component  1\n",
      "(array([ 9, 12, 14, 22, 34]),)\n"
     ]
    },
    {
     "name": "stderr",
     "output_type": "stream",
     "text": [
      " /home/hrluo/anaconda3/lib/python3.8/site-packages/sklearn/gaussian_process/kernels.py:402: ConvergenceWarning:The optimal value found for dimension 0 of parameter k2__noise_level is close to the specified lower bound 0.001. Decreasing the bound and calling fit again may find a better value.\n"
     ]
    },
    {
     "name": "stdout",
     "output_type": "stream",
     "text": [
      "Summary of component 1 GP surrogate model.\n",
      "Matern(length_scale=[0.685, 0.17], nu=1.5) + WhiteKernel(noise_level=0.001) -5.7084603060061605\n",
      "[  46   47   48 ... 3662 3760 3761]\n",
      "Fitting component  2\n",
      "(array([ 2,  4,  8, 18, 29, 31]),)\n"
     ]
    },
    {
     "name": "stderr",
     "output_type": "stream",
     "text": [
      " /home/hrluo/anaconda3/lib/python3.8/site-packages/sklearn/gaussian_process/kernels.py:402: ConvergenceWarning:The optimal value found for dimension 0 of parameter k2__noise_level is close to the specified lower bound 0.001. Decreasing the bound and calling fit again may find a better value.\n"
     ]
    },
    {
     "name": "stdout",
     "output_type": "stream",
     "text": [
      "Summary of component 2 GP surrogate model.\n",
      "Matern(length_scale=[0.502, 0.325], nu=1.5) + WhiteKernel(noise_level=0.001) -6.851030443379237\n",
      "[   0    1    2 ... 3419 3420 3519]\n",
      "Fitting component  3\n",
      "(array([ 0,  3,  5,  6,  7, 15, 16, 17, 24, 25, 28, 36, 37]),)\n"
     ]
    },
    {
     "name": "stderr",
     "output_type": "stream",
     "text": [
      " /home/hrluo/anaconda3/lib/python3.8/site-packages/sklearn/gaussian_process/kernels.py:402: ConvergenceWarning:The optimal value found for dimension 0 of parameter k2__noise_level is close to the specified lower bound 0.001. Decreasing the bound and calling fit again may find a better value.\n"
     ]
    },
    {
     "name": "stdout",
     "output_type": "stream",
     "text": [
      "Summary of component 3 GP surrogate model.\n",
      "Matern(length_scale=[0.798, 1.18], nu=1.5) + WhiteKernel(noise_level=0.001) -3.7835183170427804\n",
      "[2434 2435 2532 ... 9935 9936 9937]\n",
      "Fitting component  4\n",
      "(array([10, 19, 20, 21, 23, 32, 38]),)\n"
     ]
    },
    {
     "name": "stderr",
     "output_type": "stream",
     "text": [
      " /home/hrluo/anaconda3/lib/python3.8/site-packages/sklearn/gaussian_process/kernels.py:402: ConvergenceWarning:The optimal value found for dimension 0 of parameter k2__noise_level is close to the specified lower bound 0.001. Decreasing the bound and calling fit again may find a better value.\n"
     ]
    },
    {
     "name": "stdout",
     "output_type": "stream",
     "text": [
      "Summary of component 4 GP surrogate model.\n",
      "Matern(length_scale=[0.358, 0.38], nu=1.5) + WhiteKernel(noise_level=0.001) -8.412858856355918\n",
      "[2194 2195 2196 ... 9498 9499 9599]\n",
      "2d plot\n",
      "sample minimum, f_min= [0.29909386]  at  [-0.70648822 -0.94522481]\n",
      "sample maximum, f_max= [0.99296862]  at  [0.26545912 0.33271749]\n",
      ">>Cluster X_AMPLIFY= 1\n",
      ">>Cluster X_TRANSLATE= [-0.02501824 -0.01911339]\n",
      ">>Cluster Y_AMPLIFY= 1\n",
      ">>Cluster Y_TRANSLATE= 0.0\n",
      "|f_max-g_max| =  [0.00754503]\n",
      "|f_min-g_min| =  [0.00653688]\n",
      "arg_max_f and arg_max_g L2 distance 0.08414967043914123\n",
      "|f-g|_max =  0.32077198538244955\n"
     ]
    },
    {
     "data": {
      "image/png": "[encoded data removed]",
      "text/plain": [
       "<Figure size 864x864 with 1 Axes>"
      ]
     },
     "metadata": {
      "needs_background": "light"
     },
     "output_type": "display_data"
    }
   ],
   "source": [
    "########################################\n",
    "#      Plot the final model(1/2D)      #\n",
    "########################################\n",
    "colormap = cm.viridis\n",
    "normalize = matplotlib.colors.Normalize(vmin=true_range[0], vmax=true_range[1])\n",
    "\n",
    "X_new = x0grid_ravel\n",
    "fine_grid = x0grid_ravel\n",
    "prediction_label = clf_XY.predict(x0grid_ravel)\n",
    "new_label = clf_XY.predict(X_new)\n",
    "col=['r','k','y','b','g'] #Generate a color scale, here usually there would not be more than 5 components.\n",
    "mean_new = np.zeros((len(prediction_label),1))\n",
    "var_new = np.copy(mean_new)\n",
    "fig = plt.figure(figsize=(12,12))\n",
    "#from IPython.display import display\n",
    "if len(X_TRANSLATE)>0:\n",
    "    X_TRANSLATE = np.mean(X_sample,axis=0)\n",
    "if Y_TRANSLATE != 0:\n",
    "    Y_TRANSLATE      = np.mean(Y_sample)\n",
    "XY_sample        = np.concatenate((X_AMPLIFY*(X_sample-X_TRANSLATE),Y_AMPLIFY*(Y_sample-Y_TRANSLATE).reshape(-1,1)),axis=1)\n",
    "#XY_sample        = np.concatenate((X_sample,Y_AMPLIFY*Y_sample.reshape(-1,1)),axis=1)\n",
    "if NO_CLUSTER: \n",
    "    cluster_label    = np.zeros(XY_sample.shape[0])\n",
    "    prediction_label = x0grid_ravel*0.\n",
    "else:\n",
    "    cluster_label    = dgm_XY.fit_predict(XY_sample)#cluster_label\n",
    "    prediction_label = clf_XY.predict(x0grid_ravel)#XY_predlabel\n",
    "    if VERBOSE: print('dgm label', cluster_label)\n",
    "    #Again, we need to ensure that every cluster has at least d (dimension of covariate) samples.\n",
    "    for c in np.unique(cluster_label):\n",
    "        if sum(cluster_label==c)<=X_sample.shape[1]:\n",
    "            occ = np.bincount(cluster_label)\n",
    "            cluster_label[np.where(cluster_label==c)] = np.argmax(occ)\n",
    "    if VERBOSE: print('merged label',cluster_label)\n",
    "cluster_label = recode(cluster_label)\n",
    "clf_XY = KNeighborsClassifier(n_neighbors=N_NEIGHBORS)\n",
    "clf_XY.fit(X_sample,cluster_label)\n",
    "#if GRID_SEARCH==True:\n",
    "new_label = clf_XY.predict(X_new)\n",
    "for c in np.unique(cluster_label):\n",
    "            if sum(cluster_label==c)<=X_sample.shape[1]:\n",
    "                occ = np.bincount(cluster_label)\n",
    "                cluster_label[np.where(cluster_label==c)] = np.argmax(occ)\n",
    "cluster_label = recode(cluster_label)\n",
    "print(cluster_label)\n",
    "new_label = recode(new_label)\n",
    "print(new_label)\n",
    "for c in np.unique(np.array(cluster_label)):\n",
    "        print('Fitting component ',c)\n",
    "        c = int(c)\n",
    "        #Assign the corresponding X_sample and Y_sample values to the cluster coded by c. \n",
    "        c_idx = np.where(cluster_label == int(c))\n",
    "        if len(c_idx) <1: continue\n",
    "        print(c_idx)\n",
    "        Xt = X_sample[c_idx].ravel().reshape(-1,X_sample.shape[1])\n",
    "        Yt = Y_sample[c_idx].ravel().reshape(-1,1)\n",
    "        #print(Xt.shape,Yt.shape)\n",
    "        #print(Xt,Yt)\n",
    "        #Normalization\n",
    "        #Fit the model\n",
    "        if 'mt' in locals():\n",
    "            del(mt)\n",
    "            # mt exists.\n",
    "        if USE_SKLEARN:\n",
    "            mt = GaussianProcessRegressor(kernel=get_KER(), random_state=0, normalize_y=SKLEARN_normalizer, alpha=ALPHA_SKLEARN,  \n",
    "                                              optimizer='fmin_l_bfgs_b', n_restarts_optimizer=int(10*bounds.shape[0]))\n",
    "            mt.fit(Xt, Yt)\n",
    "            print('Summary of component '+str(c)+' GP surrogate model.')\n",
    "            print(mt.kernel_, mt.log_marginal_likelihood(mt.kernel_.theta))\n",
    "\n",
    "        else:\n",
    "            mt = GPy.models.GPRegression(Xt, Yt, kernel=get_KER(), normalizer=GPy_normalizer)\n",
    "            mt.optimize(optimizer='bfgs', gtol = 10e-32, messages=False, max_iters=int(10000*bounds.shape[0]))\n",
    "            mt.optimize_restarts(num_restarts=int(100*bounds.shape[0]),robust=True,verbose=False)\n",
    "            #mt.plot()\n",
    "            #plt.show()\n",
    "            print('Summary of component '+str(c)+' GP surrogate model.')\n",
    "            display(mt)\n",
    "        c_idx_new = np.where(new_label == int(c))\n",
    "        c_idx_new = c_idx_new[0]\n",
    "        if len(c_idx_new) <1: continue\n",
    "        print(c_idx_new)\n",
    "        #print(mean_new.shape)\n",
    "        if USE_SKLEARN:\n",
    "            mt1 = mt.predict(X_new[c_idx_new],return_std=True, return_cov=False)\n",
    "            mt2 = mt.predict(fine_grid,return_std=True, return_cov=False)\n",
    "            mu_new = mt1[0]\n",
    "            sigma2_new = np.power(mt1[1],2)\n",
    "        else:\n",
    "            mt1 = mt.predict(X_new[c_idx_new])\n",
    "            mt2 = mt.predict(fine_grid)\n",
    "            mu_new = mt1[0]\n",
    "            sigma2_new = mt1[1]\n",
    "            \n",
    "        mean_new[c_idx_new,0] = mean_new[c_idx_new,0] + mu_new.reshape(1,-1)\n",
    "        var_new[c_idx_new,0]  = var_new[c_idx_new,0]  + sigma2_new.reshape(1,-1)\n",
    "        \n",
    "        if bounds.shape[0] == 1:\n",
    "            plt.scatter(X_new[c_idx_new],np.ones(X_new[c_idx_new].shape)*21000+100,c='w',alpha=1,marker='s',s=1000)\n",
    "            #plt.plot(fine_grid, mt2[0],color=col[c],linestyle='--',label='component '+str(c)+' mean')\n",
    "            plt.scatter(X_sample[c_idx],   Y_sample[c_idx],label='sequential samples',c='w',alpha=0.5)\n",
    "#plt.plot(X_obs,Y_obs,c='m')\n",
    "#plt.vlines(x=256, ymin=0, ymax=35000,color='g',linewidth=10,alpha=0.5)\n",
    "\n",
    "if bounds.shape[0] == 1:\n",
    "    print('1d plot')\n",
    "    plt.plot(X_new,mean_new,color='b',linewidth=4,alpha=0.5,label='overall mean')\n",
    "    plt.fill_between(X_new.ravel(), (mean_new-np.sqrt(var_new)).ravel(), (mean_new+np.sqrt(var_new)).ravel(), color='b', alpha=.1, label='overall std. deviation')\n",
    "   \n",
    "    #plt.vlines(x=sample_max_x, ymin=0, ymax=sample_max_f,color='b',linestyle='-.')\n",
    "    #plt.text(s='sample max:'+str(sample_max_f[0])+'\\n @'+str(sample_max_x),x=sample_max_x,y=100,c='k',fontsize=12,rotation=45)\n",
    "    #plt.text(s=str(sample_max_x[0]),x=sample_max_x,y=20,c='b',fontsize=12)\n",
    "\n",
    "    ##plt.vlines(x=sample_min_x, ymin=0, ymax=sample_min_f,color='b',linestyle='-.')\n",
    "    #plt.text(s='sample min:'+str(sample_min_f[0])+'\\n @'+str(sample_min_x),x=sample_min_x,y=100,c='k',fontsize=12,rotation=45)\n",
    "    #plt.text(s=str(sample_min_x[0]),x=sample_min_x,y=10,c='b',fontsize=12)\n",
    "\n",
    "    plt.title('Sample size ='+str(N_PILOT)+'+'+str(N_SEQUENTIAL)+'='+str(X_sample.shape[0])+', '+str(len(np.unique(np.array(cluster_label))))+' components.',fontsize=32)\n",
    "    plt.ylabel('Y', fontsize=24)\n",
    "    plt.xlabel('X', fontsize=24)\n",
    "    plt.xlim((0,4097))\n",
    "    plt.ylim((0,35000))\n",
    "    plt.xticks(np.linspace(0, 4096, 9), fontsize=24)\n",
    "    plt.yticks(np.linspace(0, 35000, 6), fontsize=24)\n",
    "    #plt.legend(fontsize=18,loc='lower center')\n",
    "    \n",
    "if bounds.shape[0] == 2:\n",
    "    print('2d plot')\n",
    "    plt.scatter(X_new[:,0],      X_new[:,1],      c=mean_new.ravel(),cmap=colormap, norm=normalize,alpha=1.0,label='overall mean',marker='s',s=200)\n",
    "    plt.scatter(X_sample[:,0],   X_sample[:,1],   c='w',alpha=1.0,label='sequential samples',marker='o',s=200,edgecolors='k')\n",
    "    plt.scatter(X_sample_XY[:,0],X_sample_XY[:,1],c='w',alpha=1.0,label='pilot samples',marker='v',s=200,edgecolors='k')\n",
    "    #plt.scatter(x=x_min[0], y=x_min[1], color='k')\n",
    "    #plt.text(s='model min:'+str(f_min[0])+'\\n @'+str(x_min),x=x_min[0],y=x_min[1],c='k',fontsize=12,rotation=45)\n",
    "\n",
    "    #plt.scatter(x=x_max[0], y=x_max[1], color='k')\n",
    "    #plt.text(s='model max:'+str(f_max[0])+'\\n @'+str(x_max),x=x_max[0],y=x_max[1],c='k',fontsize=12,rotation=45)\n",
    "\n",
    "    #plt.scatter(x=sample_max_x[0], y=sample_max_x[1], color='k')\n",
    "    #plt.text(s='sample max:'+str(sample_max_f[0])+'\\n @'+str(sample_max_x),x=sample_max_x[0],y=sample_max_x[1],c='k',fontsize=12,rotation=45)\n",
    "    #plt.text(s=str(sample_max_x[0]),x=sample_max_x,y=20,c='b',fontsize=12)\n",
    "\n",
    "    #plt.scatter(x=sample_min_x[0], y=sample_min_x[1], color='k')\n",
    "    #plt.text(s='sample min:'+str(sample_min_f[0])+'\\n @'+str(sample_min_x),x=sample_min_x[0],y=sample_min_x[1],c='k',fontsize=12,rotation=45)\n",
    "    #plt.text(s=str(sample_min_x[0]),x=sample_min_x,y=10,c='b',fontsize=12)\n",
    "\n",
    "    plt.scatter(true_max[0],true_max[1],c='k',marker='X',s=500,alpha=.5)#true max\n",
    "    #plt.scatter(-0.1*np.pi,1,c='k',marker='X',s=500,alpha=1.)#true max\n",
    "    plt.scatter(sample_max_x[0],sample_max_x[1],c='g',marker='X',s=500,alpha=.5)#surrogate max\n",
    "    \n",
    "    #plt.title('Sample size ='+str(X_sample.shape[0]),fontsize=24)\n",
    "    plt.xlabel('X1', fontsize=24)\n",
    "    plt.ylabel('X2', fontsize=24)\n",
    "    plt.xlim((-1.1,1.1))\n",
    "    plt.ylim((-1.1,1.1))\n",
    "    plt.xticks(np.linspace(-1, 1, 6), fontsize=24)\n",
    "    plt.yticks(np.linspace(-1, 1, 6), fontsize=24)\n",
    "    #plt.colorbar()\n",
    "    #plt.legend()\n",
    "\n",
    "#plt.ylim((21000,31000))\n",
    "#plt.yticks(ticks=[21000,23000,25000,27000,29000,31000])\n",
    "#plt.clim((true_range[0],true_range[1]))\n",
    "print('sample minimum, f_min=',sample_min_f,' at ',sample_min_x)\n",
    "print('sample maximum, f_max=',sample_max_f,' at ',sample_max_x)\n",
    "print('>>Cluster X_AMPLIFY=',X_AMPLIFY)\n",
    "print('>>Cluster X_TRANSLATE=',X_TRANSLATE)\n",
    "print('>>Cluster Y_AMPLIFY=',Y_AMPLIFY)\n",
    "print('>>Cluster Y_TRANSLATE=',Y_TRANSLATE)\n",
    "\n",
    "print('|f_max-g_max| = ', np.abs(sample_max_f - np.max(mean_new.ravel()) ) )\n",
    "print('|f_min-g_min| = ', np.abs(sample_min_f - np.min(mean_new.ravel()) ) )\n",
    "\n",
    "print('arg_max_f and arg_max_g L2 distance', np.linalg.norm( sample_max_x - true_max ) )\n",
    "#print( np.linalg.norm( sample_max_x - [(-0.1*np.pi,1)] ) )\n",
    "\n",
    "mean_truth = []\n",
    "for k in range(x0grid_ravel.shape[0]):\n",
    "    mean_truth.append( f_truth(x0grid_ravel[k,:].reshape(1,-1)) )\n",
    "print('|f-g|_max = ', np.max(np.abs(mean_truth-mean_new)) )\n",
    "if NO_CLUSTER:\n",
    "    model_str='GP'\n",
    "else:\n",
    "    model_str='cGP, N_COMPONENTS='+str(N_COMPONENTS)\n",
    "plt.title(model_str+ \\\n",
    "          #'\\n |f-g|_max = '+str( np.round( np.abs(np.max(mean_truth-mean_new)),6) )+ \\\n",
    "          #'  |f_max-g_max| = '+str(np.round(,6))+\\\n",
    "          '\\n |f_max-sample_max| = '+str( np.round( np.abs(sample_max_f - true_fmax)[0],6) )+ \\\n",
    "          '\\n |argmax(f)-sample_argmax|_{L2}='+str( np.round( np.linalg.norm( sample_max_x - true_max ),6) ),fontsize=24)\n",
    "\n",
    "\n",
    "#plt.colorbar()\n",
    "#plt.text(.5, .05, 'test', ha='center')\n",
    "\n",
    "plt.show()\n",
    "fig.savefig(FILE_NAME+'.png', dpi=fig.dpi)\n"
   ]
  },
  {
   "cell_type": "code",
   "execution_count": 10,
   "metadata": {},
   "outputs": [
    {
     "name": "stdout",
     "output_type": "stream",
     "text": [
      "|f_max-g_max| =  [0.00701862]\n",
      "|f_min-g_min| =  [0.05666962]\n",
      "arg_max_f and arg_max_g L2 distance 0.08414967043914123\n",
      "|f-g|_max =  0.32077198538244955\n"
     ]
    }
   ],
   "source": [
    "print('|f_max-g_max| = ', np.abs(sample_max_f - np.max(mean_truth) ) )\n",
    "print('|f_min-g_min| = ', np.abs(sample_min_f - np.min(mean_truth) ) )\n",
    "\n",
    "print('arg_max_f and arg_max_g L2 distance', np.linalg.norm( sample_max_x - true_max ) )\n",
    "#print( np.linalg.norm( sample_max_x - [(-0.1*np.pi,1)] ) )\n",
    "\n",
    "mean_truth = []\n",
    "for k in range(x0grid_ravel.shape[0]):\n",
    "    mean_truth.append( f_truth(x0grid_ravel[k,:].reshape(1,-1)) )\n",
    "print('|f-g|_max = ', np.max(np.abs(mean_truth-mean_new)) )"
   ]
  },
  {
   "cell_type": "code",
   "execution_count": 11,
   "metadata": {},
   "outputs": [
    {
     "name": "stdout",
     "output_type": "stream",
     "text": [
      "1\n"
     ]
    },
    {
     "data": {
      "image/png": "[encoded data removed]",
      "text/plain": [
       "<Figure size 864x864 with 1 Axes>"
      ]
     },
     "metadata": {
      "needs_background": "light"
     },
     "output_type": "display_data"
    }
   ],
   "source": [
    "fig = plt.figure(figsize=(12,12))\n",
    "plt.xlabel('X1', fontsize=30)\n",
    "plt.ylabel('X2', fontsize=30)\n",
    "plt.xlim((-1.1,1.1))\n",
    "plt.ylim((-1.1,1.1))\n",
    "plt.scatter(x0grid_ravel[:,0],x0grid_ravel[:,1],c=f_truth(x0grid_ravel),cmap=colormap, norm=normalize,alpha=1.0,s=200)\n",
    "plt.scatter(true_max[0],true_max[1],c='k',marker='X',s=500,alpha=1.)\n",
    "#plt.scatter(0.3*np.pi,1,c='k',marker='X',s=500,alpha=1.)#true max\n",
    "#plt.scatter(-0.1*np.pi,1,c='k',marker='X',s=500,alpha=1.)#true max\n",
    "plt.xticks(np.linspace(-1, 1, 6), fontsize=30)\n",
    "plt.yticks(np.linspace(-1, 1, 6), fontsize=30)\n",
    "plt.clim(true_range[0],true_range[1])\n",
    "plt.title('\\n\\n Objective function\\n ',fontsize=24)\n",
    "#cb = plt.colorbar()\n",
    "#cb.ax.tick_params(labelsize=30)\n",
    "print(1)"
   ]
  },
  {
   "cell_type": "code",
   "execution_count": 12,
   "metadata": {},
   "outputs": [
    {
     "name": "stdout",
     "output_type": "stream",
     "text": [
      "[[-0.14093775 -0.14249758  0.7449106 ]\n",
      " [ 0.46566723  0.38955239  0.95160826]\n",
      " [-0.97475301 -0.57198211  0.30586934]\n",
      " [-0.37031661  0.77534826  0.59782482]\n",
      " [-0.68146998 -0.92611142  0.29909386]\n",
      " [-0.79030457  0.36004841  0.46659596]\n",
      " [-0.60246133 -0.14627701  0.51479532]\n",
      " [-0.2838603   0.13649305  0.75191736]\n",
      " [-0.18144681 -0.70011273  0.46560145]\n",
      " [ 0.10265171 -0.58468363  0.56860841]\n",
      " [ 0.91515403  0.44060656  0.69483831]\n",
      " [ 0.29047736  0.35183088  0.99296862]\n",
      " [ 0.78130325 -0.78419294  0.4226938 ]\n",
      " [ 0.34964296  0.68836473  0.84649597]\n",
      " [ 0.6035769  -0.7744346   0.45517791]\n",
      " [-0.97498176  0.37678446  0.38848634]\n",
      " [-0.68152461  0.19772446  0.52081418]\n",
      " [-0.87507484  0.0909062   0.42472369]\n",
      " [-0.70003235 -0.70233392  0.34549075]\n",
      " [ 0.79163043  0.2664578   0.78933127]\n",
      " [ 0.92399676 -0.08106234  0.64775391]\n",
      " [ 0.79690244 -0.26634709  0.64140348]\n",
      " [ 0.41865457 -0.84888626  0.44042103]\n",
      " [ 0.74507414  0.09677552  0.79958237]\n",
      " [-0.50903321  0.63332378  0.57228344]\n",
      " [-0.52356308  0.44509135  0.59926876]\n",
      " [ 0.1877361   1.01911339  0.63689474]\n",
      " [ 0.23767717  0.15681626  0.98618843]\n",
      " [-0.23481336  0.2785484   0.79363991]\n",
      " [-0.44838822 -0.84896443  0.36056632]\n",
      " [ 0.13832462  0.85032609  0.73719492]\n",
      " [-0.62707042 -0.72822757  0.35606792]\n",
      " [ 0.64399963 -0.2914133   0.68949472]\n",
      " [ 0.00552529  0.21733401  0.92996649]\n",
      " [ 0.2490806  -0.87306807  0.4337922 ]\n",
      " [ 0.17444125  0.27526579  0.98994848]\n",
      " [-0.07323388 -0.21668111  0.73676991]\n",
      " [-0.28828928  0.614391    0.69612094]\n",
      " [ 0.49130329  0.05713664  0.91599135]\n",
      " [ 0.64873564  0.76903668  0.71963777]]\n",
      "[[-0.16595599 -0.16161097  0.7449106 ]\n",
      " [ 0.44064899  0.370439    0.95160826]\n",
      " [-0.99977125 -0.5910955   0.30586934]\n",
      " [-0.39533485  0.75623487  0.59782482]\n",
      " [-0.70648822 -0.94522481  0.29909386]\n",
      " [-0.81532281  0.34093502  0.46659596]\n",
      " [-0.62747958 -0.1653904   0.51479532]\n",
      " [-0.30887855  0.11737966  0.75191736]\n",
      " [-0.20646505 -0.71922612  0.46560145]\n",
      " [ 0.07763347 -0.60379702  0.56860841]\n",
      " [ 0.89013579  0.42149317  0.69483831]\n",
      " [ 0.26545912  0.33271749  0.99296862]\n",
      " [ 0.75628501 -0.80330633  0.4226938 ]\n",
      " [ 0.32462471  0.66925134  0.84649597]\n",
      " [ 0.57855866 -0.79354799  0.45517791]\n",
      " [-1.          0.35767107  0.38848634]\n",
      " [-0.70654285  0.17861107  0.52081418]\n",
      " [-0.90009308  0.07179281  0.42472369]\n",
      " [-0.72505059 -0.72144731  0.34549075]\n",
      " [ 0.76661218  0.24734441  0.78933127]\n",
      " [ 0.89897852 -0.10017573  0.64775391]\n",
      " [ 0.7718842  -0.28546048  0.64140348]\n",
      " [ 0.39363632 -0.86799965  0.44042103]\n",
      " [ 0.7200559   0.07766213  0.79958237]\n",
      " [-0.53405145  0.61421039  0.57228344]\n",
      " [-0.54858132  0.42597796  0.59926876]\n",
      " [ 0.16271785  1.          0.63689474]\n",
      " [ 0.21265892  0.13770287  0.98618843]\n",
      " [-0.2598316   0.25943501  0.79363991]\n",
      " [-0.47340646 -0.86807782  0.36056632]\n",
      " [ 0.11330638  0.8312127   0.73719492]\n",
      " [-0.65208867 -0.74734096  0.35606792]\n",
      " [ 0.61898138 -0.31052669  0.68949472]\n",
      " [-0.01949295  0.19822062  0.92996649]\n",
      " [ 0.22406235 -0.89218146  0.4337922 ]\n",
      " [ 0.14942301  0.2561524   0.98994848]\n",
      " [-0.09825213 -0.2357945   0.73676991]\n",
      " [-0.31330752  0.59527761  0.69612094]\n",
      " [ 0.46628505  0.03802325  0.91599135]\n",
      " [ 0.6237174   0.74992329  0.71963777]]\n"
     ]
    }
   ],
   "source": [
    "print(np.concatenate((X_AMPLIFY*(X_sample-X_TRANSLATE),Y_AMPLIFY*(Y_sample-Y_TRANSLATE).reshape(-1,1)),axis=1))\n",
    "print(np.concatenate((X_sample,Y_AMPLIFY*(Y_sample-0.).reshape(-1,1)),axis=1))"
   ]
  }
 ],
 "metadata": {
  "kernelspec": {
   "display_name": "Python 3",
   "language": "python",
   "name": "python3"
  },
  "language_info": {
   "codemirror_mode": {
    "name": "ipython",
    "version": 3
   },
   "file_extension": ".py",
   "mimetype": "text/x-python",
   "name": "python",
   "nbconvert_exporter": "python",
   "pygments_lexer": "ipython3",
   "version": "3.8.8"
  }
 },
 "nbformat": 4,
 "nbformat_minor": 4
}
